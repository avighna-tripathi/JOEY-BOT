{
  "nbformat": 4,
  "nbformat_minor": 0,
  "metadata": {
    "colab": {
      "provenance": [],
      "gpuType": "T4",
      "authorship_tag": "ABX9TyPxpH3Oj7+4gx/2X45UZ6Zy",
      "include_colab_link": true
    },
    "kernelspec": {
      "name": "python3",
      "display_name": "Python 3"
    },
    "language_info": {
      "name": "python"
    },
    "accelerator": "GPU",
    "widgets": {
      "application/vnd.jupyter.widget-state+json": {
        "a3fca74b3f0048cfa20d8b33d7bc98ce": {
          "model_module": "@jupyter-widgets/controls",
          "model_name": "HBoxModel",
          "model_module_version": "1.5.0",
          "state": {
            "_dom_classes": [],
            "_model_module": "@jupyter-widgets/controls",
            "_model_module_version": "1.5.0",
            "_model_name": "HBoxModel",
            "_view_count": null,
            "_view_module": "@jupyter-widgets/controls",
            "_view_module_version": "1.5.0",
            "_view_name": "HBoxView",
            "box_style": "",
            "children": [
              "IPY_MODEL_cd033c5f50e441e8a3a283009373526a",
              "IPY_MODEL_6baa7fe65f9c43f1b07404447a4a5b1d",
              "IPY_MODEL_75ac5c7881f044c4900eaed43e653dc4"
            ],
            "layout": "IPY_MODEL_c443c4e76b9a49a597069e907b0635cc"
          }
        },
        "cd033c5f50e441e8a3a283009373526a": {
          "model_module": "@jupyter-widgets/controls",
          "model_name": "HTMLModel",
          "model_module_version": "1.5.0",
          "state": {
            "_dom_classes": [],
            "_model_module": "@jupyter-widgets/controls",
            "_model_module_version": "1.5.0",
            "_model_name": "HTMLModel",
            "_view_count": null,
            "_view_module": "@jupyter-widgets/controls",
            "_view_module_version": "1.5.0",
            "_view_name": "HTMLView",
            "description": "",
            "description_tooltip": null,
            "layout": "IPY_MODEL_77c4759e1ce443fa82d2d8dcc46729e0",
            "placeholder": "​",
            "style": "IPY_MODEL_488631d27eba4c3c8438b836889f513e",
            "value": "Evaluating: 100%"
          }
        },
        "6baa7fe65f9c43f1b07404447a4a5b1d": {
          "model_module": "@jupyter-widgets/controls",
          "model_name": "FloatProgressModel",
          "model_module_version": "1.5.0",
          "state": {
            "_dom_classes": [],
            "_model_module": "@jupyter-widgets/controls",
            "_model_module_version": "1.5.0",
            "_model_name": "FloatProgressModel",
            "_view_count": null,
            "_view_module": "@jupyter-widgets/controls",
            "_view_module_version": "1.5.0",
            "_view_name": "ProgressView",
            "bar_style": "success",
            "description": "",
            "description_tooltip": null,
            "layout": "IPY_MODEL_7a46b9fc646e48b6a40aa0f5e4597abc",
            "max": 20,
            "min": 0,
            "orientation": "horizontal",
            "style": "IPY_MODEL_dd9677c00c02479db94dc104bb8c76e1",
            "value": 20
          }
        },
        "75ac5c7881f044c4900eaed43e653dc4": {
          "model_module": "@jupyter-widgets/controls",
          "model_name": "HTMLModel",
          "model_module_version": "1.5.0",
          "state": {
            "_dom_classes": [],
            "_model_module": "@jupyter-widgets/controls",
            "_model_module_version": "1.5.0",
            "_model_name": "HTMLModel",
            "_view_count": null,
            "_view_module": "@jupyter-widgets/controls",
            "_view_module_version": "1.5.0",
            "_view_name": "HTMLView",
            "description": "",
            "description_tooltip": null,
            "layout": "IPY_MODEL_07030cfe137c442480ff5721d708a69a",
            "placeholder": "​",
            "style": "IPY_MODEL_a53f90e67ce14421b8bbfa82330666e8",
            "value": " 20/20 [00:06&lt;00:00,  3.33it/s]"
          }
        },
        "c443c4e76b9a49a597069e907b0635cc": {
          "model_module": "@jupyter-widgets/base",
          "model_name": "LayoutModel",
          "model_module_version": "1.2.0",
          "state": {
            "_model_module": "@jupyter-widgets/base",
            "_model_module_version": "1.2.0",
            "_model_name": "LayoutModel",
            "_view_count": null,
            "_view_module": "@jupyter-widgets/base",
            "_view_module_version": "1.2.0",
            "_view_name": "LayoutView",
            "align_content": null,
            "align_items": null,
            "align_self": null,
            "border": null,
            "bottom": null,
            "display": null,
            "flex": null,
            "flex_flow": null,
            "grid_area": null,
            "grid_auto_columns": null,
            "grid_auto_flow": null,
            "grid_auto_rows": null,
            "grid_column": null,
            "grid_gap": null,
            "grid_row": null,
            "grid_template_areas": null,
            "grid_template_columns": null,
            "grid_template_rows": null,
            "height": null,
            "justify_content": null,
            "justify_items": null,
            "left": null,
            "margin": null,
            "max_height": null,
            "max_width": null,
            "min_height": null,
            "min_width": null,
            "object_fit": null,
            "object_position": null,
            "order": null,
            "overflow": null,
            "overflow_x": null,
            "overflow_y": null,
            "padding": null,
            "right": null,
            "top": null,
            "visibility": null,
            "width": null
          }
        },
        "77c4759e1ce443fa82d2d8dcc46729e0": {
          "model_module": "@jupyter-widgets/base",
          "model_name": "LayoutModel",
          "model_module_version": "1.2.0",
          "state": {
            "_model_module": "@jupyter-widgets/base",
            "_model_module_version": "1.2.0",
            "_model_name": "LayoutModel",
            "_view_count": null,
            "_view_module": "@jupyter-widgets/base",
            "_view_module_version": "1.2.0",
            "_view_name": "LayoutView",
            "align_content": null,
            "align_items": null,
            "align_self": null,
            "border": null,
            "bottom": null,
            "display": null,
            "flex": null,
            "flex_flow": null,
            "grid_area": null,
            "grid_auto_columns": null,
            "grid_auto_flow": null,
            "grid_auto_rows": null,
            "grid_column": null,
            "grid_gap": null,
            "grid_row": null,
            "grid_template_areas": null,
            "grid_template_columns": null,
            "grid_template_rows": null,
            "height": null,
            "justify_content": null,
            "justify_items": null,
            "left": null,
            "margin": null,
            "max_height": null,
            "max_width": null,
            "min_height": null,
            "min_width": null,
            "object_fit": null,
            "object_position": null,
            "order": null,
            "overflow": null,
            "overflow_x": null,
            "overflow_y": null,
            "padding": null,
            "right": null,
            "top": null,
            "visibility": null,
            "width": null
          }
        },
        "488631d27eba4c3c8438b836889f513e": {
          "model_module": "@jupyter-widgets/controls",
          "model_name": "DescriptionStyleModel",
          "model_module_version": "1.5.0",
          "state": {
            "_model_module": "@jupyter-widgets/controls",
            "_model_module_version": "1.5.0",
            "_model_name": "DescriptionStyleModel",
            "_view_count": null,
            "_view_module": "@jupyter-widgets/base",
            "_view_module_version": "1.2.0",
            "_view_name": "StyleView",
            "description_width": ""
          }
        },
        "7a46b9fc646e48b6a40aa0f5e4597abc": {
          "model_module": "@jupyter-widgets/base",
          "model_name": "LayoutModel",
          "model_module_version": "1.2.0",
          "state": {
            "_model_module": "@jupyter-widgets/base",
            "_model_module_version": "1.2.0",
            "_model_name": "LayoutModel",
            "_view_count": null,
            "_view_module": "@jupyter-widgets/base",
            "_view_module_version": "1.2.0",
            "_view_name": "LayoutView",
            "align_content": null,
            "align_items": null,
            "align_self": null,
            "border": null,
            "bottom": null,
            "display": null,
            "flex": null,
            "flex_flow": null,
            "grid_area": null,
            "grid_auto_columns": null,
            "grid_auto_flow": null,
            "grid_auto_rows": null,
            "grid_column": null,
            "grid_gap": null,
            "grid_row": null,
            "grid_template_areas": null,
            "grid_template_columns": null,
            "grid_template_rows": null,
            "height": null,
            "justify_content": null,
            "justify_items": null,
            "left": null,
            "margin": null,
            "max_height": null,
            "max_width": null,
            "min_height": null,
            "min_width": null,
            "object_fit": null,
            "object_position": null,
            "order": null,
            "overflow": null,
            "overflow_x": null,
            "overflow_y": null,
            "padding": null,
            "right": null,
            "top": null,
            "visibility": null,
            "width": null
          }
        },
        "dd9677c00c02479db94dc104bb8c76e1": {
          "model_module": "@jupyter-widgets/controls",
          "model_name": "ProgressStyleModel",
          "model_module_version": "1.5.0",
          "state": {
            "_model_module": "@jupyter-widgets/controls",
            "_model_module_version": "1.5.0",
            "_model_name": "ProgressStyleModel",
            "_view_count": null,
            "_view_module": "@jupyter-widgets/base",
            "_view_module_version": "1.2.0",
            "_view_name": "StyleView",
            "bar_color": null,
            "description_width": ""
          }
        },
        "07030cfe137c442480ff5721d708a69a": {
          "model_module": "@jupyter-widgets/base",
          "model_name": "LayoutModel",
          "model_module_version": "1.2.0",
          "state": {
            "_model_module": "@jupyter-widgets/base",
            "_model_module_version": "1.2.0",
            "_model_name": "LayoutModel",
            "_view_count": null,
            "_view_module": "@jupyter-widgets/base",
            "_view_module_version": "1.2.0",
            "_view_name": "LayoutView",
            "align_content": null,
            "align_items": null,
            "align_self": null,
            "border": null,
            "bottom": null,
            "display": null,
            "flex": null,
            "flex_flow": null,
            "grid_area": null,
            "grid_auto_columns": null,
            "grid_auto_flow": null,
            "grid_auto_rows": null,
            "grid_column": null,
            "grid_gap": null,
            "grid_row": null,
            "grid_template_areas": null,
            "grid_template_columns": null,
            "grid_template_rows": null,
            "height": null,
            "justify_content": null,
            "justify_items": null,
            "left": null,
            "margin": null,
            "max_height": null,
            "max_width": null,
            "min_height": null,
            "min_width": null,
            "object_fit": null,
            "object_position": null,
            "order": null,
            "overflow": null,
            "overflow_x": null,
            "overflow_y": null,
            "padding": null,
            "right": null,
            "top": null,
            "visibility": null,
            "width": null
          }
        },
        "a53f90e67ce14421b8bbfa82330666e8": {
          "model_module": "@jupyter-widgets/controls",
          "model_name": "DescriptionStyleModel",
          "model_module_version": "1.5.0",
          "state": {
            "_model_module": "@jupyter-widgets/controls",
            "_model_module_version": "1.5.0",
            "_model_name": "DescriptionStyleModel",
            "_view_count": null,
            "_view_module": "@jupyter-widgets/base",
            "_view_module_version": "1.2.0",
            "_view_name": "StyleView",
            "description_width": ""
          }
        }
      }
    }
  },
  "cells": [
    {
      "cell_type": "markdown",
      "metadata": {
        "id": "view-in-github",
        "colab_type": "text"
      },
      "source": [
        "<a href=\"https://colab.research.google.com/github/avighna-tripathi/JOEY-BOT/blob/main/JOEY_BOT.ipynb\" target=\"_parent\"><img src=\"https://colab.research.google.com/assets/colab-badge.svg\" alt=\"Open In Colab\"/></a>"
      ]
    },
    {
      "cell_type": "code",
      "execution_count": 1,
      "metadata": {
        "id": "sjwxjYTvKDdB"
      },
      "outputs": [],
      "source": [
        "import os\n",
        "import re\n",
        "import random\n",
        "\n",
        "dialogues = []\n",
        "\n",
        "def strip_parentheses(s):\n",
        "    return re.sub(r'\\(.*?\\)', '', s)\n",
        "\n",
        "def is_character_line(line, character_name):\n",
        "    # Use a case-insensitive regex pattern to match the character name followed by a colon\n",
        "    pattern = re.compile(rf'^{character_name}:\\s', re.IGNORECASE)\n",
        "    return bool(pattern.match(line))\n",
        "\n",
        "def extract_character_lines(file_path, character_name):\n",
        "    lines = []\n",
        "    with open(file_path, 'r', encoding='utf-8', errors='ignore') as script_file:\n",
        "        try:\n",
        "            lines = script_file.readlines()\n",
        "        except UnicodeDecodeError:\n",
        "            pass\n",
        "\n",
        "    current_character = ''\n",
        "    for line in lines:\n",
        "        stripped_line = line.strip()\n",
        "        if is_character_line(stripped_line, character_name):\n",
        "            current_character = character_name\n",
        "            dialog_line = strip_parentheses(stripped_line.split(':', 1)[1]).strip()\n",
        "            if len(dialog_line) > 0:\n",
        "                dialogues.append(dialog_line)\n",
        "        elif current_character.lower() == character_name.lower() and stripped_line:\n",
        "            dialog_line = strip_parentheses(stripped_line).strip()\n",
        "            if len(dialog_line) > 0:\n",
        "                dialogues.append(dialog_line)\n",
        "        else:\n",
        "            current_character = ''\n",
        "\n",
        "def process_directory(directory_path, character_name):\n",
        "    for filename in os.listdir(directory_path):\n",
        "        file_path = os.path.join(directory_path, filename)\n",
        "        if os.path.isfile(file_path):  # Ignore directories\n",
        "            extract_character_lines(file_path, character_name)\n"
      ]
    },
    {
      "cell_type": "code",
      "source": [
        "process_directory(\"./sample_data/friends\",'Joey')"
      ],
      "metadata": {
        "id": "ls3zAWlQKc5P"
      },
      "execution_count": 3,
      "outputs": []
    },
    {
      "cell_type": "code",
      "source": [
        "print(len(dialogues))"
      ],
      "metadata": {
        "colab": {
          "base_uri": "https://localhost:8080/"
        },
        "id": "k5O2BJYOLECX",
        "outputId": "fbadb670-2189-457f-dd63-0ef18d58c1be"
      },
      "execution_count": 4,
      "outputs": [
        {
          "output_type": "stream",
          "name": "stdout",
          "text": [
            "814\n"
          ]
        }
      ]
    },
    {
      "cell_type": "code",
      "source": [
        "!pip install openai --upgrade"
      ],
      "metadata": {
        "colab": {
          "base_uri": "https://localhost:8080/"
        },
        "id": "lu2AIQrELJoa",
        "outputId": "03a285d6-67d0-4218-a02b-ab1729789975"
      },
      "execution_count": 5,
      "outputs": [
        {
          "output_type": "stream",
          "name": "stdout",
          "text": [
            "Collecting openai\n",
            "  Downloading openai-1.35.10-py3-none-any.whl (328 kB)\n",
            "\u001b[?25l     \u001b[90m━━━━━━━━━━━━━━━━━━━━━━━━━━━━━━━━━━━━━━━━\u001b[0m \u001b[32m0.0/328.3 kB\u001b[0m \u001b[31m?\u001b[0m eta \u001b[36m-:--:--\u001b[0m\r\u001b[2K     \u001b[91m━━━━━━━━━━━━━━━━━━━━━━━\u001b[0m\u001b[91m╸\u001b[0m\u001b[90m━━━━━━━━━━━━━━━━\u001b[0m \u001b[32m194.6/328.3 kB\u001b[0m \u001b[31m5.6 MB/s\u001b[0m eta \u001b[36m0:00:01\u001b[0m\r\u001b[2K     \u001b[90m━━━━━━━━━━━━━━━━━━━━━━━━━━━━━━━━━━━━━━━━\u001b[0m \u001b[32m328.3/328.3 kB\u001b[0m \u001b[31m5.8 MB/s\u001b[0m eta \u001b[36m0:00:00\u001b[0m\n",
            "\u001b[?25hRequirement already satisfied: anyio<5,>=3.5.0 in /usr/local/lib/python3.10/dist-packages (from openai) (3.7.1)\n",
            "Requirement already satisfied: distro<2,>=1.7.0 in /usr/lib/python3/dist-packages (from openai) (1.7.0)\n",
            "Collecting httpx<1,>=0.23.0 (from openai)\n",
            "  Downloading httpx-0.27.0-py3-none-any.whl (75 kB)\n",
            "\u001b[2K     \u001b[90m━━━━━━━━━━━━━━━━━━━━━━━━━━━━━━━━━━━━━━━━\u001b[0m \u001b[32m75.6/75.6 kB\u001b[0m \u001b[31m5.1 MB/s\u001b[0m eta \u001b[36m0:00:00\u001b[0m\n",
            "\u001b[?25hRequirement already satisfied: pydantic<3,>=1.9.0 in /usr/local/lib/python3.10/dist-packages (from openai) (2.8.0)\n",
            "Requirement already satisfied: sniffio in /usr/local/lib/python3.10/dist-packages (from openai) (1.3.1)\n",
            "Requirement already satisfied: tqdm>4 in /usr/local/lib/python3.10/dist-packages (from openai) (4.66.4)\n",
            "Requirement already satisfied: typing-extensions<5,>=4.7 in /usr/local/lib/python3.10/dist-packages (from openai) (4.12.2)\n",
            "Requirement already satisfied: idna>=2.8 in /usr/local/lib/python3.10/dist-packages (from anyio<5,>=3.5.0->openai) (3.7)\n",
            "Requirement already satisfied: exceptiongroup in /usr/local/lib/python3.10/dist-packages (from anyio<5,>=3.5.0->openai) (1.2.1)\n",
            "Requirement already satisfied: certifi in /usr/local/lib/python3.10/dist-packages (from httpx<1,>=0.23.0->openai) (2024.6.2)\n",
            "Collecting httpcore==1.* (from httpx<1,>=0.23.0->openai)\n",
            "  Downloading httpcore-1.0.5-py3-none-any.whl (77 kB)\n",
            "\u001b[2K     \u001b[90m━━━━━━━━━━━━━━━━━━━━━━━━━━━━━━━━━━━━━━━━\u001b[0m \u001b[32m77.9/77.9 kB\u001b[0m \u001b[31m8.1 MB/s\u001b[0m eta \u001b[36m0:00:00\u001b[0m\n",
            "\u001b[?25hCollecting h11<0.15,>=0.13 (from httpcore==1.*->httpx<1,>=0.23.0->openai)\n",
            "  Downloading h11-0.14.0-py3-none-any.whl (58 kB)\n",
            "\u001b[2K     \u001b[90m━━━━━━━━━━━━━━━━━━━━━━━━━━━━━━━━━━━━━━━━\u001b[0m \u001b[32m58.3/58.3 kB\u001b[0m \u001b[31m8.5 MB/s\u001b[0m eta \u001b[36m0:00:00\u001b[0m\n",
            "\u001b[?25hRequirement already satisfied: annotated-types>=0.4.0 in /usr/local/lib/python3.10/dist-packages (from pydantic<3,>=1.9.0->openai) (0.7.0)\n",
            "Requirement already satisfied: pydantic-core==2.20.0 in /usr/local/lib/python3.10/dist-packages (from pydantic<3,>=1.9.0->openai) (2.20.0)\n",
            "Installing collected packages: h11, httpcore, httpx, openai\n",
            "Successfully installed h11-0.14.0 httpcore-1.0.5 httpx-0.27.0 openai-1.35.10\n"
          ]
        }
      ]
    },
    {
      "cell_type": "code",
      "source": [
        "!pip install ragas langchain_openai"
      ],
      "metadata": {
        "colab": {
          "base_uri": "https://localhost:8080/"
        },
        "id": "jQOqv2zoO8xc",
        "outputId": "8ced4c46-1b62-4de9-b455-f4457da79f72"
      },
      "execution_count": 6,
      "outputs": [
        {
          "output_type": "stream",
          "name": "stdout",
          "text": [
            "Collecting ragas\n",
            "  Downloading ragas-0.1.10-py3-none-any.whl (91 kB)\n",
            "\u001b[2K     \u001b[90m━━━━━━━━━━━━━━━━━━━━━━━━━━━━━━━━━━━━━━━━\u001b[0m \u001b[32m91.5/91.5 kB\u001b[0m \u001b[31m2.9 MB/s\u001b[0m eta \u001b[36m0:00:00\u001b[0m\n",
            "\u001b[?25hCollecting langchain_openai\n",
            "  Downloading langchain_openai-0.1.14-py3-none-any.whl (45 kB)\n",
            "\u001b[2K     \u001b[90m━━━━━━━━━━━━━━━━━━━━━━━━━━━━━━━━━━━━━━━━\u001b[0m \u001b[32m45.9/45.9 kB\u001b[0m \u001b[31m6.6 MB/s\u001b[0m eta \u001b[36m0:00:00\u001b[0m\n",
            "\u001b[?25hRequirement already satisfied: numpy in /usr/local/lib/python3.10/dist-packages (from ragas) (1.25.2)\n",
            "Collecting datasets (from ragas)\n",
            "  Downloading datasets-2.20.0-py3-none-any.whl (547 kB)\n",
            "\u001b[2K     \u001b[90m━━━━━━━━━━━━━━━━━━━━━━━━━━━━━━━━━━━━━━━━\u001b[0m \u001b[32m547.8/547.8 kB\u001b[0m \u001b[31m8.9 MB/s\u001b[0m eta \u001b[36m0:00:00\u001b[0m\n",
            "\u001b[?25hCollecting tiktoken (from ragas)\n",
            "  Downloading tiktoken-0.7.0-cp310-cp310-manylinux_2_17_x86_64.manylinux2014_x86_64.whl (1.1 MB)\n",
            "\u001b[2K     \u001b[90m━━━━━━━━━━━━━━━━━━━━━━━━━━━━━━━━━━━━━━━━\u001b[0m \u001b[32m1.1/1.1 MB\u001b[0m \u001b[31m12.7 MB/s\u001b[0m eta \u001b[36m0:00:00\u001b[0m\n",
            "\u001b[?25hCollecting langchain (from ragas)\n",
            "  Downloading langchain-0.2.6-py3-none-any.whl (975 kB)\n",
            "\u001b[2K     \u001b[90m━━━━━━━━━━━━━━━━━━━━━━━━━━━━━━━━━━━━━━━━\u001b[0m \u001b[32m975.5/975.5 kB\u001b[0m \u001b[31m17.2 MB/s\u001b[0m eta \u001b[36m0:00:00\u001b[0m\n",
            "\u001b[?25hCollecting langchain-core (from ragas)\n",
            "  Downloading langchain_core-0.2.11-py3-none-any.whl (337 kB)\n",
            "\u001b[2K     \u001b[90m━━━━━━━━━━━━━━━━━━━━━━━━━━━━━━━━━━━━━━━━\u001b[0m \u001b[32m337.4/337.4 kB\u001b[0m \u001b[31m18.7 MB/s\u001b[0m eta \u001b[36m0:00:00\u001b[0m\n",
            "\u001b[?25hCollecting langchain-community (from ragas)\n",
            "  Downloading langchain_community-0.2.6-py3-none-any.whl (2.2 MB)\n",
            "\u001b[2K     \u001b[90m━━━━━━━━━━━━━━━━━━━━━━━━━━━━━━━━━━━━━━━━\u001b[0m \u001b[32m2.2/2.2 MB\u001b[0m \u001b[31m26.6 MB/s\u001b[0m eta \u001b[36m0:00:00\u001b[0m\n",
            "\u001b[?25hRequirement already satisfied: openai>1 in /usr/local/lib/python3.10/dist-packages (from ragas) (1.35.10)\n",
            "Collecting pysbd>=0.3.4 (from ragas)\n",
            "  Downloading pysbd-0.3.4-py3-none-any.whl (71 kB)\n",
            "\u001b[2K     \u001b[90m━━━━━━━━━━━━━━━━━━━━━━━━━━━━━━━━━━━━━━━━\u001b[0m \u001b[32m71.1/71.1 kB\u001b[0m \u001b[31m10.7 MB/s\u001b[0m eta \u001b[36m0:00:00\u001b[0m\n",
            "\u001b[?25hRequirement already satisfied: nest-asyncio in /usr/local/lib/python3.10/dist-packages (from ragas) (1.6.0)\n",
            "Collecting appdirs (from ragas)\n",
            "  Downloading appdirs-1.4.4-py2.py3-none-any.whl (9.6 kB)\n",
            "Requirement already satisfied: PyYAML>=5.3 in /usr/local/lib/python3.10/dist-packages (from langchain-core->ragas) (6.0.1)\n",
            "Collecting jsonpatch<2.0,>=1.33 (from langchain-core->ragas)\n",
            "  Downloading jsonpatch-1.33-py2.py3-none-any.whl (12 kB)\n",
            "Collecting langsmith<0.2.0,>=0.1.75 (from langchain-core->ragas)\n",
            "  Downloading langsmith-0.1.83-py3-none-any.whl (127 kB)\n",
            "\u001b[2K     \u001b[90m━━━━━━━━━━━━━━━━━━━━━━━━━━━━━━━━━━━━━━━━\u001b[0m \u001b[32m127.5/127.5 kB\u001b[0m \u001b[31m19.4 MB/s\u001b[0m eta \u001b[36m0:00:00\u001b[0m\n",
            "\u001b[?25hRequirement already satisfied: packaging<25,>=23.2 in /usr/local/lib/python3.10/dist-packages (from langchain-core->ragas) (24.1)\n",
            "Requirement already satisfied: pydantic<3,>=1 in /usr/local/lib/python3.10/dist-packages (from langchain-core->ragas) (2.8.0)\n",
            "Requirement already satisfied: tenacity!=8.4.0,<9.0.0,>=8.1.0 in /usr/local/lib/python3.10/dist-packages (from langchain-core->ragas) (8.4.2)\n",
            "Requirement already satisfied: anyio<5,>=3.5.0 in /usr/local/lib/python3.10/dist-packages (from openai>1->ragas) (3.7.1)\n",
            "Requirement already satisfied: distro<2,>=1.7.0 in /usr/lib/python3/dist-packages (from openai>1->ragas) (1.7.0)\n",
            "Requirement already satisfied: httpx<1,>=0.23.0 in /usr/local/lib/python3.10/dist-packages (from openai>1->ragas) (0.27.0)\n",
            "Requirement already satisfied: sniffio in /usr/local/lib/python3.10/dist-packages (from openai>1->ragas) (1.3.1)\n",
            "Requirement already satisfied: tqdm>4 in /usr/local/lib/python3.10/dist-packages (from openai>1->ragas) (4.66.4)\n",
            "Requirement already satisfied: typing-extensions<5,>=4.7 in /usr/local/lib/python3.10/dist-packages (from openai>1->ragas) (4.12.2)\n",
            "Requirement already satisfied: regex>=2022.1.18 in /usr/local/lib/python3.10/dist-packages (from tiktoken->ragas) (2024.5.15)\n",
            "Requirement already satisfied: requests>=2.26.0 in /usr/local/lib/python3.10/dist-packages (from tiktoken->ragas) (2.31.0)\n",
            "Requirement already satisfied: filelock in /usr/local/lib/python3.10/dist-packages (from datasets->ragas) (3.15.4)\n",
            "Collecting pyarrow>=15.0.0 (from datasets->ragas)\n",
            "  Downloading pyarrow-16.1.0-cp310-cp310-manylinux_2_28_x86_64.whl (40.8 MB)\n",
            "\u001b[2K     \u001b[90m━━━━━━━━━━━━━━━━━━━━━━━━━━━━━━━━━━━━━━━━\u001b[0m \u001b[32m40.8/40.8 MB\u001b[0m \u001b[31m13.9 MB/s\u001b[0m eta \u001b[36m0:00:00\u001b[0m\n",
            "\u001b[?25hRequirement already satisfied: pyarrow-hotfix in /usr/local/lib/python3.10/dist-packages (from datasets->ragas) (0.6)\n",
            "Collecting dill<0.3.9,>=0.3.0 (from datasets->ragas)\n",
            "  Downloading dill-0.3.8-py3-none-any.whl (116 kB)\n",
            "\u001b[2K     \u001b[90m━━━━━━━━━━━━━━━━━━━━━━━━━━━━━━━━━━━━━━━━\u001b[0m \u001b[32m116.3/116.3 kB\u001b[0m \u001b[31m17.3 MB/s\u001b[0m eta \u001b[36m0:00:00\u001b[0m\n",
            "\u001b[?25hRequirement already satisfied: pandas in /usr/local/lib/python3.10/dist-packages (from datasets->ragas) (2.0.3)\n",
            "Collecting requests>=2.26.0 (from tiktoken->ragas)\n",
            "  Downloading requests-2.32.3-py3-none-any.whl (64 kB)\n",
            "\u001b[2K     \u001b[90m━━━━━━━━━━━━━━━━━━━━━━━━━━━━━━━━━━━━━━━━\u001b[0m \u001b[32m64.9/64.9 kB\u001b[0m \u001b[31m7.7 MB/s\u001b[0m eta \u001b[36m0:00:00\u001b[0m\n",
            "\u001b[?25hCollecting xxhash (from datasets->ragas)\n",
            "  Downloading xxhash-3.4.1-cp310-cp310-manylinux_2_17_x86_64.manylinux2014_x86_64.whl (194 kB)\n",
            "\u001b[2K     \u001b[90m━━━━━━━━━━━━━━━━━━━━━━━━━━━━━━━━━━━━━━━━\u001b[0m \u001b[32m194.1/194.1 kB\u001b[0m \u001b[31m25.8 MB/s\u001b[0m eta \u001b[36m0:00:00\u001b[0m\n",
            "\u001b[?25hCollecting multiprocess (from datasets->ragas)\n",
            "  Downloading multiprocess-0.70.16-py310-none-any.whl (134 kB)\n",
            "\u001b[2K     \u001b[90m━━━━━━━━━━━━━━━━━━━━━━━━━━━━━━━━━━━━━━━━\u001b[0m \u001b[32m134.8/134.8 kB\u001b[0m \u001b[31m14.9 MB/s\u001b[0m eta \u001b[36m0:00:00\u001b[0m\n",
            "\u001b[?25hRequirement already satisfied: fsspec[http]<=2024.5.0,>=2023.1.0 in /usr/local/lib/python3.10/dist-packages (from datasets->ragas) (2023.6.0)\n",
            "Requirement already satisfied: aiohttp in /usr/local/lib/python3.10/dist-packages (from datasets->ragas) (3.9.5)\n",
            "Requirement already satisfied: huggingface-hub>=0.21.2 in /usr/local/lib/python3.10/dist-packages (from datasets->ragas) (0.23.4)\n",
            "Requirement already satisfied: SQLAlchemy<3,>=1.4 in /usr/local/lib/python3.10/dist-packages (from langchain->ragas) (2.0.31)\n",
            "Requirement already satisfied: async-timeout<5.0.0,>=4.0.0 in /usr/local/lib/python3.10/dist-packages (from langchain->ragas) (4.0.3)\n",
            "Collecting langchain-text-splitters<0.3.0,>=0.2.0 (from langchain->ragas)\n",
            "  Downloading langchain_text_splitters-0.2.2-py3-none-any.whl (25 kB)\n",
            "Collecting dataclasses-json<0.7,>=0.5.7 (from langchain-community->ragas)\n",
            "  Downloading dataclasses_json-0.6.7-py3-none-any.whl (28 kB)\n",
            "Requirement already satisfied: aiosignal>=1.1.2 in /usr/local/lib/python3.10/dist-packages (from aiohttp->datasets->ragas) (1.3.1)\n",
            "Requirement already satisfied: attrs>=17.3.0 in /usr/local/lib/python3.10/dist-packages (from aiohttp->datasets->ragas) (23.2.0)\n",
            "Requirement already satisfied: frozenlist>=1.1.1 in /usr/local/lib/python3.10/dist-packages (from aiohttp->datasets->ragas) (1.4.1)\n",
            "Requirement already satisfied: multidict<7.0,>=4.5 in /usr/local/lib/python3.10/dist-packages (from aiohttp->datasets->ragas) (6.0.5)\n",
            "Requirement already satisfied: yarl<2.0,>=1.0 in /usr/local/lib/python3.10/dist-packages (from aiohttp->datasets->ragas) (1.9.4)\n",
            "Requirement already satisfied: idna>=2.8 in /usr/local/lib/python3.10/dist-packages (from anyio<5,>=3.5.0->openai>1->ragas) (3.7)\n",
            "Requirement already satisfied: exceptiongroup in /usr/local/lib/python3.10/dist-packages (from anyio<5,>=3.5.0->openai>1->ragas) (1.2.1)\n",
            "Collecting marshmallow<4.0.0,>=3.18.0 (from dataclasses-json<0.7,>=0.5.7->langchain-community->ragas)\n",
            "  Downloading marshmallow-3.21.3-py3-none-any.whl (49 kB)\n",
            "\u001b[2K     \u001b[90m━━━━━━━━━━━━━━━━━━━━━━━━━━━━━━━━━━━━━━━━\u001b[0m \u001b[32m49.2/49.2 kB\u001b[0m \u001b[31m8.1 MB/s\u001b[0m eta \u001b[36m0:00:00\u001b[0m\n",
            "\u001b[?25hCollecting typing-inspect<1,>=0.4.0 (from dataclasses-json<0.7,>=0.5.7->langchain-community->ragas)\n",
            "  Downloading typing_inspect-0.9.0-py3-none-any.whl (8.8 kB)\n",
            "Requirement already satisfied: certifi in /usr/local/lib/python3.10/dist-packages (from httpx<1,>=0.23.0->openai>1->ragas) (2024.6.2)\n",
            "Requirement already satisfied: httpcore==1.* in /usr/local/lib/python3.10/dist-packages (from httpx<1,>=0.23.0->openai>1->ragas) (1.0.5)\n",
            "Requirement already satisfied: h11<0.15,>=0.13 in /usr/local/lib/python3.10/dist-packages (from httpcore==1.*->httpx<1,>=0.23.0->openai>1->ragas) (0.14.0)\n",
            "Collecting jsonpointer>=1.9 (from jsonpatch<2.0,>=1.33->langchain-core->ragas)\n",
            "  Downloading jsonpointer-3.0.0-py2.py3-none-any.whl (7.6 kB)\n",
            "Collecting orjson<4.0.0,>=3.9.14 (from langsmith<0.2.0,>=0.1.75->langchain-core->ragas)\n",
            "  Downloading orjson-3.10.6-cp310-cp310-manylinux_2_17_x86_64.manylinux2014_x86_64.whl (141 kB)\n",
            "\u001b[2K     \u001b[90m━━━━━━━━━━━━━━━━━━━━━━━━━━━━━━━━━━━━━━━━\u001b[0m \u001b[32m141.1/141.1 kB\u001b[0m \u001b[31m20.5 MB/s\u001b[0m eta \u001b[36m0:00:00\u001b[0m\n",
            "\u001b[?25hRequirement already satisfied: annotated-types>=0.4.0 in /usr/local/lib/python3.10/dist-packages (from pydantic<3,>=1->langchain-core->ragas) (0.7.0)\n",
            "Requirement already satisfied: pydantic-core==2.20.0 in /usr/local/lib/python3.10/dist-packages (from pydantic<3,>=1->langchain-core->ragas) (2.20.0)\n",
            "Requirement already satisfied: charset-normalizer<4,>=2 in /usr/local/lib/python3.10/dist-packages (from requests>=2.26.0->tiktoken->ragas) (3.3.2)\n",
            "Requirement already satisfied: urllib3<3,>=1.21.1 in /usr/local/lib/python3.10/dist-packages (from requests>=2.26.0->tiktoken->ragas) (2.0.7)\n",
            "Requirement already satisfied: greenlet!=0.4.17 in /usr/local/lib/python3.10/dist-packages (from SQLAlchemy<3,>=1.4->langchain->ragas) (3.0.3)\n",
            "Requirement already satisfied: python-dateutil>=2.8.2 in /usr/local/lib/python3.10/dist-packages (from pandas->datasets->ragas) (2.8.2)\n",
            "Requirement already satisfied: pytz>=2020.1 in /usr/local/lib/python3.10/dist-packages (from pandas->datasets->ragas) (2023.4)\n",
            "Requirement already satisfied: tzdata>=2022.1 in /usr/local/lib/python3.10/dist-packages (from pandas->datasets->ragas) (2024.1)\n",
            "Requirement already satisfied: six>=1.5 in /usr/local/lib/python3.10/dist-packages (from python-dateutil>=2.8.2->pandas->datasets->ragas) (1.16.0)\n",
            "Collecting mypy-extensions>=0.3.0 (from typing-inspect<1,>=0.4.0->dataclasses-json<0.7,>=0.5.7->langchain-community->ragas)\n",
            "  Downloading mypy_extensions-1.0.0-py3-none-any.whl (4.7 kB)\n",
            "Installing collected packages: appdirs, xxhash, requests, pysbd, pyarrow, orjson, mypy-extensions, marshmallow, jsonpointer, dill, typing-inspect, tiktoken, multiprocess, jsonpatch, langsmith, dataclasses-json, langchain-core, datasets, langchain-text-splitters, langchain_openai, langchain, langchain-community, ragas\n",
            "  Attempting uninstall: requests\n",
            "    Found existing installation: requests 2.31.0\n",
            "    Uninstalling requests-2.31.0:\n",
            "      Successfully uninstalled requests-2.31.0\n",
            "  Attempting uninstall: pyarrow\n",
            "    Found existing installation: pyarrow 14.0.2\n",
            "    Uninstalling pyarrow-14.0.2:\n",
            "      Successfully uninstalled pyarrow-14.0.2\n",
            "\u001b[31mERROR: pip's dependency resolver does not currently take into account all the packages that are installed. This behaviour is the source of the following dependency conflicts.\n",
            "cudf-cu12 24.4.1 requires pyarrow<15.0.0a0,>=14.0.1, but you have pyarrow 16.1.0 which is incompatible.\n",
            "google-colab 1.0.0 requires requests==2.31.0, but you have requests 2.32.3 which is incompatible.\n",
            "ibis-framework 8.0.0 requires pyarrow<16,>=2, but you have pyarrow 16.1.0 which is incompatible.\u001b[0m\u001b[31m\n",
            "\u001b[0mSuccessfully installed appdirs-1.4.4 dataclasses-json-0.6.7 datasets-2.20.0 dill-0.3.8 jsonpatch-1.33 jsonpointer-3.0.0 langchain-0.2.6 langchain-community-0.2.6 langchain-core-0.2.11 langchain-text-splitters-0.2.2 langchain_openai-0.1.14 langsmith-0.1.83 marshmallow-3.21.3 multiprocess-0.70.16 mypy-extensions-1.0.0 orjson-3.10.6 pyarrow-16.1.0 pysbd-0.3.4 ragas-0.1.10 requests-2.32.3 tiktoken-0.7.0 typing-inspect-0.9.0 xxhash-3.4.1\n"
          ]
        }
      ]
    },
    {
      "cell_type": "code",
      "source": [
        "import openai\n",
        "from google.colab import userdata\n",
        "api_key = userdata.get('OPENAI_API_KEY')\n",
        "\n",
        "openai.api_key=api_key"
      ],
      "metadata": {
        "id": "zR2sE3DRPGU2"
      },
      "execution_count": 7,
      "outputs": []
    },
    {
      "cell_type": "code",
      "source": [
        "with open(\"./sample_data/joey_lines.txt\",\"w+\") as f:\n",
        "  for line in dialogues:\n",
        "    f.write(line + \"\\n\")"
      ],
      "metadata": {
        "id": "aSJ3BSdMP39o"
      },
      "execution_count": 8,
      "outputs": []
    },
    {
      "cell_type": "code",
      "source": [
        "#Source: sample code from langchain docs\n",
        "from typing import AsyncIterator, Iterator\n",
        "\n",
        "from langchain_core.document_loaders import BaseLoader\n",
        "from langchain_core.documents import Document\n",
        "\n",
        "\n",
        "class CustomDocumentLoader(BaseLoader):\n",
        "    \"\"\"An example document loader that reads a file line by line.\"\"\"\n",
        "\n",
        "    def __init__(self, file_path: str) -> None:\n",
        "        \"\"\"Initialize the loader with a file path.\n",
        "\n",
        "        Args:\n",
        "            file_path: The path to the file to load.\n",
        "        \"\"\"\n",
        "        self.file_path = file_path\n",
        "\n",
        "    def lazy_load(self) -> Iterator[Document]:  # <-- Does not take any arguments\n",
        "        \"\"\"A lazy loader that reads a file line by line.\n",
        "\n",
        "        When you're implementing lazy load methods, you should use a generator\n",
        "        to yield documents one by one.\n",
        "        \"\"\"\n",
        "        with open(self.file_path, encoding=\"utf-8\") as f:\n",
        "            line_number = 0\n",
        "            for line in f:\n",
        "                yield Document(\n",
        "                    page_content=line,\n",
        "                    metadata={\"line_number\": line_number, \"source\": self.file_path},\n",
        "                )\n",
        "                line_number += 1"
      ],
      "metadata": {
        "id": "ucN_X-I5deO1"
      },
      "execution_count": 9,
      "outputs": []
    },
    {
      "cell_type": "code",
      "source": [
        "!pip install langchain_experimental"
      ],
      "metadata": {
        "colab": {
          "base_uri": "https://localhost:8080/"
        },
        "id": "A8I_UdqpQU27",
        "outputId": "0e6b910e-6289-4725-8854-34a05773efac"
      },
      "execution_count": 10,
      "outputs": [
        {
          "output_type": "stream",
          "name": "stdout",
          "text": [
            "Collecting langchain_experimental\n",
            "  Downloading langchain_experimental-0.0.62-py3-none-any.whl (202 kB)\n",
            "\u001b[?25l     \u001b[90m━━━━━━━━━━━━━━━━━━━━━━━━━━━━━━━━━━━━━━━━\u001b[0m \u001b[32m0.0/202.7 kB\u001b[0m \u001b[31m?\u001b[0m eta \u001b[36m-:--:--\u001b[0m\r\u001b[2K     \u001b[91m━━━━━━━━━━━━━━━━━━━━━━━━━━━━━━━━━━━━━━\u001b[0m\u001b[90m╺\u001b[0m\u001b[90m━\u001b[0m \u001b[32m194.6/202.7 kB\u001b[0m \u001b[31m5.9 MB/s\u001b[0m eta \u001b[36m0:00:01\u001b[0m\r\u001b[2K     \u001b[90m━━━━━━━━━━━━━━━━━━━━━━━━━━━━━━━━━━━━━━━━\u001b[0m \u001b[32m202.7/202.7 kB\u001b[0m \u001b[31m5.1 MB/s\u001b[0m eta \u001b[36m0:00:00\u001b[0m\n",
            "\u001b[?25hRequirement already satisfied: langchain-community<0.3.0,>=0.2.6 in /usr/local/lib/python3.10/dist-packages (from langchain_experimental) (0.2.6)\n",
            "Requirement already satisfied: langchain-core<0.3.0,>=0.2.10 in /usr/local/lib/python3.10/dist-packages (from langchain_experimental) (0.2.11)\n",
            "Requirement already satisfied: PyYAML>=5.3 in /usr/local/lib/python3.10/dist-packages (from langchain-community<0.3.0,>=0.2.6->langchain_experimental) (6.0.1)\n",
            "Requirement already satisfied: SQLAlchemy<3,>=1.4 in /usr/local/lib/python3.10/dist-packages (from langchain-community<0.3.0,>=0.2.6->langchain_experimental) (2.0.31)\n",
            "Requirement already satisfied: aiohttp<4.0.0,>=3.8.3 in /usr/local/lib/python3.10/dist-packages (from langchain-community<0.3.0,>=0.2.6->langchain_experimental) (3.9.5)\n",
            "Requirement already satisfied: dataclasses-json<0.7,>=0.5.7 in /usr/local/lib/python3.10/dist-packages (from langchain-community<0.3.0,>=0.2.6->langchain_experimental) (0.6.7)\n",
            "Requirement already satisfied: langchain<0.3.0,>=0.2.6 in /usr/local/lib/python3.10/dist-packages (from langchain-community<0.3.0,>=0.2.6->langchain_experimental) (0.2.6)\n",
            "Requirement already satisfied: langsmith<0.2.0,>=0.1.0 in /usr/local/lib/python3.10/dist-packages (from langchain-community<0.3.0,>=0.2.6->langchain_experimental) (0.1.83)\n",
            "Requirement already satisfied: numpy<2,>=1 in /usr/local/lib/python3.10/dist-packages (from langchain-community<0.3.0,>=0.2.6->langchain_experimental) (1.25.2)\n",
            "Requirement already satisfied: requests<3,>=2 in /usr/local/lib/python3.10/dist-packages (from langchain-community<0.3.0,>=0.2.6->langchain_experimental) (2.32.3)\n",
            "Requirement already satisfied: tenacity!=8.4.0,<9.0.0,>=8.1.0 in /usr/local/lib/python3.10/dist-packages (from langchain-community<0.3.0,>=0.2.6->langchain_experimental) (8.4.2)\n",
            "Requirement already satisfied: jsonpatch<2.0,>=1.33 in /usr/local/lib/python3.10/dist-packages (from langchain-core<0.3.0,>=0.2.10->langchain_experimental) (1.33)\n",
            "Requirement already satisfied: packaging<25,>=23.2 in /usr/local/lib/python3.10/dist-packages (from langchain-core<0.3.0,>=0.2.10->langchain_experimental) (24.1)\n",
            "Requirement already satisfied: pydantic<3,>=1 in /usr/local/lib/python3.10/dist-packages (from langchain-core<0.3.0,>=0.2.10->langchain_experimental) (2.8.0)\n",
            "Requirement already satisfied: aiosignal>=1.1.2 in /usr/local/lib/python3.10/dist-packages (from aiohttp<4.0.0,>=3.8.3->langchain-community<0.3.0,>=0.2.6->langchain_experimental) (1.3.1)\n",
            "Requirement already satisfied: attrs>=17.3.0 in /usr/local/lib/python3.10/dist-packages (from aiohttp<4.0.0,>=3.8.3->langchain-community<0.3.0,>=0.2.6->langchain_experimental) (23.2.0)\n",
            "Requirement already satisfied: frozenlist>=1.1.1 in /usr/local/lib/python3.10/dist-packages (from aiohttp<4.0.0,>=3.8.3->langchain-community<0.3.0,>=0.2.6->langchain_experimental) (1.4.1)\n",
            "Requirement already satisfied: multidict<7.0,>=4.5 in /usr/local/lib/python3.10/dist-packages (from aiohttp<4.0.0,>=3.8.3->langchain-community<0.3.0,>=0.2.6->langchain_experimental) (6.0.5)\n",
            "Requirement already satisfied: yarl<2.0,>=1.0 in /usr/local/lib/python3.10/dist-packages (from aiohttp<4.0.0,>=3.8.3->langchain-community<0.3.0,>=0.2.6->langchain_experimental) (1.9.4)\n",
            "Requirement already satisfied: async-timeout<5.0,>=4.0 in /usr/local/lib/python3.10/dist-packages (from aiohttp<4.0.0,>=3.8.3->langchain-community<0.3.0,>=0.2.6->langchain_experimental) (4.0.3)\n",
            "Requirement already satisfied: marshmallow<4.0.0,>=3.18.0 in /usr/local/lib/python3.10/dist-packages (from dataclasses-json<0.7,>=0.5.7->langchain-community<0.3.0,>=0.2.6->langchain_experimental) (3.21.3)\n",
            "Requirement already satisfied: typing-inspect<1,>=0.4.0 in /usr/local/lib/python3.10/dist-packages (from dataclasses-json<0.7,>=0.5.7->langchain-community<0.3.0,>=0.2.6->langchain_experimental) (0.9.0)\n",
            "Requirement already satisfied: jsonpointer>=1.9 in /usr/local/lib/python3.10/dist-packages (from jsonpatch<2.0,>=1.33->langchain-core<0.3.0,>=0.2.10->langchain_experimental) (3.0.0)\n",
            "Requirement already satisfied: langchain-text-splitters<0.3.0,>=0.2.0 in /usr/local/lib/python3.10/dist-packages (from langchain<0.3.0,>=0.2.6->langchain-community<0.3.0,>=0.2.6->langchain_experimental) (0.2.2)\n",
            "Requirement already satisfied: orjson<4.0.0,>=3.9.14 in /usr/local/lib/python3.10/dist-packages (from langsmith<0.2.0,>=0.1.0->langchain-community<0.3.0,>=0.2.6->langchain_experimental) (3.10.6)\n",
            "Requirement already satisfied: annotated-types>=0.4.0 in /usr/local/lib/python3.10/dist-packages (from pydantic<3,>=1->langchain-core<0.3.0,>=0.2.10->langchain_experimental) (0.7.0)\n",
            "Requirement already satisfied: pydantic-core==2.20.0 in /usr/local/lib/python3.10/dist-packages (from pydantic<3,>=1->langchain-core<0.3.0,>=0.2.10->langchain_experimental) (2.20.0)\n",
            "Requirement already satisfied: typing-extensions>=4.6.1 in /usr/local/lib/python3.10/dist-packages (from pydantic<3,>=1->langchain-core<0.3.0,>=0.2.10->langchain_experimental) (4.12.2)\n",
            "Requirement already satisfied: charset-normalizer<4,>=2 in /usr/local/lib/python3.10/dist-packages (from requests<3,>=2->langchain-community<0.3.0,>=0.2.6->langchain_experimental) (3.3.2)\n",
            "Requirement already satisfied: idna<4,>=2.5 in /usr/local/lib/python3.10/dist-packages (from requests<3,>=2->langchain-community<0.3.0,>=0.2.6->langchain_experimental) (3.7)\n",
            "Requirement already satisfied: urllib3<3,>=1.21.1 in /usr/local/lib/python3.10/dist-packages (from requests<3,>=2->langchain-community<0.3.0,>=0.2.6->langchain_experimental) (2.0.7)\n",
            "Requirement already satisfied: certifi>=2017.4.17 in /usr/local/lib/python3.10/dist-packages (from requests<3,>=2->langchain-community<0.3.0,>=0.2.6->langchain_experimental) (2024.6.2)\n",
            "Requirement already satisfied: greenlet!=0.4.17 in /usr/local/lib/python3.10/dist-packages (from SQLAlchemy<3,>=1.4->langchain-community<0.3.0,>=0.2.6->langchain_experimental) (3.0.3)\n",
            "Requirement already satisfied: mypy-extensions>=0.3.0 in /usr/local/lib/python3.10/dist-packages (from typing-inspect<1,>=0.4.0->dataclasses-json<0.7,>=0.5.7->langchain-community<0.3.0,>=0.2.6->langchain_experimental) (1.0.0)\n",
            "Installing collected packages: langchain_experimental\n",
            "Successfully installed langchain_experimental-0.0.62\n"
          ]
        }
      ]
    },
    {
      "cell_type": "code",
      "source": [
        "from langchain.indexes import VectorstoreIndexCreator\n",
        "from langchain_openai import ChatOpenAI\n",
        "from langchain_openai import OpenAIEmbeddings\n",
        "from langchain_community.document_loaders import TextLoader\n",
        "from langchain_experimental.text_splitter import SemanticChunker\n",
        "\n",
        "text_splitter = SemanticChunker(OpenAIEmbeddings(openai_api_key=api_key),breakpoint_threshold_type=\"percentile\")\n",
        "with open(\"./sample_data/joey_lines.txt\") as f:\n",
        "  joey_lines = f.read()\n",
        "docs = text_splitter.create_documents([joey_lines])\n",
        "\n",
        "embeddings = OpenAIEmbeddings(openai_api_key=api_key)\n",
        "index = VectorstoreIndexCreator(embedding=embeddings).from_documents(docs)\n"
      ],
      "metadata": {
        "id": "Rjv-qXgcQb-1",
        "colab": {
          "base_uri": "https://localhost:8080/"
        },
        "outputId": "6263d7ec-01d8-4ef7-d260-8bf365088d6e"
      },
      "execution_count": 11,
      "outputs": [
        {
          "output_type": "stream",
          "name": "stderr",
          "text": [
            "/usr/local/lib/python3.10/dist-packages/langchain/indexes/vectorstore.py:129: UserWarning: Using InMemoryVectorStore as the default vectorstore.This memory store won't persist data. You should explicitlyspecify a vectorstore when using VectorstoreIndexCreator\n",
            "  warnings.warn(\n"
          ]
        }
      ]
    },
    {
      "cell_type": "code",
      "source": [
        "from langchain.chains import create_retrieval_chain\n",
        "from langchain.chains.combine_documents import create_stuff_documents_chain\n",
        "from langchain_core.prompts import ChatPromptTemplate\n",
        "from langchain.retrievers import RePhraseQueryRetriever\n",
        "from langchain.retrievers import ContextualCompressionRetriever\n",
        "from langchain.retrievers.document_compressors import EmbeddingsFilter\n",
        "\n",
        "llm=ChatOpenAI(openai_api_key=api_key,temperature=0)\n",
        "system_prompt=(\n",
        "    \"You are Joey from F.R.I.E.N.D.S .\"\n",
        "    \"Use the given context to answer the question. \"\n",
        "    \"If you don't know the answer, say you don't know. \"\n",
        "    \"Use three sentence maximum and keep the answer concise. \"\n",
        "    \"Context: {context}\"\n",
        ")\n",
        "prompt = ChatPromptTemplate.from_messages(\n",
        "    [\n",
        "        (\"system\",system_prompt),\n",
        "        (\"human\",\"{input}\"),\n",
        "    ]\n",
        ")\n",
        "retriever=index.vectorstore.as_retriever(search_kwargs={'k': 5})"
      ],
      "metadata": {
        "id": "w1go7kvDSxaa"
      },
      "execution_count": 12,
      "outputs": []
    },
    {
      "cell_type": "code",
      "source": [
        "retriever_from_llm=RePhraseQueryRetriever.from_llm(\n",
        "    retriever=retriever,llm=llm\n",
        ")"
      ],
      "metadata": {
        "id": "To6H-ufCxxcL"
      },
      "execution_count": 13,
      "outputs": []
    },
    {
      "cell_type": "code",
      "source": [
        "embeddings_filter = EmbeddingsFilter(embeddings=embeddings, similarity_threshold=0.76)\n",
        "compression_retriever = ContextualCompressionRetriever(\n",
        "    base_compressor=embeddings_filter, base_retriever=retriever_from_llm\n",
        ")\n",
        "\n",
        "question_answer_chain = create_stuff_documents_chain(llm, prompt)\n",
        "chain = create_retrieval_chain(compression_retriever, question_answer_chain)"
      ],
      "metadata": {
        "id": "RWxguIcDyQpp"
      },
      "execution_count": 14,
      "outputs": []
    },
    {
      "cell_type": "code",
      "source": [
        "def pretty_print_docs(docs):\n",
        "    print(\n",
        "        f\"\\n{'-' * 100}\\n\".join(\n",
        "            [f\"Document {i+1}:\\n\\n\" + d.page_content for i, d in enumerate(docs)]\n",
        "        )\n",
        "    )\n",
        "\n",
        "compressed_docs = compression_retriever.invoke(\"Who is the sister of Ross ?\")\n",
        "pretty_print_docs(compressed_docs)"
      ],
      "metadata": {
        "colab": {
          "base_uri": "https://localhost:8080/"
        },
        "id": "0D8xw0fqypQ7",
        "outputId": "181745fb-c183-4b94-dd68-4b0af84292f7"
      },
      "execution_count": 15,
      "outputs": [
        {
          "output_type": "stream",
          "name": "stdout",
          "text": [
            "Document 1:\n",
            "\n",
            ". gay. Woah, woah, woah, you have a date? But uh, uh, what about uh, Ross and uh. .\n",
            "----------------------------------------------------------------------------------------------------\n",
            "Document 2:\n",
            "\n",
            "What? Come on, they're close. Oh, like you've never gotten a little rambunctious with Ross. Well, who's to say what's true?\n",
            "----------------------------------------------------------------------------------------------------\n",
            "Document 3:\n",
            "\n",
            "Oh, yeah, I do. [quietly] I never know how long you're supposed to wait in this type of a situation before you can talk again, you know? [Ross stares blankly at him] Maybe a little longer. Ahhhhhh, I didn't get the job. I dunno. Some fat guy's sleeping with the store manager. He's not even jolly, it's all political. Ah, I'm gonna be one of his helpers. It's just such a slap in the face, y'know? Hey, that guy's going home with more than a note! Hi. Hi, sorry I'm late. Nice shoes, huh? You know more than one Fun Bobby? Ooh ooh ooh ooh, there's no room for milk! Uh, four. Yeah, and I met this really hot single mom at the store. What's an elf to do? Sandy! Hi! C'mon in! ...You brought your kids. Wow, that's, uh, dirty. Hey, kids... Hey Fun Bobby! Whoah! Who died? There y'go, kids. You seen Sandy? Looks like that no date pact thing worked out. Nonono, you can't kiss Ross, that's your brother. Alrightalrightalright.\n",
            "----------------------------------------------------------------------------------------------------\n",
            "Document 4:\n",
            "\n",
            "Waah!! Goo, goo, goo. Waaah! Are you ok, Ross? Is he gonna be ok? We'll watch him. What? I have seven Catholic sisters. I've taken care of hundreds of kids. Come on, we wanna do it, don't we? Hat, milk, got it. Consider it done. Yeah, my uncle Sal has a really big tongue. It's gonna be worth it. It's a known fact that women love babies, all right? Women love guys who love babies. It's that whole sensitive thing. Quick, aim him at that pack o' babes over there. Maybe one of them will break away. No, no wait, for get them, we got one, hard left. All right, gimme the baby. No, seriously. You wanna smell him? Oh, yeah. He's got that great baby smell. Get a whiff of his head. What'd I tell you? What'd I tell you? Hey, hey, look at that talent. Wait!\n",
            "----------------------------------------------------------------------------------------------------\n",
            "Document 5:\n",
            "\n",
            "What's this? Done with the bookcase! Ross, let me ask you a question. She got the furniture, the stereo, the good TV- what did you get? You got screwed. What are you talking about? 'One woman'? That's like saying there's only one flavor of ice cream for you. Lemme tell you something, Ross. There's lots of flavors out there. There's Rocky Road, and Cookie Dough, and Bing! Cherry Vanilla. You could get 'em with Jimmies, or nuts, or whipped cream! This is the best thing that ever happened to you! You got married, you were, like, what, eight? Welcome back to the world! Grab a spoon! Congratulations. And while you're on a roll, if you feel like you gotta make like a Western omelet or something... Although actually I'm really not that hungry... Morning, Paul. That wasn't a real date?! What the hell do you do on a real date? Yeah, I'm an actor. I doubt it. Mostly regional work. I will not take this abuse. Of course it was a line! I can't believe you didn't know it was a line! I can't believe\n"
          ]
        }
      ]
    },
    {
      "cell_type": "code",
      "source": [
        "import logging\n",
        "logging.basicConfig()\n",
        "logging.getLogger(\"langchain.retrievers.re_phraser\").setLevel(logging.INFO)\n",
        "\n",
        "\n",
        "question = input(\"Hey !! how you doin' ? Ask me anything related to season 1 :\")\n",
        "\n",
        "result = chain.invoke({\"input\": question})\n",
        "print(\"SOURCE DOCUMENTS:\\n\")\n",
        "for doc in result[\"context\"]:\n",
        "   print(doc)\n",
        "print(\"\\nRESULT:\\n\")\n",
        "print(result[\"answer\"])\n",
        "#s=input(\"Wanna ask me more ques [y/n] ?:\")\n",
        "  # if s=='y':\n",
        "  #   continue\n",
        "  # else :\n",
        "  #   break"
      ],
      "metadata": {
        "colab": {
          "base_uri": "https://localhost:8080/"
        },
        "id": "jUKFQe_gzIpV",
        "outputId": "50e0df25-c6d0-4a48-f9a9-fabc0ff3747a"
      },
      "execution_count": 16,
      "outputs": [
        {
          "name": "stdout",
          "output_type": "stream",
          "text": [
            "Hey !! how you doin' ? Ask me anything related to season 1 :Who is the mother of Chandler ?\n"
          ]
        },
        {
          "output_type": "stream",
          "name": "stderr",
          "text": [
            "INFO:langchain.retrievers.re_phraser:Re-phrased question: Query for vectorstore: Mother of Chandler\n"
          ]
        },
        {
          "output_type": "stream",
          "name": "stdout",
          "text": [
            "SOURCE DOCUMENTS:\n",
            "\n",
            "page_content='Yeah. We did? Uh, hi. We uh, we used to work together. Yeah, at Macy's. You were the Obsession girl, right? I was the Aramis guy. Aramis? Aramis? I gotta tell you. You're the best in the business. I'm serious. You're amazing. You know when to spritz, when to lay back. Ooh, you smell great tonight. What're you wearing? Listen, uh, you wanna go get a drink or something? What's wrong? Oh. What? Wait, wait, wait! So I guess you all saw it. Set another place for Thanksgiving. My entire family thinks I have VD. Chandler, will you just come in already? Hey, Monica, I got a question. I don't see any tater tots. But my mom always makes them. It's like a tradition. You get a little piece of turkey on your fork, a little cranberry sauce, and a tot! It's bad enough I can't be with my family because of my disease. The balloon? Wait, wait, we have a copy of your key. That tone will not make me go any faster. That one will.'\n",
            "page_content='what else? Alright, look, I'll start, OK? Come on. Come on. Alright, ready, look! Oh... Ross.... you get me so hot. I want your lips on me now. Alright, now you say something. Come on! You like this woman, right? You want to see her again, right? Well if you can't talk dirty to me, how're you going to talk dirty to her? Now tell me you want to caress my butt! Alright, alright. I'm around. Go ahead. There you go! Keep going. Keep going! Say it... say it! You're not going to believe this! Hey Chandler, while you were sleeping that guy from your old job called again. And again, and again, and again... Hello? And again. What a tool! So, er... how did it go with Celia? All right, Ross! Whoa! And the... huh-huh? You cuddled. Yeah, where the hell is he? Ok, you know what blows my mind? Women can see breasts any time they want. You just look down and there they are. How you get any work done is beyond me. No plans, huh? Why do you have to break up with her? Be a man, just stop calling. My god,'\n",
            "page_content='You guys are messing with me, right? That was a good one. For a second there, I was like, \"whoa.\"\n",
            "\"Oh, Chandler, now, now, that's it. There, faster!\"\n",
            "Such as? Check this out. Can I have this? Hey, there's me! April 17th. Excessive noise. Italian guy comes homes with a date. Hey Chandler, look, you're in here too. Check it out, check it out. Heckles' high school yearbook. \"Heckles, you crack me up in science class. You're the funniest kid in school.\"'\n",
            "page_content='Run! You usually find them on the 'heaving beasts'. Hold it, hold it. I gotta side with Chandler on this one. When I first moved to the city, I went out a couple of times with this girl, really hot, great kisser, but she had the biggest Adam's apple. It made me nuts.'\n",
            "page_content='So, tell me. Was it like you and Chandler, and then you and me, or you and me and Chandler? What? Listen, the next time you talk to him, can you ask him which one the strongest Power Ranger is? Stegosaurus! What about Andr ? They're here already? Uh, moist, yeah. All right, all right. For the ride. All right, I'm going. I'm going. Um, this? What up?! Hello? Oh, hi. Yeah, hold on a second. Ross, it's Julie, for you. Needs some clothes altered? Why don't you go see Frankie? My family's been goin' to him forever. He did my first suit when I was 15. No wait, 16. No, 'scuse me, 15. All right, when was 1990? You know, I think I was sixteen. No-no-no-no-no,  I'm not fallin' for that again. Whoa, whoa. And the fact that you dumped him because he hit on Phoebe? Hey, Chandler, when you see Frankie, tell him Joey Tribbiani says hello. He'll know what it means. Can we see her? How're you doing? Ooh, that bad, huh? Look, I can sense when women are depressed and vulnerable. It's one of my gifts. You'\n",
            "\n",
            "RESULT:\n",
            "\n",
            "Nora Tyler Bing is the mother of Chandler.\n"
          ]
        }
      ]
    },
    {
      "cell_type": "code",
      "source": [
        "eval_questions=[\n",
        "    \"Where does chandler work ?\",\n",
        "    \"Who is Chandler's best friend ?\"\n",
        "    \"Who is Ross ?\",\n",
        "    \"Where does Monica work ?\",\n",
        "    \"What is the real name of Pheebs ?\"\n",
        "]\n",
        "\n",
        "eval_answers=[\n",
        "    \"Chandler works at a consultancy firm\",\n",
        "    \"Ross is Chandler's best friend\",\n",
        "    \"Ross is a character in the TV serial F.R.I.E.N.D.S.\",\n",
        "    \"She is a chef in Central perk\",\n",
        "    \"Real name of Pheebs is Phoebe Buffay\"\n",
        "]"
      ],
      "metadata": {
        "id": "byC8g5bai4D3"
      },
      "execution_count": 17,
      "outputs": []
    },
    {
      "cell_type": "code",
      "source": [
        "result = chain.invoke({\"input\": eval_questions[1]})\n",
        "print(result)"
      ],
      "metadata": {
        "id": "p12R_QyCzlZg",
        "colab": {
          "base_uri": "https://localhost:8080/"
        },
        "outputId": "1b4c226d-b1d4-436e-e32c-ad11a744da7f"
      },
      "execution_count": 18,
      "outputs": [
        {
          "output_type": "stream",
          "name": "stderr",
          "text": [
            "INFO:langchain.retrievers.re_phraser:Re-phrased question: Query for vectorstore: Chandler's best friend\n"
          ]
        },
        {
          "output_type": "stream",
          "name": "stdout",
          "text": [
            "{'input': \"Who is Chandler's best friend ?Who is Ross ?\", 'context': [_DocumentWithState(page_content=\"So, tell me. Was it like you and Chandler, and then you and me, or you and me and Chandler? What? Listen, the next time you talk to him, can you ask him which one the strongest Power Ranger is? Stegosaurus! What about Andr ? They're here already? Uh, moist, yeah. All right, all right. For the ride. All right, I'm going. I'm going. Um, this? What up?! Hello? Oh, hi. Yeah, hold on a second. Ross, it's Julie, for you. Needs some clothes altered? Why don't you go see Frankie? My family's been goin' to him forever. He did my first suit when I was 15. No wait, 16. No, 'scuse me, 15. All right, when was 1990? You know, I think I was sixteen. No-no-no-no-no,  I'm not fallin' for that again. Whoa, whoa. And the fact that you dumped him because he hit on Phoebe? Hey, Chandler, when you see Frankie, tell him Joey Tribbiani says hello. He'll know what it means. Can we see her? How're you doing? Ooh, that bad, huh? Look, I can sense when women are depressed and vulnerable. It's one of my gifts. You\", state={'embedded_doc': [0.00023761560441926122, -0.029191825538873672, 0.026493309065699577, -0.0028164926916360855, -0.006084953434765339, 0.03347222879528999, 0.02889937534928322, -0.03910853713750839, 0.006403990089893341, -0.012987437658011913, 0.02085700072348118, 0.004509711638092995, 0.036822110414505005, -0.000801744987256825, 0.00020677127758972347, 0.001638384535908699, 0.02993624284863472, 0.03256829455494881, 0.017148204147815704, -0.02249206230044365, 0.009650849737226963, -0.003429640782997012, -0.004805484786629677, 0.013864788226783276, 0.008447816595435143, 0.012847859412431717, 0.023050375282764435, 0.008407937362790108, -0.0009371692431159317, -0.03171753138303757, 0.011033340357244015, 0.026905398815870285, -0.011186211369931698, -0.022944031283259392, -0.029298171401023865, -0.03559913858771324, -0.01197050977498293, -0.017839448526501656, 0.019275112077593803, -0.0175469983369112, 0.01923523284494877, -0.03190363571047783, -0.027330780401825905, -2.079655860143248e-05, -0.01822495087981224, 0.008700386621057987, -0.012741513550281525, -0.020976640284061432, -0.006015164311975241, 0.025124112144112587, 0.0013667051680386066, 0.002311351941898465, -0.01322006806731224, -0.029404517263174057, -0.0029195148963481188, -0.0005180186708457768, 0.024432865902781487, 0.002834770828485489, 0.012083501555025578, -0.014130651019513607, 0.0069456868804991245, 0.0004648459143936634, -0.007417595013976097, 0.0018560603493824601, -0.013957840390503407, 0.01607145555317402, 0.023050375282764435, -0.005476790480315685, -0.005669541656970978, 0.0006002702284604311, 0.03062748908996582, 0.006526951678097248, -0.009418218396604061, -0.004326930269598961, 0.010381974279880524, -0.0266927070915699, 0.007862916216254234, -0.007131791673600674, -0.008933017961680889, -0.010362034663558006, 0.024233469739556313, -0.03772604838013649, -0.013578983955085278, 0.024911420419812202, 0.03001600317656994, 0.011764464899897575, 0.015672659501433372, 0.03456227108836174, -0.03328612446784973, 0.0010991798480972648, -0.022611699998378754, 0.03817801550030708, -0.011033340357244015, 0.02378150075674057, 0.017174789682030678, 0.030095761641860008, -0.011870810762047768, 0.01863704062998295, -0.002572230529040098, -0.017520412802696228, 0.004110916052013636, -0.016456957906484604, -0.006094923708587885, -0.003326618578284979, -0.02285097725689411, 0.0018311357125639915, 0.019487803801894188, -0.029404517263174057, 0.009119122289121151, -0.006178006064146757, -0.005882232449948788, 0.051630716770887375, 0.005639632232487202, -0.04304331913590431, -0.0013068858534097672, -0.017586877569556236, 0.005330565385520458, -0.006998859811574221, -0.038443878293037415, -0.008587394841015339, 0.0075837597250938416, 0.0027317486237734556, -0.003585835685953498, -0.0033947459887713194, 0.015366917476058006, 0.0011938938405364752, -0.035120584070682526, 0.024765195325016975, -0.00040045706555247307, 0.015978403389453888, 0.014183823950588703, -0.004645966924726963, 0.018291417509317398, -0.0038151429034769535, -0.020139168947935104, 0.01882314495742321, -0.011817637830972672, -0.008301591500639915, -0.00804237462580204, -0.020378446206450462, 0.012395891360938549, 0.005470144096761942, -0.009584383107721806, -0.010408560745418072, -0.024658851325511932, 0.010966874659061432, 0.0439472571015358, 0.015499848872423172, -0.0028397557325661182, -0.008148719556629658, 0.0386565700173378, 0.016377199441194534, 0.0036955042742192745, 0.020391739904880524, 0.004280404187738895, 0.0012030329089611769, 1.651262391533237e-05, -0.003924811724573374, -0.01616450771689415, -0.020165756344795227, 0.0008557485416531563, 0.010076231323182583, 0.03676893934607506, -0.024672143161296844, -0.0070653255097568035, 0.02233254350721836, 0.004885244183242321, -0.018278123810887337, 0.0018610453698784113, 0.00011704230564646423, -0.01000311877578497, 0.01334635354578495, -0.022438889369368553, 0.025974875316023827, 0.0034562270157039165, 0.010827295482158661, 0.00966414250433445, -0.01615121401846409, -0.013944546692073345, -0.01573912613093853, -0.0017630081856623292, 0.009059302508831024, 0.013864788226783276, 0.008780146017670631, -0.010581372305750847, -0.003439610591158271, -0.007955968379974365, 0.0005707759410142899, 0.013313121162354946, -0.008454463444650173, 0.00889978464692831, 0.01599169708788395, 0.0015785652212798595, -0.008667154237627983, -0.6248858571052551, -0.00285471067763865, -0.014941535890102386, -0.01367868296802044, -0.001271991292014718, 0.029696965590119362, 0.003662271425127983, -0.01890290342271328, -0.033153194934129715, 0.023635275661945343, -0.0014888362493366003, 0.02395431138575077, -0.0027035006787627935, -0.006224532146006823, -0.027995439246296883, -0.00222328444942832, 0.013917960226535797, -0.01744065433740616, 0.029617207124829292, 0.0012063562171533704, -0.029191825538873672, 0.018198365345597267, -0.019275112077593803, -0.0012287884019315243, 0.023076962679624557, 0.004350193310528994, 0.0037254139315336943, -0.015207398682832718, 0.009903419762849808, 0.029298171401023865, -0.06428582221269608, 0.034163475036621094, -0.00306740147061646, 0.0036124219186604023, 0.045303162187337875, -0.016736114397644997, 0.0007992525352165103, 0.038869261741638184, 0.0022814422845840454, 0.011830931529402733, -0.0027799364179372787, -0.01966061443090439, 0.0007585421553812921, 0.018530694767832756, 0.023741621524095535, -0.014728844165802002, 0.006772875785827637, -0.014901655726134777, 0.00867380015552044, 0.002165126847103238, 0.007085265591740608, -0.013585630804300308, -0.0011864163680002093, -0.014476274140179157, 0.013146956451237202, -0.015699246898293495, 0.015553021803498268, -0.016815874725580215, -0.006992213428020477, -0.005553226452320814, 0.021428607404232025, 0.024100536480545998, 0.004582824185490608, 0.014994707889854908, 0.017919208854436874, 0.012980790808796883, -0.024765195325016975, -0.0014323402428999543, 0.014981415122747421, 0.00046359968837350607, 0.027862507849931717, 0.03448251262307167, -0.02334282547235489, 0.019354872405529022, -0.011006753891706467, 0.006520305294543505, 0.014290169812738895, 0.017374187707901, 0.00590549549087882, 0.00355924922041595, 0.019474510103464127, 0.007955968379974365, -0.025190578773617744, -0.007025446277111769, -0.011020046658813953, -0.018583867698907852, -0.0337115079164505, 0.00303749181330204, -0.00010037390165962279, -0.004433275666087866, 0.017600171267986298, 0.004273757804185152, -0.01065448485314846, 0.0007427564705722034, 0.0040411269292235374, 0.004875273909419775, -0.03924147039651871, 0.00039817229844629765, 0.015327037312090397, -0.050354570150375366, -0.002995950635522604, -0.005101258400827646, 0.03179728984832764, 0.0034761668648570776, -0.004380103200674057, 0.010548138990998268, 0.005177693907171488, 0.013745149597525597, 0.019128886982798576, -0.022279370576143265, 0.013326413929462433, -0.024353107437491417, -0.012774746865034103, -0.017573585733771324, 0.003768616821616888, -0.021867282688617706, 0.010069584473967552, 0.017772983759641647, -0.0035825122613459826, -0.022173026576638222, -0.0024492687080055475, -0.00945809856057167, 0.019873306155204773, -0.005815766751766205, 0.024911420419812202, 0.01649683713912964, -0.016191095113754272, -0.004662583116441965, 0.011345730163156986, -0.0005292347632348537, 8.142073056660593e-05, -0.015579608269035816, 0.02573559805750847, -0.018769972026348114, -0.005712744314223528, 0.03286074474453926, 0.02507093921303749, -0.02250535599887371, 0.034748375415802, -0.016550010070204735, -0.01908900775015354, -0.0005267423111945391, 0.0029992740601301193, -0.0007589575252495706, -0.013193482533097267, -0.030840180814266205, -0.00996988546103239, -0.011585007421672344, -0.04304331913590431, -0.021322261542081833, 0.009212174452841282, -0.007882856763899326, -0.01411735825240612, -0.0009022746817208827, 0.004752312321215868, -0.01205691508948803, -0.008653860539197922, -0.015845471993088722, -0.02548302710056305, -0.01257534883916378, -0.005942051764577627, 0.019022541120648384, -0.019540976732969284, -0.015951817855238914, 0.01467567216604948, -0.023994192481040955, -0.006925747264176607, -0.013971133157610893, -0.002445945283398032, -0.03131873533129692, 0.0022465474903583527, -0.013785028830170631, -0.013539104722440243, 0.001821165787987411, -0.01968720182776451, 0.014808603562414646, -0.0021285705734044313, -0.01692221872508526, 0.002804861171171069, -0.010062937624752522, -0.003545955987647176, -0.002889605239033699, -0.016536716371774673, -0.0034927832894027233, 0.05272075533866882, -0.008760206401348114, 0.030148934572935104, 0.028287889435887337, -0.009185587987303734, 0.04655272141098976, -0.010714303702116013, 0.02360869012773037, -0.01993977092206478, 0.0027932296507060528, 0.0021551570389419794, -0.005769240669906139, 0.023648569360375404, 0.009059302508831024, -0.02352892979979515, 0.04046444222331047, 0.02967038005590439, -0.016882339492440224, 0.03783239424228668, -0.005117874592542648, 0.007710045203566551, -0.013426112942397594, 0.015127640217542648, -0.03227584436535835, 0.0256558395922184, 0.019275112077593803, 0.0012030329089611769, -0.010288922116160393, -0.005443557631224394, -0.020391739904880524, 0.029404517263174057, 0.01218320056796074, 0.0009886802872642875, 0.04655272141098976, -0.01745394617319107, -0.004117562901228666, 0.010568078607320786, 0.00794932246208191, 0.0284739937633276, 0.011126392520964146, -0.023236479610204697, -0.00791608914732933, 0.012754807248711586, 0.018450934439897537, -0.011385609395802021, -0.006772875785827637, 0.01873009279370308, 0.013984426856040955, 0.01923523284494877, 0.012336071580648422, 0.01600499078631401, -0.022199612110853195, 0.009531211107969284, -0.025283630937337875, 0.022359130904078484, -0.010980167426168919, 0.0022349159698933363, 0.019368164241313934, 0.028341062366962433, -0.025177285075187683, 0.03062748908996582, -0.0015486555639654398, 0.030069176107645035, -0.010255688801407814, -0.028447408229112625, 0.037593115121126175, -0.01583217829465866, 0.009551150724291801, -0.01617780141532421, -0.0006621665670536458, 0.016656355932354927, 0.009318520314991474, 0.003303355537354946, 0.0073311892338097095, 0.01552643533796072, 0.031956806778907776, -0.006992213428020477, 4.670787529903464e-05, 0.028341062366962433, 0.011319143697619438, 0.012522176839411259, 0.017254548147320747, -0.019275112077593803, -0.009059302508831024, -0.02172105759382248, -0.00209533772431314, -0.001154014258645475, -0.014263583347201347, -0.031611185520887375, -0.003795203287154436, 0.025788770988583565, 0.008301591500639915, 0.0001701111759757623, 0.009152354672551155, 0.00804902147501707, -0.004735695663839579, 0.004014540463685989, -0.04123544692993164, 0.010554785840213299, -0.0013334722025319934, 0.0029627177864313126, -0.007165024522691965, 0.024685436859726906, 0.011458721943199635, -0.009012776426970959, 0.007876209914684296, -0.019727081060409546, 0.011877457611262798, 0.008328177966177464, 0.0284739937633276, -0.009943298995494843, 0.027490299195051193, 0.019208647310733795, -0.03461544215679169, 0.030414797365665436, -0.002045488217845559, 0.0053172726184129715, 0.027330780401825905, -0.02079053595662117, -0.01325330138206482, 0.014821897260844707, -0.010767476633191109, -0.008494342677295208, -0.02239901013672352, -0.006952333729714155, -0.025934996083378792, 0.017227962613105774, -0.0019673907663673162, -0.021534953266382217, -0.008620628155767918, 0.0008437015931122005, -0.016882339492440224, -0.011159625835716724, -0.021229209378361702, 0.007776510901749134, -0.0024376369547098875, -0.0037220907397568226, -0.027835920453071594, -0.04200645163655281, -0.00023886184499133378, 0.1166609600186348, 0.0484403520822525, 0.0023960957769304514, 0.006387373432517052, 0.03158459812402725, 0.017427360638976097, 0.008972897194325924, -0.02703833021223545, 0.01444968767464161, -0.02137543447315693, 0.016895633190870285, -0.0015145918587222695, -0.014715551398694515, 0.002052134834229946, -0.01411735825240612, -0.021162744611501694, -0.005227543413639069, 0.00987683329731226, -0.009531211107969284, -0.009345105849206448, -0.037858977913856506, 0.036822110414505005, -0.010926994495093822, 0.03155801072716713, -0.007623639423400164, -0.0026752527337521315, 0.01163818035274744, 0.02000623755156994, 0.023568809032440186, -0.023302946239709854, -0.027782747521996498, 0.01458262000232935, 0.01248894352465868, -0.0035260163713246584, -0.02113615721464157, -0.01031550858169794, 3.624468808993697e-05, 0.004007894080132246, 0.017600171267986298, 0.002384464256465435, 0.012083501555025578, 0.0156460739672184, 0.002735072048380971, 0.005765917245298624, 0.013107076287269592, -0.0047091091983020306, 0.0008989513735286891, 0.0071849641390144825, -0.01838446967303753, -0.018783263862133026, 0.027330780401825905, -0.01175781898200512, -0.006277704611420631, -0.0026038018986582756, 0.01770651713013649, -0.01030886173248291, -0.004978296346962452, -0.013113723136484623, -0.02146848663687706, 0.03381785377860069, 0.005274069495499134, -0.008374704048037529, 0.0201923418790102, -0.01822495087981224, -0.02609451487660408, -0.018198365345597267, 0.003555926028639078, -0.022013507783412933, -0.017812862992286682, -0.006912454031407833, -0.0002747949620243162, -0.008201892487704754, -0.02121591754257679, 0.012469003908336163, 0.025177285075187683, 0.0035393093712627888, 0.010229102335870266, 0.014502860605716705, 0.024938007816672325, -0.0017763013020157814, 0.01043514721095562, -0.05934076011180878, 0.04378773644566536, -0.010568078607320786, -0.013984426856040955, 0.009384986013174057, 0.018956076353788376, 0.007623639423400164, -0.009464744478464127, 0.028022024780511856, 0.03546620532870293, 0.016616476699709892, 0.004748988896608353, -0.008826672099530697, -0.003029183717444539, 0.016709528863430023, -0.018158486112952232, 0.006487072445452213, 0.0011556759709492326, -0.0015619487967342138, -0.022199612110853195, -0.034163475036621094, 0.00924540776759386, -0.01572583243250847, -0.004090976435691118, -0.007158378139138222, 0.009644202888011932, 0.008441169746220112, -0.034163475036621094, -0.02285097725689411, 0.01958085596561432, -0.024446159601211548, 0.007969262078404427, 0.023715034127235413, 0.014263583347201347, 0.0340571291744709, 0.01701527088880539, 0.038709744811058044, 0.006168035790324211, -0.017640050500631332, 0.021960334852337837, -0.03514717146754265, 0.03403054177761078, 0.017467239871621132, -0.03299367427825928, 0.0013135324697941542, 0.005609722342342138, -0.03219608590006828, -0.005433587823063135, -0.0010584695264697075, -0.01677599363029003, 0.009930006228387356, -0.0017114970833063126, -0.0015312082832679152, -0.018291417509317398, 0.0002982657460961491, -0.021534953266382217, 0.01967390812933445, -0.015685953199863434, 0.004748988896608353, -0.03312660753726959, -0.011804345063865185, -0.00024073119857348502, -0.024499332532286644, -0.01304061058908701, -0.026825638487935066, -0.011000107042491436, -0.0021701117511838675, 0.0029228380881249905, 0.021441901102662086, -0.03650307655334473, -8.484788122586906e-05, -0.0019308344926685095, 0.0008154535898938775, 0.026546481996774673, -0.047695934772491455, 0.0022814422845840454, -0.0018560603493824601, 0.00911247543990612, -0.02804861217737198, 0.029803311452269554, -0.004642643500119448, -0.0022864271886646748, -0.006473779212683439, -0.0025007796939462423, 0.008587394841015339, -0.009763841517269611, -0.014622499234974384, -0.01095358096063137, 0.022119853645563126, 0.0021285705734044313, 0.0005828228895552456, -0.00859404169023037, 0.015247278846800327, 0.002489148173481226, 0.03748676925897598, -0.005579812917858362, 0.016656355932354927, -0.000710354361217469, -0.028527166694402695, -0.0001918164489325136, 0.012036975473165512, -0.003987954463809729, -0.010388621129095554, -0.0009014438255690038, -0.02464555762708187, 0.04096958413720131, -0.014050892554223537, -0.010814002715051174, 0.011824284680187702, 0.01736089400947094, -0.02908547967672348, -0.001336795510724187, -0.018504107370972633, 0.017839448526501656, -0.03062748908996582, -0.01830470934510231, 0.0057858568616211414, -0.0031820551957935095, -0.02069748193025589, 0.0025356742553412914, 0.043309181928634644, -0.007238137070089579, 0.010674424469470978, 0.0114188427105546, 0.000857410195749253, 0.01377173513174057, -0.02239901013672352, 0.013200128450989723, 0.023116841912269592, -0.023489050567150116, -0.006899160798639059, 0.0077033983543515205, -0.034003958106040955, 0.00727136991918087, -0.005745977628976107, -0.011897397227585316, 0.007982554845511913, -0.00374203035607934, -0.010368681512773037, -0.014369928278028965, -0.004496418405324221, 0.029298171401023865, 0.0007539726211689413, 0.01261522900313139, 0.00521757360547781, -0.0026104485150426626, -0.0208835881203413, -0.017095031216740608, 0.01838446967303753, -0.0010443455539643764, 0.02182740345597267, 0.019288405776023865, 0.011372316628694534, 0.01467567216604948, 0.005563196260482073, -0.010461733676493168, -0.004542944487184286, -0.034774962812662125, -0.008933017961680889, 0.020125875249505043, 0.017520412802696228, -0.00019555515609681606, -0.0032884005922824144, -0.007729984819889069, 0.028606925159692764, 0.011957216076552868, 0.007071972358971834, -0.022797806188464165, -0.00538706174120307, -0.017001979053020477, -0.0047057862393558025, -0.01986001245677471, 0.0379653237760067, 0.02299720235168934, 0.010594665072858334, -0.031345319002866745, -0.001977360574528575, 0.015047880820930004, -0.003868315601721406, -0.013299827463924885, 0.023037083446979523, -0.0015769036253914237, 0.023568809032440186, -0.0003437533450778574, 0.008162013255059719, -0.0014265244826674461, -0.003648978192359209, -0.03472178801894188, 0.026719294488430023, -0.016483545303344727, 0.0033997311256825924, -0.02071077562868595, -0.015765713527798653, -0.02831447497010231, 0.012163260951638222, -0.003150483826175332, -0.019368164241313934, -0.014356635510921478, -0.0033698214683681726, 0.04447898268699646, 0.024579090997576714, -0.02566913329064846, -0.0017995643429458141, -0.008607334457337856, 0.018716799095273018, 0.016324026510119438, -0.017812862992286682, 0.006719702854752541, -0.04968991130590439, -0.04610075056552887, -0.03525351732969284, 0.015606194734573364, 0.008574102073907852, -0.020976640284061432, -0.01958085596561432, 0.007098558824509382, 0.016656355932354927, 0.00355924922041595, 0.008520929142832756, -0.0030989728402346373, -0.004991589579731226, -0.045382920652627945, 0.016882339492440224, 0.02626732550561428, -0.03825777396559715, 0.01898266188800335, -0.0071184984408319, -0.010262335650622845, -0.003326618578284979, 0.016895633190870285, 0.015247278846800327, -0.010494966059923172, -0.013665390200912952, 0.01744065433740616, 0.025443147867918015, 0.0122828995808959, -0.0037387071643024683, -0.013944546692073345, 0.01830470934510231, 0.026134394109249115, 0.008620628155767918, 0.0022315927781164646, 0.0011373978340998292, 0.008607334457337856, -0.003509399713948369, 0.022345837205648422, 0.002082044491544366, -0.006819401867687702, -0.00663329754024744, -0.011624886654317379, 0.0004120886151213199, -0.015712540596723557, -0.02362198196351528, -0.0316377691924572, -0.024751903489232063, -0.007836329750716686, 0.03668918088078499, 0.01762675866484642, -0.011325790546834469, -0.0022282693535089493, 0.03671576455235481, 0.04618050903081894, 0.012169906869530678, -0.005805796943604946, -0.008939663879573345, -0.01795908808708191, 0.003319971961900592, -0.02453921176493168, -0.02557608112692833, -0.00330501701682806, 0.029457688331604004, 0.01086052879691124, -0.00468252319842577, -0.009398278780281544, -0.008820025250315666, 0.009006130509078503, 0.006477102637290955, -0.02625403180718422, 0.0014331710990518332, 0.026971863582730293, -0.011664765886962414, 0.0013517503393813968, 0.016736114397644997, 0.010853881947696209, 0.03286074474453926, -0.03522692993283272, -0.00936504639685154, -0.00776321766898036, -0.01129920408129692, 0.010288922116160393, 0.029643794521689415, -0.016204386949539185, -0.002671929309144616, 0.015021294355392456, -0.016975391656160355, 0.01744065433740616, 0.01710832305252552, -0.013153602369129658, -0.02644013613462448, -0.03464202955365181, -0.007098558824509382, 0.022053387016057968, 0.007464121095836163, -0.0037453537806868553, -0.007264723535627127, -0.009943298995494843, 0.006739642936736345, 0.011179565452039242, -0.015685953199863434, -0.01043514721095562, 0.014423101209104061, 0.017666637897491455, 0.018703505396842957, -0.013027317821979523, 0.0016691250493749976, 0.0038849322590976954, -0.01184422429651022, 0.046233683824539185, -0.00039297965122386813, 0.0019673907663673162, 0.01031550858169794, 0.01778627559542656, -0.01976696029305458, -0.021760936826467514, 0.006586770992726088, 0.01702856458723545, 0.007464121095836163, 0.018198365345597267, -0.006600064225494862, 0.005117874592542648, -0.009099182672798634, 0.018092019483447075, -0.009564443491399288, -0.001075086067430675, -0.011458721943199635, 0.0021534953266382217, -0.01734760031104088, 0.029457688331604004, -0.004057743586599827, -0.01433004904538393, -0.0028015379793941975, -0.01599169708788395, -0.007876209914684296, -0.004007894080132246, -0.023568809032440186, -0.0009130753460340202, -0.024353107437491417, -0.01641707867383957, 0.009497977793216705, -0.024087244644761086, -0.030946524813771248, 0.015872057527303696, 0.0016832490218803287, 0.004031157121062279, 0.0008200231241062284, 0.2403407096862793, 0.006337523926049471, -0.007982554845511913, 0.020923467352986336, 0.005383738316595554, 0.013512518256902695, 0.018357882276177406, 0.008660507388412952, -0.02198692224919796, 0.027157967910170555, 0.005008205771446228, 0.011624886654317379, -0.02173435129225254, 0.0005159415886737406, 0.016230974346399307, -0.01685575395822525, -0.024167003110051155, -0.007876209914684296, -0.026652827858924866, -0.02746371179819107, 0.0008071453194133937, -0.004732372239232063, -0.0005574827664531767, -0.01923523284494877, 0.016483545303344727, 0.014183823950588703, -0.0020853676833212376, -0.014622499234974384, 0.0018693535821512341, -0.002294735284522176, -0.019873306155204773, -0.0008495173533447087, 0.011591654270887375, 0.010109463706612587, 0.005892202258110046, -0.0022399011068046093, 0.0036822110414505005, -0.004373456351459026, -0.004991589579731226, -0.006111539900302887, 0.00326181435957551, -0.007457474712282419, -0.009478038176894188, -0.00911247543990612, -0.012841212563216686, -0.005991901271045208, -0.02489812858402729, -0.014303462579846382, -0.029696965590119362, 0.008627274073660374, -0.021574832499027252, -0.013319767080247402, 0.03070724755525589, 0.02780933491885662, 0.006021811161190271, -0.007636932656168938, 0.003811819711700082, -0.018278123810887337, -0.034854721277952194, -0.007444181479513645, 0.007045385893434286, 0.014635792002081871, -0.013512518256902695, 0.016736114397644997, -0.022638287395238876, 0.01744065433740616, 0.004994912538677454, 0.002989304019138217, 0.001997300423681736, 0.006470455788075924, -0.010701010935008526, -0.026666121557354927, 0.006320907734334469, -0.010634545236825943, -0.010242396034300327, -0.012076854705810547, -0.003516046330332756, -0.004569530952721834, 0.01649683713912964, 0.044877778738737106, 0.006340847350656986, 0.023555517196655273, -0.0044665089808404446, 0.013944546692073345, -0.023648569360375404, -0.017095031216740608, 0.01934157870709896, -0.001084225019440055, -0.007636932656168938, -0.010534846223890781, 0.0158188845962286, -0.010209162719547749, -0.0008848273428156972, 0.002263164147734642, 0.007444181479513645, 0.011943923309445381, 0.007111852057278156, 0.019195353612303734, -0.023927725851535797, 0.008314884267747402, -0.01811860501766205, -0.010820649564266205, -0.0029361313208937645, 0.004154119174927473, -0.019607441499829292, -0.01813189871609211, 0.015061174519360065, 0.02943110279738903, 0.018623746931552887, -0.019806839525699615, -0.011352377012372017, 0.007523940410465002, 0.004974972922354937, -0.0031687619630247355, 0.0026121099945157766, 0.013200128450989723, -0.013100429438054562, 0.00761034619063139, 0.02770298905670643, -0.015127640217542648, -0.0065568615682423115, -0.01346599217504263, -3.759477840503678e-05, -0.00013583969848696142, 0.011897397227585316, -0.021760936826467514, -0.022983910515904427, 0.0016965422546491027, 0.024592384696006775, -0.003585835685953498, 0.03892243281006813, -0.0034927832894027233, 0.030813593417406082, 0.02011258341372013, -0.028367647901177406, 0.006490395404398441, 0.01128591038286686, 0.0005961160641163588, -0.0017746397061273456, -0.016802581027150154, 0.006257764995098114, -0.00776321766898036, -0.007151731289923191, -0.00581909017637372, 0.017214668914675713, -0.030388211831450462, 0.007085265591740608, -0.012748160399496555, 0.0087734991684556, -0.0165101308375597, -0.01652342453598976, 5.06542892253492e-05, 0.016722822561860085, 0.02113615721464157, 0.0032435362227261066, -0.016882339492440224, -0.04522339999675751, -0.014502860605716705, 0.005755947437137365, -0.0049450634978711605, -0.013718563131988049, 0.01356569118797779, 0.03296709060668945, -0.016324026510119438, -0.01446298137307167, -0.03549279272556305, -0.168451189994812, 0.031690943986177444, 0.01718808338046074, -0.03942757472395897, 0.011963862925767899, 0.004642643500119448, 0.027915680781006813, -0.00048769358545541763, 0.0004507219127845019, 0.011212797835469246, 0.009165648370981216, -0.010907054878771305, -0.034349579364061356, -0.005842353217303753, -0.008015788160264492, 0.015845471993088722, -0.009478038176894188, -0.023209894075989723, 0.03312660753726959, 0.02481836825609207, 0.002602140186354518, -0.026998450979590416, 0.000584069115575403, -0.0007423411007039249, 0.01008952409029007, 0.024658851325511932, 0.016443664208054543, 0.002967702690511942, -0.026559775695204735, -0.021534953266382217, -0.02924499846994877, 0.011877457611262798, -0.013419466093182564, 0.005224219989031553, 0.011585007421672344, -0.0013534119352698326, 0.009165648370981216, -0.0017962410347536206, -0.0031322056893259287, 0.04131520539522171, 0.021455194801092148, -0.004034480545669794, 0.007045385893434286, -0.012415830977261066, 0.013392879627645016, 0.014768724329769611, 0.022890858352184296, -0.015513142570853233, 0.020325273275375366, -0.01934157870709896, 0.013539104722440243, -0.028420820832252502, 0.027516884729266167, 0.006629974115639925, 0.011684706434607506, 0.015858765691518784, -0.0163373202085495, 0.012262959033250809, 0.011119745671749115, -0.0005757609033025801, 0.004805484786629677, -0.014396514743566513, 0.008288298733532429, 0.009723962284624577, -0.017679931595921516, -0.022983910515904427, -0.0017314368160441518, -0.00515110744163394, -0.03171753138303757, 0.016377199441194534, 0.0015669337008148432, -0.017932500690221786, 0.01838446967303753, -0.03506741300225258, 0.015539729036390781, -0.0037121206987649202, -0.0302021075040102, -0.002103645820170641, 0.0050779953598976135, 0.018424348905682564, -0.03248853608965874, 0.006550214719027281, -0.021322261542081833, -0.014489566907286644, 0.014316756278276443, 0.014782017096877098, 0.0067163798958063126, -0.03910853713750839, -0.009278640151023865, -0.02873985655605793, -0.004017863888293505, -0.027104796841740608, -0.009690728969871998, -0.013997719623148441, 0.005842353217303753, 0.016882339492440224, 0.014702258631587029, 0.03972002491354942, -0.00945809856057167, -0.0009687405545264482, 0.018278123810887337, -0.006334200967103243, -0.0006418114062398672, 0.026147687807679176, -0.0035991286858916283, 0.008640567772090435, 0.00104766886215657, 0.007942675612866879, 0.01803884655237198, -0.007251430302858353, -0.023329531773924828, 0.015553021803498268, 0.018158486112952232, 0.03466861695051193, -0.0024359754752367735, 0.03860339894890785, 0.012522176839411259, -0.007444181479513645, 0.026892105117440224, 0.006271058227866888, 0.032727811485528946, -0.0005105412565171719, -0.007623639423400164, 0.0026453430764377117, -0.017427360638976097, -0.0491315983235836, -0.10155989974737167, -0.022731339558959007, -0.003296708920970559, 0.022119853645563126, 0.008933017961680889, 0.019447924569249153, 0.0019009248353540897, -0.0018111958634108305, -0.02249206230044365, 0.04559561237692833, 0.001772977993823588, -0.03363174945116043, -0.010268982499837875, 0.001666632597334683, -0.011465368792414665, -0.023037083446979523, -0.008567455224692822, -0.025642545893788338, -0.012329425662755966, 0.022957323119044304, -0.012409184128046036, -0.02104310505092144, -0.005593105684965849, 0.009252053685486317, 0.0004519681679084897, -0.019049128517508507, -0.015366917476058006, -0.011551774106919765, 0.013944546692073345, 0.005407001357525587, 0.01107986643910408, -0.013665390200912952, 0.004782221745699644, -0.016124628484249115, -0.029058894142508507, -0.02154824696481228, -0.03044138476252556, -0.011046633124351501, 0.003984631039202213, -0.025695718824863434, 0.003324956865981221, -0.015592901036143303, -0.009923359379172325, -0.04405360296368599, 0.0026137717068195343, -0.006590094417333603, -0.03551938012242317, 0.008567455224692822, -0.022226199507713318, -0.020046116784214973, -0.03379126638174057, 0.020152462646365166, -0.008527575992047787, 0.006407313048839569, 0.02182740345597267, -0.005603075958788395, 0.008627274073660374, -0.008115487173199654, 0.01086717564612627, 0.008354764431715012, -0.011452075093984604, -0.01300737727433443, -0.0070653255097568035, 0.009311873465776443, 0.006005194503813982, 0.019820133224129677, -0.0012811303604394197, -0.006616680882871151, -0.0010435146978124976, -0.03379126638174057, -0.0036090987268835306, 0.01729442924261093, -0.011997096240520477, 0.018331296741962433, -0.03259487822651863, 0.018849730491638184, -0.007444181479513645, -0.0115052480250597, 0.019979650154709816, -0.024419574066996574, -0.005762593820691109, -0.012395891360938549, -0.0026121099945157766, -0.029218411073088646, 0.0156460739672184, 0.0049583567306399345, 0.009604323655366898, -0.016297439113259315, 0.018690211698412895, -0.018942782655358315, 0.003228581277653575, 0.02839423529803753, 0.004227231722325087, 0.01899595558643341, -0.0210563987493515, 0.007670165505260229, -0.02035186067223549, -0.019288405776023865, 0.004775575362145901, 0.015473262406885624, 0.006088276859372854, -0.018716799095273018, -0.03881608694791794, 0.03918829932808876, 0.00434354692697525, -0.023209894075989723, 0.012209787033498287, -0.0245657991617918, 0.007384362164884806, -0.00271513219922781, 0.025443147867918015, 0.005486760288476944, -0.022305957973003387, 0.021441901102662086, 0.007444181479513645, -0.009890126995742321, -0.017826154828071594, -0.00434354692697525, 0.034429337829351425, -0.0029494245536625385, 0.008009141311049461, 0.0069456868804991245, -0.01300737727433443, -0.0032535060308873653, -0.0048154545947909355, 0.016230974346399307, 0.022638287395238876, 0.000970402208622545, -0.01838446967303753, 0.005114551167935133, -0.012203140184283257, -0.021348848938941956, 0.02866009809076786, -0.03089335188269615, 0.005506700370460749, 0.01779956929385662, 0.018676919862627983, -0.022026801481842995, -0.01129255723208189, 0.024791782721877098, -0.014928242191672325, 0.01789262145757675, -0.011598300188779831, -0.02812837064266205, 0.02181410975754261, -0.01322006806731224, -0.008906431496143341, 0.016044870018959045, -0.034003958106040955, 0.009198881685733795, 0.030813593417406082, 0.014981415122747421, 0.014954828657209873, 0.0008781807846389711, -0.03001600317656994, -0.0071982573717832565, -0.00932516623288393, -0.02678575925529003, 0.008135426789522171, -0.015553021803498268, 0.010381974279880524, 0.006187975872308016, 0.015406796708703041, 0.02379479445517063, -0.0020288717932999134, -0.020684190094470978, 0.004626026842743158, -0.019540976732969284, 0.012302839197218418, -0.0021119541488587856, 0.005902172531932592, -0.022133145481348038, -0.01163818035274744, 0.014104065485298634, 0.013798321597278118, 0.022372422739863396, 0.011531834490597248, 0.0068260482512414455, -0.011093159206211567, -0.00293945474550128, -0.012196493335068226, 0.0312921479344368, -0.00011060341785196215, 0.0010426838416606188, -0.0350939966738224, 0.04019857943058014, 0.015779005363583565, 0.0070653255097568035, 0.018517401069402695, 0.026107806712388992, -0.007324542850255966, 0.014157237485051155, -0.009258700534701347, 0.00824841856956482, -0.015260571613907814, -0.0011099806288257241, 0.015366917476058006, 0.028022024780511856, -0.016483545303344727, 0.009046009741723537, 0.0076635186560451984, 0.013891373760998249, -0.0156460739672184, -0.012243019416928291, -0.006124833133071661, -0.010667777620255947, -0.006812755484133959, 0.00575262401252985, -0.01779956929385662, -0.033392470329999924, -0.009717315435409546, 0.009930006228387356, 0.003466197056695819, 0.009890126995742321, 0.01444968767464161, 0.012003742158412933, -0.004134179092943668, -0.014369928278028965, -0.015978403389453888, -0.0044565387070178986, -0.0022182995453476906, 0.0330202616751194, 0.008334824815392494, 0.010122757405042648, 0.03445592522621155, -0.0011930629843845963, 0.010421853512525558, 0.009777134284377098, 0.014595912769436836, -0.006620004307478666, -0.00684598833322525, -0.008308238349854946, 0.022704754024744034, -0.0021534953266382217, -0.014157237485051155, -0.035625725984573364, 0.00953785702586174, -0.0032751073595136404, -0.030733834952116013, 0.04115568846464157, -0.017945794388651848, 0.0659341812133789, -0.016124628484249115, -0.023542223498225212, 0.02009928971529007, -0.023076962679624557, 0.01814519241452217, -0.006018487736582756, -0.01625755988061428, -0.025934996083378792, 0.007902796380221844, -0.004569530952721834, -0.004699139390140772, 0.01522069238126278, 0.005696128122508526, -0.03155801072716713, -0.008009141311049461, 0.02378150075674057, 0.010175930336117744, -0.016563303768634796, -0.03918829932808876, 0.02464555762708187, 0.005593105684965849, 0.007032092660665512, 0.012515529990196228, -0.011697999201714993, -0.0036024521104991436, 0.01479531079530716, 0.010049644857645035, -0.020644310861825943, -0.05258782580494881, -0.015260571613907814, -0.008693740703165531, -0.0201923418790102, -0.004675876349210739, 0.0024077272973954678, -0.01615121401846409, -0.03389761224389076, 0.003157130442559719, -0.004699139390140772, 0.00705867912620306, -0.014011012390255928, 0.011046633124351501, 0.004177382215857506, 0.0040411269292235374, 0.018676919862627983, -0.007942675612866879, -0.009949945844709873, -0.006603387650102377, -0.030175520107150078], 'query_similarity_score': 0.8109472639273314}), _DocumentWithState(page_content='You guys are messing with me, right? That was a good one. For a second there, I was like, \"whoa.\"\\n\"Oh, Chandler, now, now, that\\'s it. There, faster!\"\\nSuch as? Check this out. Can I have this? Hey, there\\'s me! April 17th. Excessive noise. Italian guy comes homes with a date. Hey Chandler, look, you\\'re in here too. Check it out, check it out. Heckles\\' high school yearbook. \"Heckles, you crack me up in science class. You\\'re the funniest kid in school.\"', state={'embedded_doc': [-0.01702328398823738, 0.00559958815574646, 0.009463337250053883, -0.035360176116228104, -0.01966390386223793, 0.02365834265947342, 0.015186913311481476, -0.030400635674595833, -0.009516953490674496, -0.013873306103050709, 0.01928858645260334, 0.011440451256930828, 0.018551357090473175, 0.01790795847773552, 0.024583229795098305, -0.026915553957223892, 0.04393883794546127, -0.0024244775995612144, 0.013544904068112373, -0.013859901577234268, 0.00679255835711956, 0.020240282639861107, -0.00616591377183795, -0.008196644484996796, 0.0022368193604052067, 0.012968525290489197, 0.02566896751523018, -0.009637591429054737, 0.0045473612844944, -0.030802760273218155, 0.008571960963308811, 0.010046417824923992, -0.005757086910307407, -0.031928710639476776, -0.011835874058306217, -0.028309587389230728, -0.017318176105618477, -0.011373430490493774, 0.00969120766967535, -0.004631137475371361, 0.02620513364672661, -0.009161743335425854, -0.013343841768801212, -0.014221814461052418, -0.010555775836110115, 0.0008779725176282227, 0.009624186903238297, -0.015615846961736679, -0.02412748895585537, 0.022626223042607307, 0.03460954129695892, 0.017479024827480316, -0.018618378788232803, -0.006923248991370201, -0.0027445019222795963, 0.006970163434743881, 0.024837909266352654, 0.004497095942497253, -0.014784788712859154, -0.003178461454808712, -0.011447153054177761, -0.00890706479549408, -0.01928858645260334, 0.0050466665998101234, -0.023256218060851097, 0.014918830245733261, -0.0007745091570541263, -0.009557166136801243, -0.01671498827636242, -0.014208409935235977, 0.020521769300103188, -0.011540981940925121, -0.01174874696880579, -0.011661619879305363, 0.028631286695599556, -0.0019385766936466098, -0.005381770431995392, 0.013739264570176601, 0.0009416422690264881, -0.01898029074072838, 0.03726356476545334, -0.03570868447422981, -0.004463585559278727, 0.033537209033966064, 0.026459813117980957, 0.014422876760363579, 0.00019069512200076133, 0.024449188262224197, -0.032438069581985474, -0.009965993463993073, 0.017546046525239944, 0.005381770431995392, 0.019999006763100624, 0.015052871778607368, 0.004202204290777445, 0.02406046725809574, -0.0037062503397464752, -0.0058274585753679276, -0.01127960067242384, -0.01570967584848404, 0.0146105345338583, -0.007727498654276133, -0.004939433187246323, -0.00782132800668478, 0.0051002828404307365, -0.005224271677434444, 0.013216502033174038, -0.002132937079295516, 0.00445353239774704, 0.010642902925610542, -0.01648711785674095, 0.02192920632660389, 0.02676810882985592, -0.040507372468709946, -0.001624416676349938, 0.009416422806680202, 0.029757235199213028, 0.009791739284992218, -0.02136623114347458, -0.018430721014738083, -0.004235714673995972, 0.008236856199800968, -0.014101176522672176, 0.013846497982740402, 0.010307799093425274, 0.007244948763400316, -0.006511070765554905, -0.024717271327972412, 0.01288139820098877, -0.001066468539647758, 0.021098148077726364, -0.0029706971254199743, 0.035360176116228104, 0.008337387815117836, -0.008618875406682491, 0.037183139473199844, -0.01219108421355486, 0.01115226186811924, -0.01683562621474266, -0.03141935169696808, 0.000271015363978222, 0.016004567965865135, -0.01790795847773552, 0.007941965013742447, -0.00841781310737133, 0.017921362072229385, 0.03962269797921181, 0.015294146724045277, -0.0025987315457314253, 0.008317281492054462, 0.02739810384809971, 0.028765328228473663, -0.0067020803689956665, 0.010549074038863182, 0.003094685496762395, 0.0260710921138525, -0.005365015007555485, 0.02548130974173546, -0.015495209023356438, -0.04018567129969597, -0.00785483792424202, 0.0004603491397574544, 0.03525293990969658, -0.034663159400224686, 0.0016780333826318383, 0.013015439733862877, 0.010120141319930553, -0.018269870430231094, 0.009403018280863762, -0.007151119410991669, -0.005438738036900759, 0.023604726418852806, -0.003347689053043723, 0.03273295983672142, -0.00674564391374588, -0.02146006003022194, 0.01790795847773552, -0.0017174080712720752, -0.017948171123862267, -0.03624485060572624, -0.029328303411602974, 0.016017971560359, 0.018591569736599922, -0.0019402522593736649, -0.0035655065439641476, 0.01758625917136669, -0.0025434393901377916, -0.01758625917136669, -0.008706002496182919, -0.01353820227086544, 0.01353820227086544, 0.011360025964677334, -0.015106488950550556, -0.007834731601178646, -0.636107861995697, -0.012023531831800938, -0.021754952147603035, -0.009932482615113258, 0.0147177679464221, 0.04222310334444046, 0.0036124212201684713, 0.0039944397285580635, -0.013404160737991333, 0.018162637948989868, -0.002752879401668906, 0.003285694867372513, -0.004909273702651262, -0.006072084419429302, -0.031178077682852745, -0.01646030880510807, 0.027223849669098854, -0.006025169976055622, -0.02286749705672264, 0.006135754287242889, 0.004735019523650408, 0.012298316694796085, 0.004885816480964422, -0.007070694584399462, 0.0033393113408237696, 0.0072583528235554695, 0.008900362066924572, -0.01655413769185543, -0.018779229372739792, -0.013625329360365868, -0.037933774292469025, 0.015213722363114357, 0.001462728949263692, 0.024047063663601875, 0.05431365594267845, -0.01910092867910862, 0.003287370316684246, 0.009235466830432415, -0.007834731601178646, 0.025521520525217056, -0.016768604516983032, -0.01797497831285, -0.0005675824359059334, 0.029355110600590706, -0.005629747174680233, -0.012767462991178036, 0.012083850800991058, -0.008256962522864342, -0.033912524580955505, -0.029006602242588997, 0.03195551782846451, 0.014878617599606514, 0.00621953047811985, -0.003014260670170188, -0.0019117683405056596, -0.009027701802551746, 0.01646030880510807, -0.0031483022030442953, -0.005297994241118431, -0.005871022120118141, 0.002540088491514325, 0.03452911600470543, -0.009021000005304813, 0.021084744483232498, 0.005807352252304554, 0.018591569736599922, -0.026178324595093727, -0.006303306203335524, 0.02202303521335125, 0.012459167279303074, 0.002774661174044013, 0.028952986001968384, -0.049809858202934265, 0.017988383769989014, 0.017264558002352715, 0.01743881218135357, 0.007392394356429577, 0.003940823022276163, -0.00624298769980669, 0.00618937099352479, 0.005519162863492966, 0.012995333410799503, -0.009758228436112404, 0.001630280981771648, -0.00278806546702981, -0.029140643775463104, -0.036271657794713974, -0.0007988041616044939, -0.0012775840004906058, -0.006829419638961554, 0.006923248991370201, 0.032813385128974915, 0.001053064363077283, -0.004386511631309986, -0.015964355319738388, 0.0028148735873401165, -0.009128233417868614, -0.0010170406894758344, 0.009858760051429272, -0.015012660063803196, 0.008893660269677639, -0.008022390305995941, 0.01624584197998047, -0.0060787866823375225, -0.007472819183021784, 0.005894479341804981, -0.007513031829148531, 0.019583478569984436, 0.015682866796851158, -0.009349402040243149, 0.011654917150735855, -0.02447599731385708, -0.030829569324851036, -0.012164275161921978, -0.030641909688711166, -0.023886213079094887, 0.015334359370172024, 0.010187162086367607, 0.013833093456923962, -0.029837660491466522, -0.014556918293237686, -0.00945663545280695, 0.01526733860373497, -0.015307551249861717, 0.022921113297343254, 0.0079017523676157, 0.012083850800991058, 0.0011938080424442887, -0.02160750702023506, 1.6126879927469417e-05, 0.023269621655344963, -0.006447401363402605, 0.02532045915722847, -0.02908702753484249, 0.019717520102858543, 0.012398848310112953, 0.013926922343671322, -0.024395572021603584, 0.03434145823121071, -0.030427444726228714, -0.007553244475275278, -0.0036593356635421515, 0.001916794921271503, 0.0007556595373898745, 0.000818072643596679, 0.0028131981380283833, -0.007151119410991669, 0.004805391654372215, -0.019650498405098915, 0.01219108421355486, 0.029006602242588997, 0.003238780191168189, -0.008384302258491516, 0.0069835674948990345, 0.013605223037302494, 0.003191865747794509, -0.0041720448061823845, -0.021821973845362663, -0.014342451468110085, -0.01407436840236187, 0.014476493000984192, 0.02186218462884426, -0.01064960565418005, 0.0043194908648729324, 0.02267983928322792, -0.006356922909617424, 0.0076068611815571785, -0.030427444726228714, -0.0387648306787014, -0.04493074491620064, 0.017639875411987305, -0.011413642205297947, -0.008230154402554035, 0.008250260725617409, -0.0048020402900874615, 0.012552996166050434, -0.006802611518651247, -0.02745172008872032, -0.005566077772527933, -0.011500769294798374, 0.011158963665366173, 0.006011765915900469, -0.019154544919729233, -0.02139304019510746, 0.05088219419121742, 0.001518858945928514, 0.04275927320122719, 0.012036936357617378, -0.01517350971698761, 0.04058779776096344, 0.011494067497551441, -0.004993049893528223, -0.006346869748085737, -0.0008101139683276415, 0.0015473427483811975, -0.02230452373623848, 0.02365834265947342, -0.0030796057544648647, 0.017881149426102638, 0.01966390386223793, 0.0246636550873518, 0.00826366525143385, 0.02085687406361103, -0.007667179685086012, 0.009764931164681911, -0.016004567965865135, 0.00726505508646369, -0.022076651453971863, 0.007982177659869194, 0.009476741775870323, 0.005385121330618858, -0.026097899302840233, -0.009041106328368187, -0.021888993680477142, 0.008256962522864342, 0.013752668164670467, -0.00859206635504961, 0.017666682600975037, 0.001573313376866281, -0.015428188256919384, 0.0023725363425910473, -0.0007627804880030453, 0.01727796345949173, 0.022827284410595894, -0.025829816237092018, 0.007097502704709768, 0.005137144587934017, 0.021473465487360954, -0.014355855993926525, -0.018886461853981018, -0.005673310719430447, 0.021151764318346977, 0.03415380045771599, 0.018243061378598213, 0.005736980587244034, -0.0294355358928442, 0.008913766592741013, 0.003937472123652697, 0.002332323929294944, 0.0067825051955878735, 0.0033493645023554564, 0.005053368397057056, 0.03310827538371086, -0.004168693907558918, 0.009684505872428417, -0.012827781029045582, -0.005757086910307407, 0.009939185343682766, -0.0030628505628556013, 0.021634314209222794, 0.004671349655836821, 0.01831008307635784, -0.009134935215115547, 0.004389862529933453, 0.03729037567973137, -0.014543513767421246, 0.0019268480828031898, 0.010314501821994781, 0.020655810832977295, 0.026714490726590157, 0.003284019185230136, -0.007767710834741592, 0.02855086140334606, -0.008344089612364769, 0.0045473612844944, 0.02233133092522621, -0.017693491652607918, -0.020588790997862816, -0.0101804593577981, -0.011105346493422985, 0.007117609027773142, -0.009255573153495789, -0.04294693097472191, -0.0007849811227060854, 0.02293451875448227, -0.011179069988429546, 0.006849525962024927, 0.014905426651239395, 0.023644939064979553, 0.007673881947994232, -0.02111155167222023, -0.044528622180223465, 5.592048182734288e-05, -0.023832596838474274, -0.02635257877409458, -0.015012660063803196, 0.02667427994310856, -0.008645683526992798, -0.007955369539558887, -0.0013613600749522448, -0.02174154855310917, 0.029569577425718307, -0.008866852149367332, 0.00500310305505991, -0.005117038264870644, 0.0058274585753679276, 0.02906022034585476, 0.003273966256529093, -0.00447698961943388, -0.004329544026404619, 0.0064507522620260715, 0.0010631175246089697, 0.0007062316872179508, 0.0005797299090772867, 0.009744824841618538, 0.006423943676054478, -0.007432607002556324, -0.00786824245005846, -0.0014267052756622434, -0.028577670454978943, 0.009718016721308231, 0.014007347635924816, -0.04785285145044327, 0.0016813843976706266, 0.005184059031307697, 0.004862359259277582, -0.019516456872224808, -0.021527081727981567, 0.028926178812980652, -0.012680335901677608, 0.009979397058486938, -0.01863178238272667, -0.028095120564103127, -0.013089162297546864, 0.12310381233692169, 0.02641960047185421, 0.009872163645923138, 0.037772923707962036, 0.01308246050029993, -0.002142990240827203, -0.018645187839865685, 0.001123436144553125, 0.019154544919729233, -0.02946234494447708, 0.0015431540086865425, -0.005398525390774012, 0.013605223037302494, 0.022317927330732346, -0.001347118173725903, -0.014355855993926525, 0.016862433403730392, -0.002953941933810711, 0.03324231877923012, -0.013900114223361015, -0.005871022120118141, 0.0222777146846056, 0.013317033648490906, 0.01758625917136669, -0.004396564792841673, -0.023644939064979553, 0.030856376513838768, 0.018497740849852562, 0.04131162166595459, -0.021218786016106606, -0.03032021038234234, 0.014396068640053272, 0.005405227653682232, -0.015508613549172878, -0.0013948704581707716, 0.014101176522672176, 0.014154793694615364, 0.014918830245733261, -0.00010482472134754062, -0.02419450879096985, 0.006407188717275858, 0.01361862663179636, 0.005636449437588453, -0.015106488950550556, 0.002992478897795081, -0.01671498827636242, 0.003572208806872368, 0.03367125242948532, -0.02003921940922737, -0.017800724133849144, 0.0068059624172747135, 0.006956759374588728, 0.004396564792841673, -0.0038771533872932196, 0.008578662760555744, -0.015294146724045277, 0.002907027257606387, -0.016795413568615913, -0.02132601849734783, 0.0056029390543699265, 0.003227051580324769, -0.00512709142640233, -0.011500769294798374, -0.006511070765554905, -0.027666186913847923, -0.030427444726228714, -0.017988383769989014, -0.01680881716310978, -0.018162637948989868, -0.011628109030425549, 0.00557613093405962, -0.02522663027048111, -0.03364444151520729, 0.006226232275366783, 0.03286699950695038, -0.0020944001153111458, 0.010079928673803806, 0.006001712754368782, -0.015816908329725266, 0.011594599112868309, 0.0011787283001467586, -0.04042694717645645, 0.01583031378686428, -0.034824009984731674, 0.0018966887146234512, 0.013806285336613655, 0.02239835262298584, -0.011949809268116951, 0.012057042680680752, 0.020803255960345268, 0.025910241529345512, -0.014650747179985046, 0.009483443573117256, -0.016889242455363274, 0.0034951348789036274, -0.00445353239774704, 0.0033024500589817762, 0.01008663047105074, 0.008886958472430706, 0.005291292443871498, -0.003188514616340399, -0.012586507014930248, -0.00840440858155489, 0.017050091177225113, -0.008659088052809238, 0.004326192662119865, 0.014235218055546284, 0.004128481261432171, -0.003004207508638501, -0.009671101346611977, 0.03289381042122841, -0.008169835433363914, -0.006996971555054188, 0.01075683906674385, 0.027746612206101418, 0.013109268620610237, 0.015977758914232254, 0.03525293990969658, -0.013873306103050709, -0.007137715350836515, 0.022974731400609016, -0.026379387825727463, 0.013283522799611092, 0.002545114839449525, -0.0123318275436759, 0.02456982620060444, -0.004192151129245758, -0.02849724516272545, 0.001286799437366426, -0.00965769775211811, 0.0023507545702159405, 0.018886461853981018, -0.025266842916607857, -0.03477039188146591, -0.03423422574996948, -0.010689818300306797, -0.020092835649847984, -0.0011561088031157851, -0.02548130974173546, -0.0037062503397464752, -0.008746214210987091, -0.0020944001153111458, -0.011996723711490631, 0.004637839272618294, -0.006688675843179226, -0.03072233498096466, -0.006410539615899324, -0.011065134778618813, 0.023792384192347527, 0.009423124603927135, -0.009041106328368187, 0.018524549901485443, -0.003924068063497543, -0.00028798001585528255, -0.0018380455439910293, -0.03560144826769829, -0.011721937917172909, 0.0035655065439641476, -0.003200243227183819, -0.0016009594546630979, 0.0321163684129715, -0.016446905210614204, 0.01881944201886654, 0.002355781150981784, -0.016580946743488312, 0.01664796657860279, 0.004058109596371651, -0.025963857769966125, -0.0026221887674182653, 0.020789852365851402, 0.008149729110300541, 0.0043496498838067055, -0.0026841831859201193, 0.02120538242161274, -0.020253686234354973, 0.005502407904714346, 0.0193824153393507, 0.02723725326359272, 0.0027696345932781696, -0.014798193238675594, 0.005824107676744461, 0.0009181849891319871, -0.007164523936808109, -0.002154718851670623, 0.020213473588228226, -0.006320061627775431, 0.031204884871840477, 0.01944943703711033, -0.007204736117273569, 0.0025350619107484818, 0.012258104979991913, -0.033403169363737106, 0.02139304019510746, 0.0021480165887624025, 0.02686193771660328, -0.029489152133464813, -0.024489400908350945, 0.005388472694903612, -0.0004549036966636777, 0.006182669196277857, 0.017572853714227676, 0.05332174897193909, -0.017398599535226822, 0.013370649889111519, -1.3161995411792304e-05, 0.03251849487423897, 0.00015278648061212152, -0.005897830706089735, -0.002431179629638791, 0.019623691216111183, -0.010260884650051594, -0.021808568388223648, -0.009034404531121254, -0.002833304461091757, 0.004855656996369362, 0.01426202617585659, -0.031875092536211014, 0.002540088491514325, 0.0053750681690871716, 0.010059822350740433, -0.028818944469094276, 0.003679441986605525, 0.02924787811934948, -0.0034348161425441504, 0.004664647858589888, 0.004946134984493256, -0.009349402040243149, -0.0037900262977927923, -0.004781934432685375, 0.029864469543099403, 0.012767462991178036, 0.020307302474975586, -0.01957007497549057, 0.006025169976055622, 0.02029389888048172, -0.004540659487247467, 0.023913022130727768, -0.01991858147084713, -0.038872066885232925, 0.021687932312488556, 0.005388472694903612, 0.0010907636024057865, -0.0301593616604805, -0.001302716787904501, 0.007848136126995087, 0.024047063663601875, -0.00038285632035695016, 0.00854515191167593, -0.02233133092522621, -0.013182992115616798, -0.02003921940922737, 0.015535421669483185, -0.0063301147893071175, 0.02927468530833721, 0.009664399549365044, -0.0027813632041215897, -0.0030695528257638216, -0.025360671803355217, 0.016031375154852867, -0.007734200451523066, 0.005274537019431591, 0.022813880816102028, -0.009972695261240005, -0.002974048024043441, 0.004778583068400621, 0.025963857769966125, 0.004694807343184948, -0.017760513350367546, -0.012412252835929394, 0.029033411294221878, -0.025843221694231033, -0.013290224596858025, -0.010488755069673061, -0.004182097967714071, 0.005297994241118431, -0.007492925506085157, -0.0019067417597398162, -0.009805142879486084, 0.0019251725170761347, 0.01919475756585598, 0.03930099681019783, 0.04565456882119179, -0.009114828892052174, -0.018202850595116615, -0.000252584635745734, 0.0024462593719363213, -0.01528074312955141, 0.0024261530488729477, 0.012847887352108955, -0.03088318556547165, -0.019972199574112892, -0.03471677377820015, 0.0028048206586390734, 0.004239065572619438, 0.01453011017292738, -0.009362805634737015, 0.0073320758529007435, 0.010917688719928265, -0.01358511671423912, 0.00333428499288857, -0.029328303411602974, -0.006514422129839659, -0.027250658720731735, 0.011494067497551441, 0.023886213079094887, -0.006028521340340376, 0.024234721437096596, -0.0010622796835377812, -0.01033460721373558, -0.021419847384095192, 0.0010865747462958097, 0.020977510139346123, -0.005656555760651827, -0.008886958472430706, 0.020468153059482574, 0.02532045915722847, 0.011896192096173763, -0.0193824153393507, -0.035762298852205276, 0.002917080419138074, -0.01130640972405672, 0.010897582396864891, 0.0046411906369030476, -0.00674564391374588, -0.012010127305984497, 0.0013831418473273516, 0.004735019523650408, 0.0112460907548666, -0.02022687718272209, 0.017076900228857994, -0.013993943110108376, 0.004540659487247467, 0.02111155167222023, -0.004285980481654406, -0.048362210392951965, -0.002771310042589903, -0.01802859641611576, 0.027089808136224747, -0.009054509922862053, 0.017680088058114052, 0.012901504524052143, 0.03578910976648331, 0.005958149209618568, 0.023135580122470856, -0.00026305665960535407, -0.001799508580006659, -0.014865214005112648, -0.0014225165359675884, -0.02698257565498352, -0.016688179224729538, 0.006608251016587019, 0.026593854650855064, 0.004208906553685665, -0.020977510139346123, -0.014396068640053272, -0.0005906207952648401, 0.018792632967233658, -0.0102876927703619, -0.030105743557214737, 0.019328799098730087, 0.003133222460746765, -0.009289083071053028, -0.0025417639408260584, 0.004872412420809269, 0.010461946949362755, 0.023457281291484833, -0.04088268801569939, -0.012137467041611671, 0.010750136338174343, 0.007486223708838224, -0.01583031378686428, 0.024047063663601875, -0.012117360718548298, -0.0005612992099486291, 0.01947624422609806, 0.037370797246694565, 0.0028383310418576, 0.02833639457821846, 0.003652633633464575, -0.011527578346431255, 0.0070639923214912415, -0.03860398009419441, -0.011943106539547443, -0.009939185343682766, 0.0014677555300295353, -0.02158069796860218, -0.011929702945053577, -0.008659088052809238, 0.010307799093425274, -0.008739512413740158, 0.016607753932476044, 0.005559375509619713, 0.004587573930621147, 0.0215136781334877, -0.008833341300487518, -0.013370649889111519, 0.0005809865542687476, 0.01605818420648575, 0.00730526726692915, -0.017693491652607918, -0.005110336001962423, 0.004828848876059055, 0.0028517351020127535, -0.017666682600975037, 0.0032102963887155056, 0.013008737936615944, 0.02164771966636181, 0.023953234776854515, 0.002213361905887723, -0.016782008111476898, -0.024610038846731186, -0.024717271327972412, 0.015696272253990173, -0.031151268631219864, -0.011266197077929974, -0.02431514672935009, 0.022827284410595894, -0.0006165913655422628, 0.02324281446635723, 0.016782008111476898, -0.021781761199235916, -0.002533386228606105, -0.016755200922489166, -0.014154793694615364, -0.022693242877721786, -0.0020424588583409786, -0.006015116814523935, -0.03474358469247818, -0.017867745831608772, 0.013578413985669613, -0.023631535470485687, -0.02309536747634411, -0.001786104403436184, -0.016232438385486603, -0.001955332001671195, -0.0052711861208081245, 0.22690562903881073, 0.021594101563096046, 0.006501017604023218, 0.027290871366858482, -0.015629250556230545, 0.010656307451426983, 0.00034662321559153497, 0.008900362066924572, -0.02544109709560871, 0.02981085330247879, 0.0038503450341522694, 0.007794519420713186, -0.02981085330247879, 0.0024026958271861076, 0.015146701596677303, -0.014127984642982483, -0.018430721014738083, -0.018739016726613045, -0.005938042886555195, -0.028631286695599556, -0.011715236119925976, -0.014784788712859154, 0.009248870424926281, -0.033724866807460785, 0.02365834265947342, 0.01844412460923195, -0.010126843117177486, -0.009825249202549458, 0.009034404531121254, 0.026620661839842796, -0.008632279001176357, -0.019650498405098915, 0.002690885215997696, 0.005388472694903612, -0.015026063658297062, -0.0001983396796276793, 0.006139105651527643, -0.012057042680680752, 0.023350046947598457, 0.00504331523552537, -0.004915975965559483, -0.019328799098730087, 0.003977684769779444, -0.02999851107597351, -0.004175396170467138, -0.014771385118365288, -0.013451075181365013, -0.002072618342936039, -0.020749639719724655, 0.010321203619241714, -0.0236851517111063, -0.014355855993926525, 0.040132056921720505, 0.042866505682468414, 0.0203207079321146, 0.004745072685182095, 0.028068311512470245, 0.016580946743488312, -0.01900709979236126, -0.00019561695808079094, 0.02777341939508915, 0.027719803154468536, -0.006836121901869774, 0.0035554536152631044, -0.012995333410799503, 0.002974048024043441, -0.03621803969144821, 0.00040003040339797735, -0.013042247854173183, 0.00785483792424202, 0.013699051924049854, -0.021151764318346977, -0.0004283048037905246, -0.02233133092522621, -0.022988134995102882, -0.005140495486557484, 0.004108374938368797, -0.008156431838870049, 0.005391823593527079, 0.035547833889722824, -0.011125452816486359, 0.013296927325427532, -0.015320954844355583, -0.011460556648671627, -0.023980041965842247, -0.03889887407422066, 0.014959042891860008, -0.006618304178118706, -0.01755945011973381, -0.02186218462884426, 0.0036593356635421515, -0.010019609704613686, -0.012023531831800938, 0.007921858690679073, 0.013203097507357597, -0.005227622576057911, 0.0007141904206946492, 0.013410862535238266, -0.010435138829052448, -0.0002860950480680913, -0.01473117247223854, -0.035360176116228104, 0.013189693912863731, -0.016500521451234818, -0.012211190536618233, -0.02233133092522621, 0.026593854650855064, 0.029033411294221878, 0.02529365010559559, -0.01671498827636242, 0.006108946166932583, -0.011286303400993347, -0.0037230055313557386, 0.006380380131304264, 0.01507968083024025, 0.02186218462884426, -0.013015439733862877, -0.007191332057118416, 0.007861539721488953, -0.025816412642598152, 0.006963461171835661, -0.015723079442977905, -0.017599662765860558, 0.02522663027048111, -0.0010731705697253346, -0.03471677377820015, -0.016688179224729538, 0.009617485105991364, 0.01138683408498764, 0.008612172678112984, 0.024140892550349236, -0.014583726413547993, 0.027934269979596138, -0.0028282778803259134, -0.0069768656976521015, -0.005847564898431301, 0.005790597293525934, -0.012807675637304783, -0.017103709280490875, -0.009590676985681057, -0.0067322393879294395, -0.014757980592548847, -0.001918470486998558, 0.014422876760363579, 0.007781114894896746, -0.04329543933272362, 0.011004815809428692, 0.013591818511486053, -0.024904929101467133, -0.014677555300295353, -0.017546046525239944, 0.0048925187438726425, -0.009349402040243149, -0.022291118279099464, 0.013953731395304203, -0.02349749393761158, -0.02277366816997528, -0.049300502985715866, -0.018484337255358696, 0.02519982121884823, -0.021728143095970154, 0.017452217638492584, 0.019744327291846275, 0.0016101747751235962, -0.04096311330795288, -0.03214317560195923, -0.17060814797878265, 0.01825646683573723, 0.03527975082397461, -0.017519237473607063, 0.004155289847403765, 0.0014325695810839534, 0.01737179234623909, -0.013752668164670467, -0.015133297070860863, -0.0025233332999050617, 0.0018548007356002927, 0.009650995023548603, 0.009845355525612831, -0.011587896384298801, -0.01416819728910923, 0.005991659592837095, -0.017050091177225113, -0.005371717270463705, 0.04774561896920204, 0.022411756217479706, 0.02548130974173546, -0.025776199996471405, 0.02020006999373436, 0.013290224596858025, -0.0014325695810839534, 0.025937050580978394, 0.009041106328368187, -0.004128481261432171, -0.02330983430147171, -0.01828327402472496, -0.040212482213974, 0.012935014441609383, 0.012573102489113808, 0.018042000010609627, 0.022907709702849388, 0.00501985801383853, 0.011078538373112679, -0.003418060950934887, -0.008029092103242874, 0.025722583755850792, 0.018068809062242508, 0.028845753520727158, 0.009892269968986511, 0.021714739501476288, 0.005589534994214773, 0.0189132709056139, 0.02833639457821846, -0.027197040617465973, 0.008531748317182064, -0.029194261878728867, 0.03251849487423897, -0.05064091831445694, 0.018055403605103493, -0.001429218566045165, 0.011996723711490631, 0.03383209928870201, -0.03292061761021614, 0.02836320362985134, -0.008773023262619972, -0.014195005409419537, -0.012935014441609383, 0.004296033177524805, 0.01168842799961567, -0.01711711287498474, -0.010817157104611397, -0.020401131361722946, 0.014516705647110939, 0.006996971555054188, -0.01008663047105074, 0.013223203830420971, -0.004862359259277582, -0.02020006999373436, 0.012398848310112953, -0.009986099787056446, 0.00502656027674675, -0.005837511736899614, -0.004838902037590742, 0.013028844259679317, 0.000384112965548411, -0.005354961846023798, 0.0012876371620222926, 0.004480340518057346, -0.022787071764469147, 0.005157250910997391, 0.0147177679464221, 0.0013462803326547146, -0.0008101139683276415, -0.004691455978900194, -0.012197786010801792, -0.014382664114236832, -0.013303629122674465, -0.02026708982884884, 0.004229012411087751, -0.032089561223983765, -0.008726108819246292, 0.015964355319738388, 0.014221814461052418, 0.011567790061235428, -0.004781934432685375, -0.024301743134856224, -0.001399897038936615, 0.013859901577234268, 0.0020675917621701956, 0.024824505671858788, -0.005311398766934872, 0.020535172894597054, -0.03176786005496979, 0.01627265103161335, 0.0032655885443091393, -0.011004815809428692, -0.03270615264773369, 0.013779477216303349, 0.0430273562669754, 0.023363452404737473, -0.011319813318550587, 0.03329593315720558, 0.002928809029981494, -0.014235218055546284, 0.016232438385486603, -0.01793476566672325, 0.04552052915096283, -0.005294643342494965, -0.0050466665998101234, -0.0011762151261791587, 0.005582832731306553, -0.013417564332485199, -0.1110936775803566, -0.012150871567428112, -0.0033024500589817762, 0.018055403605103493, -0.007345479913055897, 0.02532045915722847, 0.008873553946614265, 0.01975773274898529, -0.017572853714227676, 0.041928213089704514, 0.0070572905242443085, -0.010522265918552876, -0.02396663837134838, 0.005338206887245178, 0.001624416676349938, -0.006323412526398897, 0.03289381042122841, -0.02007943205535412, -0.03873802348971367, 0.025307055562734604, -5.340720235835761e-05, -0.027853844687342644, -0.005659906659275293, -0.009007595479488373, -0.005465546157211065, -0.021151764318346977, -0.03230402618646622, 0.01680881716310978, 0.01727796345949173, 0.0038134835194796324, -0.00964429322630167, -0.018176041543483734, 0.004644541535526514, -0.021540485322475433, -0.003558804513886571, -0.025105992332100868, -0.0009349401807412505, -0.004396564792841673, 0.0013312007067725062, -0.041767362505197525, 0.0074125006794929504, -0.0007129337755031884, 0.007714094128459692, -0.016031375154852867, 0.01143374852836132, -0.00956386886537075, -0.02758576162159443, 0.03184828534722328, -0.014865214005112648, -0.01297522708773613, -0.036486122757196426, 0.010260884650051594, -0.024073872715234756, -0.005954798310995102, 0.032277218997478485, 0.003108089789748192, 0.02221069298684597, -0.0025082535576075315, -0.0349312424659729, 0.018363699316978455, -0.00033112464006990194, -0.005204165354371071, -0.030427444726228714, 0.0013722509611397982, 0.006748994812369347, 0.0021597454324364662, -0.01338405441492796, -0.011406940408051014, 0.016326267272233963, -0.02576279640197754, -0.027130020782351494, 0.016138609498739243, -0.009852058254182339, 0.007881646044552326, -0.014382664114236832, 0.010033014230430126, -0.00895397923886776, 0.003000856377184391, 0.027277465909719467, -0.013390756212174892, -0.017170729115605354, -0.01835029572248459, -0.007231544703245163, -0.009751526638865471, 0.009959290735423565, 0.006504368968307972, 0.018055403605103493, 0.019060716032981873, 0.0046009779907763, -0.029864469543099403, -0.017639875411987305, 0.027223849669098854, 0.009315891191363335, -0.00016776144912000746, -0.025709180161356926, 0.02101772278547287, -0.016098396852612495, -0.005391823593527079, 0.02553492598235607, 0.01312937494367361, -0.0044937445782125, -0.016661372035741806, -0.04720945283770561, 0.03415380045771599, -0.015012660063803196, -0.011098644696176052, 0.015495209023356438, -0.029542770236730576, 0.004714913200587034, -0.007077396847307682, -0.01184257585555315, -0.00949014537036419, -0.023202601820230484, 0.01919475756585598, -0.01687583699822426, 0.004235714673995972, -0.022693242877721786, -0.012110658921301365, 0.01884624920785427, -0.027062999084591866, 0.019342202693223953, -0.002307191025465727, 0.0035688576754182577, -0.011487365700304508, 0.013752668164670467, 0.01793476566672325, -0.0001506920816609636, -0.0007074883324094117, -0.019690711051225662, 0.029113836586475372, -0.01844412460923195, -0.01298863161355257, 0.02104453183710575, -0.04624435305595398, 0.006856228224933147, 0.032062750309705734, 0.026030879467725754, -0.01821625418961048, 0.0018631783314049244, 0.009999503381550312, -0.006802611518651247, 0.0136320311576128, -0.013377351686358452, -0.034824009984731674, 0.013913518749177456, -0.027371294796466827, -0.006132403388619423, -0.0050701238214969635, -0.03018616884946823, 0.012418954633176327, 0.02422131784260273, 0.009248870424926281, 0.01821625418961048, 0.0090947225689888, -0.026030879467725754, -0.024623442441225052, 0.0016135257901623845, 0.013940326869487762, 0.013015439733862877, -0.01427543070167303, 0.010468649677932262, -0.01123268622905016, 0.013471181504428387, 0.026245346292853355, 0.01253288984298706, -0.0024965249467641115, 0.013833093456923962, 0.012305019423365593, -0.007700690068304539, -0.004118428099900484, 0.02085687406361103, 0.00614245655015111, -0.0025350619107484818, -0.006534527987241745, 0.015441592782735825, 0.028952986001968384, 0.0041653430089354515, 0.0005876886425539851, -0.0032957480289041996, -0.005720225628465414, -0.03125850111246109, 0.002000570995733142, 0.017170729115605354, 0.007647073362022638, -0.034663159400224686, 0.011507472023367882, 0.02814873680472374, -0.005850915797054768, -0.01338405441492796, -0.0071846297942101955, 0.007727498654276133, 0.014677555300295353, -0.008638981729745865, 0.015910739079117775, -0.01755945011973381, -0.009081318974494934, 0.016567541286349297, 0.017050091177225113, -0.026365984231233597, -0.01831008307635784, 0.003609070088714361, 0.03401976078748703, 0.009128233417868614, 0.004587573930621147, -0.009175147861242294, 0.0006831932696513832, -0.011085240170359612, 0.012921610847115517, -0.008967382833361626, -0.015052871778607368, 0.005160601809620857, 0.006852876860648394, 0.018966887146234512, -0.011628109030425549, 0.013008737936615944, 0.023953234776854515, -0.030615102499723434, 0.0013973837485536933, -0.03090999461710453, 0.0014769709669053555, -0.0051505486480891705, 0.03249168395996094, -0.0021011021453887224, 0.006058680359274149, 0.01366554107517004, -0.006460805423557758, 0.024301743134856224, 0.003810132620856166, -0.0009173472062684596, -0.016299458220601082, -0.0177203007042408, -0.0035420493222773075, 0.010066524147987366, -0.008933872915804386, -0.01068311557173729, -0.015454997308552265, -0.0008771347347646952, 0.012995333410799503, -0.04128481447696686, 0.024261530488729477, -0.02745172008872032, 0.04090949892997742, 0.009228764101862907, -0.03176786005496979, -0.0003748976159840822, 0.02475748397409916, 0.027062999084591866, 0.020427940413355827, -0.012680335901677608, -0.010776945389807224, 0.009228764101862907, -0.0017132192151620984, -0.011011517606675625, 0.0227066483348608, -0.010046417824923992, -0.03294742479920387, 0.020964106544852257, 0.01837710477411747, 0.005958149209618568, 0.0010396601865068078, -0.021084744483232498, 0.018390508368611336, -0.001684735412709415, 0.028095120564103127, 0.010502159595489502, -0.010079928673803806, -0.015294146724045277, 0.013317033648490906, -0.0092019559815526, -0.037049099802970886, -0.03814823925495148, -0.008411110378801823, 0.008384302258491516, -0.012358635663986206, -0.0046244352124631405, -0.0032019189093261957, -0.034100182354450226, -0.01294171717017889, 0.004215608350932598, -0.0005181545857340097, 0.0008235180866904557, -0.022974731400609016, 0.006614953279495239, -0.027505336329340935, -0.013330437242984772, 0.025374075397849083, 0.0067892069928348064, -0.008344089612364769, 0.006614953279495239, -0.047638386487960815], 'query_similarity_score': 0.7992115909102061}), _DocumentWithState(page_content=\"Yeah. We did? Uh, hi. We uh, we used to work together. Yeah, at Macy's. You were the Obsession girl, right? I was the Aramis guy. Aramis? Aramis? I gotta tell you. You're the best in the business. I'm serious. You're amazing. You know when to spritz, when to lay back. Ooh, you smell great tonight. What're you wearing? Listen, uh, you wanna go get a drink or something? What's wrong? Oh. What? Wait, wait, wait! So I guess you all saw it. Set another place for Thanksgiving. My entire family thinks I have VD. Chandler, will you just come in already? Hey, Monica, I got a question. I don't see any tater tots. But my mom always makes them. It's like a tradition. You get a little piece of turkey on your fork, a little cranberry sauce, and a tot! It's bad enough I can't be with my family because of my disease. The balloon? Wait, wait, we have a copy of your key. That tone will not make me go any faster. That one will.\", state={'embedded_doc': [-0.020920133218169212, -0.03328203037381172, 0.026163751259446144, -0.030130425468087196, 0.0034334829542785883, 0.036623816937208176, -0.010792886838316917, -0.0111324992030859, -0.02687014639377594, -0.0005450781318359077, 0.020770704373717308, 0.002868028124794364, 0.024329842999577522, -0.0014009018195793033, -0.01930357702076435, 0.012124168686568737, 0.044611506164073944, 0.00429270276799798, 0.0170485507696867, -0.04936608299612999, 0.005270787049084902, 0.005284371320158243, 0.008198247291147709, 0.0064288657158613205, 0.01199511531740427, 0.013570917770266533, 0.009108408354222775, -0.006377923768013716, 0.0062420787289738655, -0.0007416289299726486, 0.0022414429113268852, 0.018407000228762627, 0.0031583968084305525, -0.027359187602996826, -0.01799946464598179, -0.03934071958065033, -0.01992846466600895, -0.008714457973837852, 0.020974472165107727, -0.01343507319688797, -0.006778666749596596, -0.0169670432806015, -0.011804932728409767, 0.010731756687164307, 0.0012276993365958333, 0.0039666746743023396, -0.026951652020215988, -0.01651875488460064, 0.0012811883352696896, 0.008340884000062943, 0.034803494811058044, 0.006948472931981087, -0.030891157686710358, -0.020077893510460854, 0.007675244007259607, 0.01791795901954174, 0.0020071102771908045, -0.003141416236758232, -0.0024740775115787983, -0.00837484560906887, 0.01204945333302021, 0.002557282568886876, -0.0189911350607872, 0.00895897950977087, -0.017958711832761765, 0.017293071374297142, -0.024574365466833115, -0.007763543166220188, -0.012409443035721779, -0.00290538533590734, 0.030999833717942238, 0.013564125634729862, 0.006479807663708925, 0.004622126929461956, 0.04143273085355759, -0.01370676327496767, -0.0016191028989851475, 0.0009475190308876336, -0.025009069591760635, -0.018094556406140327, 0.028500284999608994, -0.034721989184617996, -0.013306019827723503, 0.0404818169772625, 0.03325486183166504, 0.026707131415605545, 0.005467762239277363, 0.02624525874853134, -0.018597183749079704, -0.0011130801867693663, 0.015934621915221214, 0.03292883187532425, 0.011737010441720486, 0.02450644224882126, 0.00551191158592701, 0.025063406676054, 0.015092382207512856, 0.02707391232252121, 0.004577977117151022, -0.0031431142706424, 0.0005637568538077176, -0.010989862494170666, -0.014209389686584473, -0.017754944041371346, -0.016654599457979202, 0.007294877897948027, 0.021680865436792374, -0.020308831706643105, 0.030537961050868034, 0.0059737847186625, -0.01672252267599106, 0.018828120082616806, 0.01598895899951458, -0.02377287857234478, -0.014304480515420437, 0.009780841879546642, 0.0018169272225350142, -0.012979991734027863, -0.019561683759093285, -0.0022176699712872505, 0.024886807426810265, 0.002480869647115469, -0.009841972030699253, -0.0023008750285953283, 0.007131863851100206, 0.00826616957783699, -0.016708938404917717, -0.015839530155062675, -0.0083680534735322, -0.0037255496717989445, 0.03915053606033325, 0.011247968301177025, 0.008931810036301613, 0.003498009406030178, -0.02005072496831417, 0.014820692129433155, -0.038226790726184845, 0.007906179875135422, -0.010419312864542007, -0.00816428568214178, -0.011010238900780678, 0.02024090848863125, -0.012429819442331791, 0.015907451510429382, 0.007050356827676296, 0.0334722138941288, 0.041324056684970856, -0.0024452104698866606, 0.01268792524933815, 0.0006410186761058867, 0.02782106027007103, -0.003773095551878214, 0.005576438270509243, -0.02197972498834133, 0.013720347546041012, -0.006897530984133482, -0.02120540849864483, 0.008829926140606403, -0.012932445853948593, -0.0073560080491006374, -0.017564762383699417, 0.007389969192445278, 0.020920133218169212, -0.006296416744589806, 0.00589227769523859, 0.02143634483218193, 0.0006872909143567085, -0.0037153614684939384, -0.0018033427186310291, -0.008402015082538128, 0.011682672426104546, 0.011003446765244007, -0.03781925514340401, 0.023433266207575798, 0.018583599478006363, 0.020064309239387512, 0.007478268351405859, -0.009135577827692032, -0.008028441108763218, -0.002810293808579445, -0.027345603331923485, 0.015921035781502724, 0.006262455601245165, 0.0239766463637352, -0.015377656556665897, -0.004985512234270573, -0.00021576009748969227, -0.004197611007839441, -0.016138387843966484, -0.010908355005085468, 0.00046399564598686993, 0.011125707067549229, 0.0035829124972224236, -0.0460786335170269, -0.6524907946586609, -0.02697882242500782, -0.010840432718396187, -0.0008647384820505977, 0.009937063790857792, 0.04314437881112099, 0.003470840398222208, -0.0004758820869028568, -0.03317335620522499, 0.03059229999780655, -0.0179043747484684, 0.014616924338042736, 0.008775588124990463, 0.0005718226311728358, -0.026503363624215126, -0.023582695052027702, 0.012871315702795982, 0.012946031056344509, -0.0075801522471010685, 0.0027372771874070168, -0.02613658271729946, 0.018828120082616806, 0.014236558228731155, -0.005627380218356848, 0.005586626473814249, 0.006938284728676081, -0.0023144595324993134, -0.008089571259915829, -0.016804030165076256, 0.006673386786133051, -0.012334727682173252, 0.023854386061429977, -0.003002174897119403, -0.013407903723418713, 0.06449921429157257, -0.01749683916568756, -0.017293071374297142, 0.0027474656235426664, 0.00621151365339756, 0.019643189385533333, -0.026612039655447006, -0.0044930740259587765, 0.02687014639377594, 0.009869140572845936, 0.009753672406077385, 0.006595275830477476, 0.002589545678347349, -0.0018695670878514647, 0.00842918362468481, -0.002297478960826993, 0.012164921499788761, -0.009162746369838715, 0.007220163010060787, 0.004540619906038046, 0.036406464874744415, 0.0011470414465293288, 0.013312811963260174, -0.02015940099954605, 0.005005889106541872, 0.0033502778969705105, -0.007770335301756859, 0.019643189385533333, -0.008442767895758152, 0.013034329749643803, -0.010371767915785313, 0.019453007727861404, -0.016926290467381477, 0.019874127581715584, 0.019588852301239967, -0.004085538908839226, 0.0037051730323582888, 0.025742631405591965, -0.035129524767398834, -7.015121809672564e-05, 0.004187422804534435, 0.02631318010389805, 0.011322682723402977, 0.010188376531004906, -0.00642207358032465, 0.0070096030831336975, -0.01300036907196045, -0.008503898046910763, -0.01779569871723652, -0.003005571197718382, 0.017197979614138603, -0.01236868929117918, -0.03241262212395668, 0.02282196469604969, 0.005111169070005417, 0.010806471109390259, 0.008171077817678452, 0.037248704582452774, -0.01962960511445999, 0.0007700714631937444, 0.007362800184637308, 0.028011243790388107, -0.03303750976920128, -0.004095727577805519, 0.006255663465708494, -0.03602610155940056, 0.01156720332801342, -0.006469618994742632, 0.009651788510382175, -0.005087396129965782, -0.0031125491950660944, 0.013339981436729431, -0.029070835560560226, 0.030999833717942238, 0.015119550749659538, -0.018950380384922028, 0.006945076864212751, -0.028310103341937065, -0.009149162098765373, -0.029125172644853592, 0.00412968872115016, -0.019126979634165764, -0.004540619906038046, 0.005202864296734333, -0.0005404084804467857, -0.0030395323410630226, -0.004761368036270142, -0.008666912093758583, 0.005749640520662069, -0.004710426088422537, 0.004255345556885004, -0.0020037139765918255, 0.010806471109390259, -0.015078797936439514, -0.01994204893708229, -0.0016360834706574678, 0.00885030347853899, 0.005314936395734549, 0.026489779353141785, -0.014902198687195778, 0.0004071105504408479, -0.005236825440078974, 0.019344331696629524, -0.02037675306200981, 0.024913977831602097, -0.02688373066484928, -0.01684478297829628, 0.0037051730323582888, -0.000881294603459537, -0.005970388650894165, 0.0017659852746874094, -0.025076990947127342, 0.007960517890751362, -0.002375589916482568, -0.0340971015393734, -0.002626903122290969, 0.0014688243390992284, 0.0012327935546636581, -0.012674340978264809, 0.01707571931183338, 0.04572543501853943, -0.003681400092318654, 0.0005820110091008246, -0.029396863654255867, -0.026516947895288467, 0.013210928067564964, -0.00480212178081274, 0.012219259515404701, 0.01348941121250391, 0.007288085296750069, 0.017931543290615082, -0.03540121391415596, -0.002800105605274439, -0.021463513374328613, -0.023270253092050552, -0.03453180566430092, 0.010310636833310127, -0.018841704353690147, -0.0014484475832432508, 0.004700237885117531, -0.003970070742070675, 0.015540670603513718, -0.0028204822447150946, -0.015105966478586197, 0.005233429372310638, -0.004598353989422321, 0.0060179345309734344, 0.006717536598443985, -0.011125707067549229, 0.005698698572814465, 0.0669444277882576, -0.015173888765275478, -0.007967310957610607, 0.02663920819759369, 0.010358182713389397, 0.015690099447965622, -0.005905862431973219, -0.007267708890140057, -0.010901562869548798, -0.014684846624732018, 0.009971024468541145, -0.022686118260025978, 0.012246428988873959, 0.005471158307045698, 0.002913875738158822, 0.015228226780891418, 0.024764547124505043, -0.021517852321267128, 0.03102700412273407, -0.0017982485005632043, 0.005943219643086195, -0.021816710010170937, -0.002207481535151601, -0.007349215913563967, 0.02100164070725441, 0.019018303602933884, -0.016478002071380615, -0.0045100548304617405, -0.009841972030699253, -0.005155318416655064, 0.014807107858359814, 0.02953270822763443, -0.01199511531740427, 0.012219259515404701, 0.007403553929179907, 0.004819102119654417, 0.0007917218026705086, 0.0015265584224835038, 0.011845685541629791, 0.0070367720909416676, -0.03051079250872135, -0.01833907887339592, 0.0392320416867733, 0.016804030165076256, -5.7787197874858975e-05, -0.011139292269945145, 0.008279753848910332, 0.028500284999608994, 0.015268980525434017, 0.02187104895710945, 0.02005072496831417, -0.04656767472624779, 0.011003446765244007, 0.006975641939789057, 0.024968314915895462, -0.009251045994460583, 0.0030480227433145046, 0.012008699588477612, 0.029396863654255867, -0.009814802557229996, 0.018583599478006363, -0.019004719331860542, 0.01833907887339592, 0.008442767895758152, -0.01771419122815132, 0.017850035801529884, -0.030755313113331795, -0.014100713655352592, -0.017442500218749046, 0.0034012198448181152, 0.0014144863234832883, -0.01835266314446926, -0.008435975760221481, -0.019588852301239967, 0.027875399217009544, 0.050072476267814636, 0.006782062817364931, -0.007505437359213829, 0.014250142499804497, 0.0019714508671313524, -0.005834543611854315, 0.03037494793534279, 0.0023399305064231157, -0.03904185816645622, -0.0023178556002676487, 0.00042494022636674345, 0.01182530913501978, -0.021028809249401093, -0.025348681956529617, 0.0022176699712872505, 0.01338073518127203, -0.0003771822084672749, 0.003681400092318654, 0.01630140282213688, 0.010623080655932426, 0.006408488843590021, -0.009298591874539852, -0.033227693289518356, 0.02187104895710945, -0.009841972030699253, -0.009998193942010403, -0.00857861340045929, 0.006282832473516464, 0.002202387433499098, -0.0059941615909338, 0.01972469687461853, -0.0004830988764297217, 0.006897530984133482, -0.0038478102069348097, 0.0076073212549090385, -0.007654867134988308, 0.019874127581715584, 0.03390691801905632, -0.0020478637889027596, 0.010881186462938786, 0.010392144322395325, -0.00458476971834898, 0.005739452317357063, -0.011587580665946007, -0.0179043747484684, 0.016233479604125023, 0.007573360111564398, 0.007267708890140057, -0.01770060695707798, -0.014671262353658676, -0.023501189425587654, -0.005399839486926794, -0.005423612426966429, -0.025552447885274887, -0.02473737858235836, 0.0019256032537668943, 0.010426105931401253, -0.02204764634370804, 0.00042494022636674345, 0.021300500258803368, 0.01129551324993372, -0.0009704428957775235, -0.010385352186858654, -0.016790444031357765, 0.016708938404917717, 0.09704768657684326, 0.028092751279473305, -0.022577442228794098, 0.011967946775257587, 0.013536956161260605, 0.007104694843292236, -0.0032585824374109507, -0.02024090848863125, 0.040454648435115814, -0.007634490262717009, 0.029940243810415268, -0.005732660181820393, -0.00880275759845972, -0.012871315702795982, 0.020716365426778793, 0.00016906337987165898, 0.0004576279316097498, 0.0038070566952228546, 0.01312262937426567, -0.009352929890155792, -0.026584871113300323, 0.005586626473814249, -0.007512229960411787, -0.0022855924908071756, -0.012810185551643372, 0.006659802049398422, 0.022034062072634697, 0.014549002051353455, 0.03371673449873924, -0.0075529832392930984, -0.03708568960428238, 0.005440593231469393, 0.0017829659627750516, -0.0019561683293431997, -0.007294877897948027, -0.010976278223097324, 0.00149854039773345, 0.0064730155281722546, 0.0020444674883037806, -0.002110691973939538, 0.0373573824763298, 0.008999732322990894, 0.006109629757702351, -0.005077207926660776, 0.004258741624653339, 0.004214591812342405, -0.012647171504795551, 0.0032993359491229057, -0.007349215913563967, -0.016287818551063538, 0.016559507697820663, 0.009563489817082882, 0.01258604135364294, -0.021259745582938194, 0.019887711852788925, -0.002618412720039487, -0.01973828114569187, -0.011220798827707767, -0.032358285039663315, 0.015907451510429382, -0.0006596973980776966, -0.022332921624183655, 0.005922842770814896, -0.01577160693705082, -0.031516045331954956, -0.011356644332408905, -0.021463513374328613, -0.020539768040180206, -0.014494664035737514, -0.01608405075967312, -0.007586944382637739, -0.004673068877309561, -0.02248235046863556, 0.01306829135864973, 0.02204764634370804, 0.016151973977684975, 0.0008248339872807264, -0.0070367720909416676, 0.0018746613059192896, -0.00047970275045372546, -0.0006550277466885746, -0.03186924383044243, 0.016654599457979202, -0.017428915947675705, -0.020417507737874985, 0.009787634015083313, 0.027766723185777664, 0.018148895353078842, -0.024126075208187103, 0.008089571259915829, 0.025117745622992516, 0.007464684080332518, 0.029587045311927795, -0.03398842364549637, 0.012219259515404701, -0.005389651283621788, -0.011662295088171959, 0.009862348437309265, -0.018203232437372208, 0.0004020163614768535, -0.017225148156285286, -0.025403019040822983, -0.008123531937599182, -0.025511695072054863, -0.0006656406330876052, -0.01620631106197834, -0.0026574681978672743, 0.0013227908639237285, 0.002002015942707658, -0.02185746468603611, 0.03333636745810509, -0.009875932708382607, -0.014263727702200413, -0.008218623697757721, 0.03260280564427376, 0.013360357843339443, 0.004594957921653986, 0.028418779373168945, -0.01918131671845913, -0.003908940590918064, 0.0006461128941737115, -0.0387701690196991, 0.026951652020215988, 0.014725600369274616, -0.012450196780264378, 0.0018610768020153046, 0.022006893530488014, -0.01651875488460064, -0.016804030165076256, -0.0013143005780875683, 0.004268929827958345, 0.016165558248758316, -0.017306655645370483, -0.02047184482216835, -0.02109673246741295, -0.020444676280021667, 0.0008341733482666314, 0.0017914562486112118, -0.010670626536011696, -0.007349215913563967, -0.016695354133844376, -0.002154841786250472, -0.018040219321846962, -0.014277311973273754, 5.54191956325667e-06, -0.027046743780374527, -0.010235922411084175, 0.010663834400475025, -0.007851841859519482, 0.01273547112941742, -0.006085856817662716, -0.024873223155736923, -0.007322046905755997, 0.007980895228683949, 0.009475190192461014, -0.026408271864056587, -0.005956804379820824, 0.011050992645323277, 0.0033315992914140224, -0.0002349694404983893, 0.02964138425886631, -0.015051628462970257, 0.009930270723998547, 0.004041389562189579, 0.007070733234286308, 0.010283468291163445, -0.013842607848346233, 0.0018050407525151968, -0.014807107858359814, 0.02771238423883915, -0.002548792166635394, 0.0002457945956848562, 0.015758022665977478, 0.004133084788918495, -0.013509787619113922, 0.01609763503074646, -0.010670626536011696, 0.002251631347462535, 0.005382859148085117, -0.021572189405560493, 0.004496470093727112, -0.001639479654841125, 0.0007424779469147325, 0.0078110890462994576, 0.010541574098169804, 0.004594957921653986, 0.03211376443505287, 0.014888614416122437, -0.018040219321846962, -0.00437420979142189, 0.024791717529296875, -0.03157038241624832, 0.013564125634729862, -0.001566462917253375, 0.002949535148218274, -0.007288085296750069, -0.021708033978939056, 0.006900927051901817, 0.010731756687164307, 0.014440326020121574, 0.014576170593500137, 0.013883361592888832, -0.014739184640347958, 0.010201960802078247, -0.0009993099374696612, 0.02953270822763443, 0.007294877897948027, -0.009801218286156654, 0.02067561261355877, -0.0020529578905552626, -0.011573996394872665, -0.0007560624508187175, -0.029695721343159676, -0.021246161311864853, 0.007668451406061649, 0.00653074961155653, -0.0184477549046278, 0.008463145233690739, -0.0038783755153417587, -0.02706032805144787, -0.010745340958237648, -0.01939866878092289, 0.018787367269396782, -0.007872219197452068, 0.015404826030135155, 0.0070096030831336975, 0.017197979614138603, -0.010072908364236355, 0.0014552398351952434, 0.015948206186294556, 0.006744705606251955, 0.01354374922811985, 0.01333318930119276, 0.011764178983867168, 0.01151286531239748, -0.0025589806027710438, 0.003019155701622367, -0.03140736743807793, -0.03719436749815941, 0.015812359750270844, -0.014019206166267395, 0.00863295141607523, -0.015853114426136017, -0.025335097685456276, -0.007729582022875547, 0.029125172644853592, -0.014834276400506496, 0.01348941121250391, -0.005776809528470039, -0.008768795989453793, -0.007342423312366009, 0.007824673317372799, -0.004194214940071106, 0.0179043747484684, 0.02975006029009819, -0.009563489817082882, -0.025063406676054, -0.01268113311380148, -0.008021648973226547, 0.011859270744025707, 0.012402650900185108, 0.014019206166267395, -0.007097902242094278, 0.015486332587897778, 0.012857731431722641, 0.01651875488460064, -0.019167732447385788, -0.003521782113239169, -0.024574365466833115, 0.028065580874681473, -0.014820692129433155, 0.004825894255191088, -0.009366514161229134, -0.01273547112941742, 0.005535684525966644, 0.013733931817114353, -0.007308462169021368, -0.004900609143078327, -0.0034776325337588787, 0.001662403461523354, 0.03499367833137512, 0.01252491120249033, -0.00960424356162548, 0.013781477697193623, -0.007593736983835697, -0.009909894317388535, -0.011207214556634426, -0.0058209593407809734, 0.007077525835484266, -0.05287088453769684, -0.03678683191537857, -0.028717637062072754, 0.016437247395515442, -0.001704005990177393, -0.014318065717816353, 0.003667815588414669, 0.017741359770298004, 0.01332639716565609, -0.0037561149802058935, 0.022876301780343056, -0.01651875488460064, 0.005532288458198309, -0.029668552801012993, 0.01789078861474991, 0.00221087783575058, -0.028445947915315628, 0.03447746858000755, 0.02375929430127144, -0.04982795566320419, -0.025538863614201546, 0.04167725145816803, -0.0057020946405828, 0.010901562869548798, 0.0006299812812358141, 0.007648074999451637, 0.003654231084510684, 0.014331649988889694, -0.017130058258771896, -0.02015940099954605, 0.010629872791469097, -0.015241811983287334, 0.010514404624700546, -0.016478002071380615, 0.0005361633375287056, 0.010466858744621277, 0.012443403713405132, 0.011696256697177887, 0.0033265049569308758, -0.02229216881096363, 0.016573091968894005, -0.016926290467381477, 0.02538943476974964, -0.004194214940071106, -0.002735579153522849, -0.014549002051353455, -0.014902198687195778, 0.0045202430337667465, 0.029396863654255867, -0.0022804983891546726, -0.028065580874681473, -0.0037798876874148846, 0.004336852580308914, -0.007199786137789488, -0.004251949023455381, -0.0019527722615748644, 0.010303844697773457, -0.008279753848910332, 0.001378827029839158, -0.03317335620522499, -0.025036238133907318, -0.03127152472734451, 0.030130425468087196, 0.004377605859190226, -0.009291799739003181, -0.0032602804712951183, -0.009346137754619122, -0.01300036907196045, -0.006136798765510321, -0.018257571384310722, 0.0006456883857026696, 0.03059229999780655, -0.019874127581715584, 0.0015961789758875966, 0.0036508350167423487, 0.0038715831469744444, -0.007641282398253679, -0.014739184640347958, 0.012117375619709492, 0.012008699588477612, -0.01760551519691944, 0.019045472145080566, 0.017130058258771896, -0.027440695092082024, -0.02260461263358593, 0.006771874614059925, 0.024071738123893738, 0.010887978598475456, 0.013883361592888832, -0.007403553929179907, -0.004982116166502237, -0.02408532239496708, -0.019330747425556183, 0.0011317587923258543, -0.0010341202141717076, -0.0010485537350177765, -0.005359086208045483, -0.022346505895256996, -0.006058687809854746, 0.004635711200535297, -0.013733931817114353, -0.013896945863962173, 0.004958343226462603, -0.0012896787375211716, 0.026815807446837425, -0.008279753848910332, 0.001575802220031619, -0.008456353098154068, -0.006174156442284584, 0.014956536702811718, -0.008143909275531769, -0.014318065717816353, 0.01236189715564251, 0.02024090848863125, -0.02047184482216835, 0.0017091002082452178, 0.016980627551674843, 0.0036100815050303936, 0.011770971119403839, 0.0015418409602716565, -0.013204135932028294, -0.004961739294230938, -0.008075986988842487, 0.025307927280664444, -0.004703633952885866, -0.003508197609335184, -0.0008532765787094831, -0.009903102181851864, -0.017089303582906723, 0.018067387863993645, 0.010371767915785313, -0.0012642077635973692, 0.02547094225883484, -0.03771057724952698, -0.013645632192492485, -0.00853785965591669, -0.016708938404917717, 0.0013822230976074934, -0.035971760749816895, -0.03205942362546921, 0.019466591998934746, -0.020213739946484566, -0.016274234279990196, -0.001205624546855688, -0.018896043300628662, 0.01348941121250391, 0.0017608910566195846, 0.2260461151599884, 0.02037675306200981, -0.025090575218200684, 0.04730123654007912, -0.0001733085373416543, 0.0039293174631893635, -0.0010570441372692585, 0.007403553929179907, 0.010378560051321983, 0.011478904634714127, 0.002951233182102442, 0.002360307378694415, -0.01161474920809269, -0.006160571705549955, 0.022197077050805092, -0.01269471738487482, -0.035863086581230164, -0.03670532628893852, -0.013570917770266533, -0.03977542370557785, -0.012545287609100342, -0.02901649661362171, 0.023107238113880157, -0.01866510696709156, 0.04567109793424606, 0.013190551660954952, 0.012456988915801048, 0.007152240257710218, 0.016464415937662125, -0.011709840968251228, -0.009149162098765373, -0.027562955394387245, 0.016790444031357765, 0.0024927561171352863, 0.0062590595334768295, -0.010507612489163876, -0.0056341723538935184, -0.0019374896073713899, 0.028962159529328346, -0.012613210827112198, 0.013292435556650162, 0.0005314936279319227, -0.009719711728394032, -0.010629872791469097, -0.019887711852788925, 0.02525359019637108, -0.002384080085903406, -0.016478002071380615, -0.0021497474517673254, -0.0026286011561751366, -0.018909627571702003, -0.0169670432806015, 0.0247509628534317, 0.01791795901954174, -0.00399384368211031, 0.007614113390445709, 0.025864891707897186, -0.013156590051949024, -0.04602429270744324, 0.01799946464598179, 0.01183889340609312, 0.025837723165750504, -0.019792620092630386, 0.028853483498096466, -0.018298324197530746, 0.023392513394355774, -0.006805835757404566, -0.0033214108552783728, 0.00415685772895813, -0.016478002071380615, 0.020186569541692734, -0.0334722138941288, 0.0047070300206542015, -0.0065579186193645, 0.0025148310232907534, 0.010018570348620415, 0.005002493038773537, 0.007505437359213829, 0.00583793967962265, 0.03510235249996185, -0.01855643093585968, 0.014698431827127934, 0.02441135048866272, -0.010297052562236786, -0.012891693040728569, -0.03037494793534279, 0.026829391717910767, 0.0006783760618418455, -0.00327895930968225, -0.007620905991643667, -0.014358818531036377, -0.01189323142170906, -0.015010874718427658, 0.008286545984447002, 0.011580788530409336, 0.008877472020685673, 0.009644996374845505, -0.006649613846093416, 0.004445528145879507, -0.02037675306200981, -0.0011122311698272824, -0.028934989124536514, 0.018936796113848686, 0.0062590595334768295, -0.012076622806489468, 0.0036236660089343786, 0.013740723952651024, 0.02048542909324169, 0.022944224998354912, -0.014168635942041874, -0.00853785965591669, 0.003827433567494154, -0.01706213504076004, 0.013034329749643803, -0.0013007160741835833, 0.01608405075967312, 0.01209699921309948, -0.0038478102069348097, 0.00794014148414135, -0.01268792524933815, 0.00431987177580595, -0.030755313113331795, -0.014005621895194054, 0.029261017218232155, 0.012076622806489468, -0.03037494793534279, -0.0017880600644275546, -0.00783825758844614, -0.004177234601229429, -0.009393683634698391, 0.03026627190411091, 5.8742360124597326e-05, 0.011526450514793396, -0.011152876541018486, -0.02890782058238983, 0.0002973732480313629, 0.010011778213083744, -0.014222973957657814, -0.028445947915315628, -0.017510423436760902, -0.006167363841086626, -0.0083680534735322, 0.015038044191896915, 0.002891800832003355, 0.031923580914735794, -0.026353934779763222, 0.001461183070205152, -0.019656775519251823, 0.006208117585629225, -0.008184663020074368, -0.030891157686710358, -0.012620002962648869, -0.00014858049689792097, -0.003087078221142292, 0.01317017525434494, -0.03360806033015251, -0.03368956595659256, -0.018379831686615944, -0.018393415957689285, 0.02185746468603611, -0.018841704353690147, 0.017293071374297142, 0.05162110924720764, 0.002187104895710945, 0.006962057203054428, -0.02261819690465927, -0.1745336800813675, 0.03184207156300545, 0.013659217394888401, -0.015798775479197502, 0.02408532239496708, 0.004085538908839226, 0.015921035781502724, 0.009325760416686535, -0.03423294425010681, 0.029614215716719627, 0.017021382227540016, 0.004982116166502237, 0.0024723794776946306, 0.010466858744621277, -0.002735579153522849, -0.00810994766652584, -0.006109629757702351, -0.02464228682219982, 0.033852580934762955, 0.00853106752038002, -0.0007700714631937444, -0.012015492655336857, 0.010018570348620415, -0.010371767915785313, 0.00302424980327487, 0.012932445853948593, 0.0004712124355137348, 0.012443403713405132, -0.02260461263358593, -0.020838625729084015, -0.02442493475973606, 0.0005446536233648658, 0.01770060695707798, 0.0025097366888076067, 0.021925386041402817, -0.002845953218638897, 0.0019714508671313524, 0.0051009804010391235, -0.0023772879503667355, 0.020607689395546913, 0.016056882217526436, 0.03132586181163788, 0.006371131632477045, -0.013896945863962173, -0.02271328866481781, 0.00632018968462944, 0.009678957983851433, -0.0022771020885556936, -0.0014246746432036161, -0.002565772971138358, 0.019643189385533333, -0.022441597655415535, 0.020308831706643105, 0.009366514161229134, -0.0076073212549090385, 0.02836444042623043, -0.0116758793592453, 0.018909627571702003, -0.003521782113239169, 0.0033366933930665255, -0.012708301655948162, -0.02259102649986744, 0.000822286878246814, 0.00890464149415493, -0.03730304166674614, -0.02176237292587757, -0.002141257282346487, -0.010527988895773888, -0.026938067749142647, 0.02877197600901127, 0.009678957983851433, -0.005841336213052273, 0.005746244452893734, -0.023718541488051414, -0.0035421589855104685, 0.0036474389489740133, -0.029233848676085472, 0.027264095842838287, 0.009183123707771301, -0.009909894317388535, -0.024479273706674576, 0.005664737429469824, -0.03510235249996185, 0.012076622806489468, 0.005790394265204668, 0.016804030165076256, 0.010826848447322845, 0.00021756428759545088, -0.0062149097211658955, -0.02909800410270691, 0.005776809528470039, -0.029396863654255867, 0.011431358754634857, -0.0062862285412848, -0.005274183116853237, 0.03825395926833153, 0.009964232333004475, 0.01263358723372221, 0.013292435556650162, -0.024112490937113762, -0.0017642872408032417, -0.007722789421677589, -0.007111486978828907, 0.03059229999780655, 0.010555158369243145, 0.014358818531036377, -0.014155051670968533, 0.012674340978264809, 0.011098538525402546, -0.024221166968345642, -0.011377020739018917, 0.016681768000125885, 0.0495019257068634, 0.02642185613512993, -0.007505437359213829, 0.011193630285561085, 0.04988229274749756, -0.0022278584074229, 0.006934888195246458, 0.013041121885180473, 0.0415685772895813, -0.002467285143211484, -0.016790444031357765, 0.006208117585629225, 0.0002404881379334256, -0.031814903020858765, -0.12508609890937805, -0.05191996693611145, 0.00442854780703783, 0.019806204363703728, 0.0018084368202835321, 0.0421934649348259, -0.00031308032339438796, 0.009264630265533924, -0.017130058258771896, 0.01771419122815132, -0.0014110901392996311, -0.030646637082099915, 0.0038579986430704594, -0.01241623517125845, 0.010697796009480953, 0.0019289993215352297, -0.00874162744730711, -0.03423294425010681, -0.020186569541692734, 0.026204504072666168, -0.0038036606274545193, -0.010093284770846367, -0.003548951121047139, -0.01322451326996088, 0.006126610562205315, -0.008082779124379158, -0.028717637062072754, -0.0049209860153496265, -0.005138338077813387, 0.020499013364315033, -0.00231955386698246, -0.013557333499193192, 0.00916953943669796, -0.028744807466864586, -0.017021382227540016, 0.0023229499347507954, -0.030130425468087196, 0.004255345556885004, 0.007906179875135422, -0.03007608838379383, -0.009101616218686104, -0.005878693424165249, -0.0009296893840655684, -0.03773774579167366, 0.032032255083322525, 0.005386255215853453, -0.03828112781047821, -0.002699919743463397, -0.0016318383859470487, 0.00799447949975729, -0.02632676623761654, 0.02208840101957321, -0.008490313775837421, -0.01928999274969101, 0.00965858157724142, -0.007084317971020937, 0.0021989913657307625, 0.004143272992223501, -0.02624525874853134, 0.010263091884553432, -0.010568742640316486, 0.0008082778658717871, 0.003348579863086343, 0.009271422401070595, 0.014005621895194054, 0.006435657851397991, 0.037167198956012726, -0.019480176270008087, -0.0005055982037447393, -0.015690099447965622, -0.02322949841618538, 0.0036746079567819834, -0.01215133722871542, 0.01833907887339592, 0.0005272484850138426, 0.022971393540501595, -0.005114565137773752, -0.0038206411991268396, 0.018311908468604088, -0.01865152083337307, -0.016600262373685837, -0.014114297926425934, 0.004887024872004986, -0.016070466488599777, -0.003868187079206109, 0.013530164025723934, 0.010358182713389397, -0.0008617668645456433, -0.0050636231899261475, -0.020200155675411224, -0.002947836881503463, 0.01316338311880827, -0.0006516316207125783, -0.016790444031357765, -0.030945496633648872, 0.004730802960693836, -0.012552079744637012, -0.028418779373168945, 0.019561683759093285, 0.0028255765791982412, -0.009644996374845505, -0.006252267397940159, -0.047274067997932434, 0.023188745602965355, 0.010786094702780247, -0.0025963380467146635, -0.01151286531239748, -0.02771238423883915, 0.011954361572861671, 0.008714457973837852, -0.003511593909934163, -0.0030751917511224747, -0.02120540849864483, 0.003453859593719244, -0.01215133722871542, 0.0052945599891245365, -0.023963062092661858, -0.015853114426136017, 0.023093653842806816, -0.001302414108067751, 0.015038044191896915, -0.006415280979126692, -0.001484106876887381, 0.004228176549077034, -0.005060227122157812, 0.014535417780280113, 0.010731756687164307, 0.013781477697193623, -0.0189911350607872, 0.01973828114569187, 0.001570708118379116, -0.003997239749878645, 0.01589386723935604, -0.020213739946484566, 0.025403019040822983, 0.024560779333114624, -0.011180045083165169, -0.004058369901031256, -0.007980895228683949, 0.037900760769844055, 0.00895897950977087, 0.006225098390132189, -0.014739184640347958, -0.03233111649751663, 0.014304480515420437, -0.016871951520442963, 0.0064186775125563145, -0.00644924258813262, -0.02547094225883484, 0.005403235554695129, 0.020607689395546913, -0.01738816313445568, 0.0025318115949630737, 0.012776223942637444, -0.030782481655478477, -0.02644902653992176, -0.02666637860238552, -0.01300716120749712, 0.025715462863445282, -0.0172794871032238, 0.0002489784674253315, -0.023949477821588516, 0.017415331676602364, 0.02985873632133007, 0.007709205150604248, -0.008021648973226547, 0.027209758758544922, -0.0014187314081937075, -0.0038715831469744444, 0.006163967773318291, 0.0015155210858210921, -0.002197293331846595, -0.016478002071380615, -0.0018203232903033495, 0.018909627571702003, -0.002453700639307499, 0.021354837343096733, -0.002305969363078475, -0.002426531631499529, 0.009488774463534355, -0.002397664589807391, 0.04151424020528793, -0.016654599457979202, 0.012497741729021072, -0.03282015770673752, 0.018488507717847824, 0.007111486978828907, 0.002424833597615361, -0.0023637034464627504, 0.005019473377615213, -0.0233517587184906, 0.018488507717847824, -0.014073544181883335, 0.006527353543788195, 0.012708301655948162, 0.0025403019972145557, 0.029369693249464035, 0.04357908293604851, 0.029777228832244873, -0.009033693931996822, -0.02025449275970459, 0.011900023557245731, 0.0029393467120826244, 0.0009602545178495347, -0.00217352039180696, -0.034721989184617996, -0.028174256905913353, 0.0022771020885556936, -0.03741171956062317, -0.025864891707897186, -0.0010994956828653812, 0.018067387863993645, 0.0013966566184535623, -0.011431358754634857, 0.05556061491370201, 0.013618463650345802, -0.0036712116561830044, -0.016600262373685837, -0.026516947895288467, -0.008979355916380882, -0.006099441554397345, 0.021259745582938194, 0.006024726666510105, 0.014535417780280113, 0.034694820642471313, -0.010616288520395756, -0.005732660181820393, 0.012069830670952797, 0.012701509520411491, -0.03540121391415596, -0.0020903153344988823, 0.009318968281149864, 0.011709840968251228, -0.020499013364315033, -0.010344598442316055, -0.009638204239308834, 5.072962449048646e-05, -0.009957440197467804, -0.013319604098796844, 0.05105055868625641, -0.012830561958253384, 0.056891895830631256, -0.0086397435516119, -0.00831371545791626, -0.008884264156222343, 0.014182220213115215, 0.020648444071412086, 0.0248324703425169, -0.012484157457947731, -0.01706213504076004, 0.012293974868953228, 0.014698431827127934, -0.006540937814861536, 0.024180414155125618, -0.002462191041558981, -0.01939866878092289, 0.001996921841055155, -0.0004754575784318149, -0.006540937814861536, -0.01674969121813774, 0.002626903122290969, 0.02261819690465927, 0.022631781175732613, 0.01749683916568756, 0.0013168477453291416, -0.01269471738487482, -0.0077567510306835175, 0.024275505915284157, 0.01232114341109991, -0.031733397394418716, -0.04933891072869301, -0.0010994956828653812, -0.0010714776581153274, -0.010494028218090534, -0.010235922411084175, 0.008381637744605541, -0.0228083785623312, -0.018705859780311584, 0.007322046905755997, 0.014562586322426796, 0.014236558228731155, -0.0033078263513743877, 0.018936796113848686, -0.020852211862802505, -0.0068567777052521706, 0.01139739714562893, -0.015241811983287334, -0.0024384181015193462, -0.017564762383699417, -0.020295245572924614], 'query_similarity_score': 0.7924661719695735}), _DocumentWithState(page_content='Why not? Why, are you moving out? You\\'d tell me if you were moving out right\\nAw, I know all about Kip! Well, let me ask you something, was Kip a better roommate than me? So what\\'s it gonna be? Or an uncle... Hey, Chandler, that table place closes at 7, come on. Whoa, store will be open tomorrow! Feminist issue. That\\'s where I went! Will you pick one, just pick one! Here, how about that one? So what, like people are gonna come in and think, \"Uh-oh, I\\'m outside again?\" Of course! I don\\'t know, birds just don\\'t say, \"Hello, sit here, eat something.\"\\nAll right, how about the ladybugs? Fine, you want to get the birds, get the birds! Who cares, we\\'ll eat at the sink! Come on, let\\'s play! No-no, she kicked our butts. You could be on the Olympic standing-there team. Yes, now is when you swoop! You gotta make sure that when Paolo walks out of there, the first guy Rachel sees is you, She\\'s gotta know that you\\'re everything he\\'s not! You\\'re like, like the anti-Paolo! Wha-', state={'embedded_doc': [0.001963086659088731, -0.022166447713971138, 0.03248865157365799, 0.007215856574475765, -0.013698366470634937, 0.014224162325263023, 0.009664958342909813, -0.02036767266690731, -0.011456815525889397, -0.02684326283633709, 0.029223181307315826, -0.003611387452110648, 0.022332487627863884, 0.008239774964749813, -0.007368060760200024, -0.012833571061491966, 0.03282073140144348, 0.0017477524233981967, 0.030855916440486908, -0.039074935019016266, -0.004607632290571928, 0.010259938426315784, 0.018430529162287712, -0.021557630971074104, -0.01573236659169197, 0.0011683391639962792, 0.024836936965584755, -0.0036771120503544807, 0.0039918976835906506, -0.022512365132570267, 0.013622264377772808, 0.015165060758590698, -0.001163150416687131, -0.029167834669351578, -0.03127101808786392, -0.02698163129389286, -0.00823285710066557, -0.012542999349534512, 0.02414510026574135, -0.0019457907183095813, 0.005244122352451086, -0.01546946819871664, -0.02655269205570221, -0.005385948810726404, -0.020215468481183052, 0.009429734200239182, -0.0028987957630306482, -0.0020599437411874533, -0.005929040256887674, 0.029942691326141357, 0.0052856323309242725, -0.009152999147772789, -0.02781183458864689, -0.010315285064280033, -0.0003502423351164907, -0.01351157110184431, -0.001396645326167345, -0.004137183539569378, -0.0029662498272955418, 0.006814591586589813, -0.0043758670799434185, 0.011954938061535358, -0.009817162528634071, 0.013359366916120052, -0.0009426274918951094, 0.00371170393191278, -0.003483397653326392, -0.010197672992944717, -0.004157938528805971, -0.008426571264863014, 0.017890896648168564, 0.014196489006280899, 0.000767938734497875, -0.008108326233923435, 0.02186203934252262, -0.01611979492008686, -0.014902162365615368, 0.009907101280987263, -0.01546946819871664, 0.003462642664089799, 0.027189182117581367, -0.03520065173506737, -0.027645794674754143, 0.018375182524323463, 0.024407997727394104, 0.029582936316728592, 0.011539836414158344, 0.04986758902668953, -0.028116242960095406, 0.016299672424793243, -0.003901958931237459, 0.02197273261845112, 0.0030890507623553276, 0.01829216256737709, 0.014722284860908985, 0.03879820182919502, -0.027728814631700516, -0.009962448850274086, 0.011159325949847698, -0.008225938305258751, 0.02414510026574135, 0.00034505355870351195, -0.01098636630922556, -0.011055550538003445, -0.0004929336719214916, 0.005036571063101292, 0.0035128009039908648, -0.025127509608864784, 0.022332487627863884, -0.002175826346501708, -0.005088458769023418, 0.020284652709960938, 0.02168216183781624, -0.04599330201745033, 0.00022700891713611782, -0.037774283438920975, 0.009284448809921741, -0.014929835684597492, -0.028033223003149033, -0.0028624744154512882, 0.025957712903618813, 0.0017633187817409635, 0.006454836577177048, 0.0026687600184231997, 0.019440611824393272, -0.006233448628336191, -0.0020928059238940477, -0.0074164895340800285, -0.022069590166211128, 0.0017797498730942607, 0.017600325867533684, 0.014487060718238354, 0.029140161350369453, 0.014321019873023033, -0.02366081438958645, 0.009768733754754066, -0.021695999428629875, 0.008551101200282574, -0.004735622089356184, -0.03295909985899925, -0.01006622426211834, -0.0015099336160346866, -0.018499713391065598, 0.010439815931022167, -0.005579662974923849, 0.005382489413022995, 0.022221794351935387, 0.011615938507020473, 0.003573336638510227, 0.008115244098007679, 0.02186203934252262, 0.013940509408712387, 0.003922713920474052, 0.0016768391942605376, 0.0011778519256040454, 0.005133428145200014, -0.015524815768003464, 0.014791468158364296, -0.0053409794345498085, -0.029610609635710716, 0.007900775410234928, -0.006181560922414064, 0.0236054677516222, -0.003666734555736184, 0.004683734383434057, 0.01646571420133114, 0.03971142694354057, -0.0009253315511159599, -0.0026134131476283073, -0.010024713352322578, 0.009111489169299603, 0.023010488599538803, -0.032903753221035004, 0.04294922202825546, 0.02622061036527157, 0.0113461222499609, 0.020160121843218803, 0.00645829550921917, -0.013421631418168545, -0.008585693314671516, -0.027687303721904755, 0.004005734343081713, 0.015344938263297081, 0.00478059146553278, 0.003946928307414055, -0.018983999267220497, -0.004261713940650225, -0.00463530607521534, -0.0008224208722822368, 0.004628387279808521, 0.016521060839295387, 0.016382692381739616, 0.008592612110078335, -0.01751730591058731, -0.6371539235115051, -0.008668714202940464, 0.015677019953727722, -0.014293346554040909, 0.021654488518834114, 0.024103591218590736, 0.024989141151309013, 0.006596663035452366, -0.011138570494949818, 0.023826856166124344, 0.002571902936324477, -0.012992693111300468, -0.008198264986276627, 0.011166243813931942, -0.041925303637981415, -0.02741057053208351, 0.03093893639743328, -0.0015583621570840478, 0.010882590897381306, 0.006527479272335768, -0.009955530054867268, 0.01546946819871664, 0.007063652854412794, 0.016327345743775368, 0.026635712012648582, 0.019385263323783875, 0.019661998376250267, -0.008350469172000885, -0.013297101482748985, 0.013670693151652813, -0.036611996591091156, 0.042451098561286926, -0.00629917299374938, -0.0051576425321400166, 0.054323017597198486, -0.012266264297068119, -0.00974797923117876, -0.0010204591089859605, 0.025999223813414574, 0.026704896241426468, -0.015095876529812813, -0.035892486572265625, 0.005036571063101292, 0.00919451005756855, 0.030330121517181396, -0.013110305182635784, -0.005527775269001722, 0.01143606100231409, 0.005538152530789375, 0.008654876612126827, 0.015358774922788143, 0.018983999267220497, -0.01714371331036091, 0.00026095216162502766, 0.009575019590556622, -0.00844732578843832, 0.018333671614527702, -0.02379918284714222, -0.0198972225189209, 0.0036459793336689472, 0.008474999107420444, -0.001314489752985537, -0.005282172933220863, -0.0035940916277468204, -0.008813999593257904, 0.017780203372240067, -0.03351256996393204, -0.006728111766278744, 0.002891877433285117, -0.001784938620403409, 0.012197080999612808, 0.005209530238062143, -0.040375590324401855, 0.0035076120402663946, 0.024352651089429855, 0.010771897621452808, 0.02925085462629795, -0.001133747398853302, -0.0006620012572966516, 0.010121570900082588, -0.006738489493727684, 0.0006144374492578208, -0.022083427757024765, -0.010917183011770248, 0.009900183416903019, -0.02626212127506733, -0.0311326514929533, 0.009692631661891937, 0.011615938507020473, -0.007208938244730234, 0.012003366835415363, 0.004251336678862572, -0.0074095712043344975, 0.007824673317372799, 0.011954938061535358, 0.020838120952248573, -0.03807869181036949, -0.011311530135571957, 0.010336040519177914, -0.05783754587173462, 0.008129080757498741, -0.008641039952635765, 0.02327338606119156, -0.002772535663098097, 0.0113461222499609, -0.005050407722592354, -0.005465509835630655, 0.02152995765209198, 0.008212101645767689, -0.019537467509508133, -0.010896427556872368, -0.036611996591091156, -0.017752530053257942, -0.029333876445889473, 0.015192734077572823, -0.02534889616072178, 0.05053175240755081, 0.0052856323309242725, 0.034674856811761856, -0.024352651089429855, 0.009305203333497047, 0.007603285368531942, 0.003248173277825117, -0.011090142652392387, 0.030772896483540535, 0.02108718268573284, -0.003760132472962141, 0.009422815404832363, -0.011775060556828976, 0.0024577497970312834, -0.008606448769569397, 0.0022138773929327726, 0.03846612200140953, -0.008080652914941311, 0.00854418333619833, 0.01660408079624176, 0.016161305829882622, -0.017558814957737923, 0.03556040674448013, -0.02042301930487156, -0.02081044763326645, -0.023923713713884354, -0.0038569895550608635, 0.011366876773536205, -0.004358571022748947, -0.02944456972181797, 0.00019436287402641028, -0.01945444755256176, -0.036861058324575424, -0.004054163116961718, 0.0019077396718785167, -0.0029178212862461805, -0.019136203452944756, 0.012868162244558334, 0.01834750920534134, -0.004019571002572775, -0.006804213859140873, -0.03074522316455841, -0.045495182275772095, 0.010737305507063866, -0.001072346931323409, 0.005555448587983847, -0.019136203452944756, -0.015289590694010258, 0.007956122048199177, -0.016521060839295387, 0.003767050802707672, -0.022373998537659645, -0.0021135611459612846, -0.037137795239686966, 0.013912836089730263, -0.010709632188081741, -0.010820325464010239, 0.0024421834386885166, -0.008433489128947258, 0.008364305831491947, -0.006160805933177471, 0.007167428266257048, -0.009083815850317478, -0.005531234201043844, 0.015510979108512402, -0.00550356088206172, -0.028392978012561798, -0.012176325544714928, 0.053077712655067444, -0.015068203210830688, 0.0174204483628273, 0.031298693269491196, -0.006786917801946402, 0.011844243854284286, 0.00950583629310131, 0.002516556065529585, 0.006603581365197897, -0.0017010534647852182, 0.0003400809655431658, -0.003412484424188733, 0.02157146856188774, 0.023397916927933693, 0.013172570616006851, 0.013075713068246841, 0.020395345985889435, -0.0118027338758111, 0.008717142045497894, -0.019731182605028152, 0.025957712903618813, -0.014666938222944736, 0.0065171015448868275, -0.02157146856188774, 0.02032616175711155, 0.03138171136379242, 0.00526141794398427, 0.005441295448690653, -0.013255591504275799, -0.01910853013396263, 0.0029039846267551184, 0.025943875312805176, -0.030855916440486908, 0.04330897703766823, -0.005562366917729378, -0.0059255813248455524, -0.011512162163853645, 0.0004205069853924215, 0.018167631700634956, 0.0338723249733448, -0.017212897539138794, -0.01508203987032175, 0.011498325504362583, 0.0018368264427408576, 0.008336632512509823, -0.009408978745341301, -0.020644407719373703, 0.007727815769612789, 0.004998520016670227, 0.03149240463972092, 0.023979060351848602, -0.030828243121504784, 0.020602896809577942, 0.005372112151235342, 0.007969958707690239, -0.03157542645931244, 0.022553876042366028, 0.005904826335608959, 0.0338723249733448, -0.01351157110184431, 0.016147468239068985, -0.008412734605371952, 0.028835752978920937, 0.022180285304784775, -0.012176325544714928, 0.019371427595615387, -0.008246693760156631, 0.0007553991745226085, -0.014722284860908985, 0.018845630809664726, 0.029665958136320114, -0.02925085462629795, -0.0015159872127696872, -0.004413918126374483, 0.018693426623940468, 0.030468488112092018, -0.012314693070948124, -0.006544775329530239, 0.004379326477646828, 0.012743632309138775, 0.0024145101197063923, 0.015483304858207703, 0.006959876976907253, -0.014832979068160057, -0.006465213838964701, 0.010744224302470684, -0.01091026421636343, -0.01621665246784687, -0.02003559097647667, 0.00924293790012598, 0.021723672747612, 0.005821805913001299, -0.00750642828643322, 0.02325955033302307, 0.028448324650526047, 0.011359958909451962, -0.020450692623853683, -0.022194121032953262, 0.01877644844353199, 0.004922417923808098, -0.026677222922444344, -0.020298488438129425, -0.013041121885180473, -0.00027608609525486827, -0.00016841899196151644, 0.010488244704902172, -0.01508203987032175, 0.008163672871887684, -0.026192937046289444, 0.00638565281406045, -0.009568101726472378, 0.003801642684265971, 0.01286124438047409, -0.009263693355023861, 0.007575611583888531, -0.0036805712152272463, -0.011429142206907272, -5.648197839036584e-05, -0.0033519486896693707, 0.002516556065529585, 0.02168216183781624, 0.01718522422015667, -0.0029333876445889473, -0.040624652057886124, -0.02414510026574135, -0.03021942637860775, 0.0040576220490038395, -0.012390795163810253, -0.01631351001560688, 0.008025305345654488, -0.010259938426315784, -0.013283264823257923, -0.03539436683058739, -0.040818363428115845, 0.011159325949847698, -0.01107630506157875, -0.0273137129843235, -0.004171775188297033, -0.01858273334801197, -0.003697867039591074, 0.13072946667671204, 0.03331885486841202, -0.023591632023453712, 0.039074935019016266, 0.007852346636354923, 0.01873493753373623, 0.0002830044541042298, -0.011470652185380459, 0.027341386303305626, -0.02350861020386219, 0.0008440407691523433, -0.001183905522339046, 0.015372611582279205, -0.004721785429865122, 0.011595183052122593, -0.0033311937004327774, 0.00014647480566054583, -0.013982019387185574, 0.02480926364660263, -0.010239182971417904, -0.013054958544671535, 0.006925285328179598, -0.010951775126159191, 0.015331101603806019, -0.040043506771326065, 0.01959281601011753, 0.014092713594436646, 0.008308958262205124, 0.03403836488723755, -0.029859671369194984, -0.021017998456954956, 0.006375275086611509, 0.020146284252405167, -0.0036632753908634186, -0.015939917415380478, 0.002852096688002348, 0.021031836047768593, -0.004081836435943842, 0.024255795404314995, -0.006617418024688959, 0.015331101603806019, 0.01955130510032177, 0.00773473409935832, -0.018997834995388985, 0.005257959011942148, 0.004929336253553629, 0.004033408127725124, 0.021350080147385597, -0.02476775273680687, -0.027203019708395004, 0.013407794758677483, 0.0017711019609123468, -0.01786322332918644, -0.0012496300041675568, 0.009187591262161732, 0.000639948935713619, -0.005372112151235342, 0.0044415914453566074, -0.017019182443618774, -0.0017071070615202188, 0.0016465713270008564, -0.013048039749264717, -0.005071163177490234, -0.004483101889491081, -0.0019682752899825573, -0.02684326283633709, -0.013366284780204296, -0.00582872424274683, -0.028033223003149033, -0.021557630971074104, 0.018236815929412842, -0.04167624190449715, -0.010239182971417904, -0.00023933225020300597, 0.009741060435771942, 0.007208938244730234, 0.013400876894593239, -0.005783754866570234, -0.021903550252318382, 0.02539040707051754, -0.004701030440628529, -0.03619689494371414, 0.03937934339046478, -0.028448324650526047, -0.012370039708912373, 0.015414121560752392, 0.026137590408325195, 0.008730978704988956, -0.005908285267651081, 0.005507020279765129, 0.028891099616885185, 0.021322406828403473, -0.006465213838964701, -0.024255795404314995, 0.006952958647161722, 0.008440407924354076, -0.006150428205728531, 0.010958692990243435, 0.0021222091745585203, -0.013518488965928555, 0.003933091647922993, -0.020506039261817932, 0.0015324183041229844, -0.013200243934988976, -0.02069975435733795, -0.0030458110850304365, 0.020353835076093674, 0.008751734159886837, -0.010758060961961746, 0.005555448587983847, 0.02977665141224861, -0.021350080147385597, -0.00012063902249792591, -0.008903938345611095, 0.027631957083940506, 0.03240562975406647, 0.02480926364660263, 0.025902366265654564, 0.0007363737095147371, -0.013753713108599186, 0.010467489250004292, -0.014680774882435799, 0.0183890201151371, 0.021156366914510727, -0.023716161027550697, 0.013753713108599186, -0.009346713311970234, -0.019758855924010277, -0.0011960127158090472, -0.016438039019703865, -0.00758944870904088, 0.026525018736720085, -0.005980928428471088, -0.03600317984819412, -0.019578978419303894, -0.014805304817855358, -0.030523834750056267, -0.005361734423786402, -0.018112285062670708, 0.014653101563453674, -0.03190751001238823, 0.005977469030767679, -0.011609019711613655, -0.01052283588796854, -0.00823285710066557, -0.024172773584723473, -0.029804324731230736, 0.00159554835408926, -0.004206367302685976, 0.002174096880480647, -0.022512365132570267, 0.007174346596002579, 0.012072550132870674, 0.021211713552474976, 0.015248080715537071, -0.032073549926280975, -0.015234244056046009, -0.009443570859730244, 0.0013430280378088355, 0.010536672547459602, 0.0193022433668375, -0.003618306014686823, 0.010474407114088535, -0.0053409794345498085, 0.0003835369716398418, 0.000458341819467023, -0.016285836696624756, -0.024657059460878372, -0.014404039829969406, 0.037137795239686966, 0.02195889689028263, 0.00630955072119832, -0.014832979068160057, 0.021875876933336258, -0.030634528025984764, 0.02467089705169201, -0.004739081487059593, 0.009713387116789818, -0.019800366833806038, -0.022000407800078392, 0.002900525229051709, -0.013594591058790684, -0.020865794271230698, 0.0008353927987627685, 0.027825672179460526, -0.00902846921235323, 0.013338611461222172, 0.0016924055526033044, -0.010661203414201736, -0.012681366875767708, 0.030689876526594162, -0.026082243770360947, 0.002950683468952775, -0.010640447959303856, -0.009056142531335354, -0.02591620199382305, -0.02007710002362728, 0.003405566094443202, -0.01091026421636343, -0.0005491453921422362, 0.018305998295545578, 0.04034791514277458, -0.020063264295458794, 0.004853234626352787, -0.012376958504319191, 0.010176917538046837, -0.011574427597224712, -0.02162681519985199, 0.008274367079138756, 0.0026134131476283073, -0.007271203678101301, -0.02515518292784691, -0.017987754195928574, -0.04067999869585037, -0.0010619693202897906, -0.005102295428514481, -0.010958692990243435, -0.004586877301335335, 0.009851754643023014, -0.04175926372408867, -0.022941304370760918, -0.0273137129843235, 0.02007710002362728, 0.0005482806009240448, 0.0349515900015831, -0.004026489332318306, 0.0012133086565881968, 0.017918569967150688, -0.00016431121912319213, 0.008336632512509823, 0.009381305426359177, 0.024753917008638382, -0.006195397581905127, 0.008080652914941311, 0.022955141961574554, -0.0053582750260829926, -0.012293937616050243, -0.02345326356589794, -0.05136195570230484, 0.01267444808036089, 0.010294529609382153, 0.01235620304942131, -0.012376958504319191, 0.0022726834286004305, -0.010010876692831516, 0.0170468557626009, 0.0018593111308291554, 0.0003519719175528735, -0.02090730518102646, -0.007374979089945555, -0.008011468686163425, 0.006565530318766832, -0.001421724446117878, 0.03625224158167839, 0.009014632552862167, -0.013165652751922607, -0.011332284659147263, -0.01219016220420599, 0.00868946872651577, 0.026289794594049454, 0.002013244666159153, 0.016188979148864746, -0.013539244420826435, 0.015898406505584717, 0.008869346231222153, 0.025127509608864784, -0.011851162649691105, -0.02476775273680687, -0.011830407194793224, 0.03658432513475418, -0.0053513566963374615, 0.004514234606176615, -0.00557620357722044, -0.003562958911061287, 0.005648846738040447, -0.006198856979608536, -0.003120183479040861, 0.0028330711647868156, 0.015206570737063885, -0.0007022142526693642, 0.020879631862044334, 0.010626611299812794, -0.015095876529812813, -0.009139162488281727, -0.01443171314895153, 0.015317264012992382, -0.00415102019906044, -0.003319086506962776, 0.032710038125514984, -0.02046453021466732, -0.008917775005102158, -0.014514734037220478, -0.008350469172000885, -0.01102787721902132, 0.004880907945334911, -0.010605856776237488, -0.009498917497694492, 0.013497733511030674, -0.013622264377772808, 0.007859264500439167, -0.013089550659060478, 0.005690356716513634, -0.05260726064443588, 0.007658632006496191, 0.00517839752137661, -0.013269428163766861, 0.027784161269664764, -0.0028313416987657547, -0.01252916269004345, 0.008502673357725143, 0.02847599796950817, 0.018222978338599205, -0.02341175451874733, -0.00653093820437789, 0.011698958463966846, 0.026331305503845215, 0.026345141232013702, -0.02022930420935154, -0.004296306055039167, -0.01665942743420601, -0.019703509286046028, 0.0013845381326973438, 0.018402855843305588, -0.00517839752137661, 0.0034955048467963934, -0.01782171241939068, 0.013677611015737057, -0.004005734343081713, -0.02195889689028263, 0.008184428326785564, 0.026414325460791588, 0.011401468887925148, 0.004510775208473206, -0.032516323029994965, -0.016327345743775368, -0.014417876489460468, -0.010737305507063866, 0.02818542718887329, 0.0003284062258899212, 0.0015981427859514952, 0.01540028490126133, 0.011138570494949818, -0.003964224364608526, -0.001982112182304263, 0.00974797923117876, 0.0050227344036102295, -0.012965019792318344, -0.005064244382083416, -0.026857100427150726, -0.004794428125023842, 0.0010429437970742583, 0.026857100427150726, 0.020934978500008583, -0.0064444588497281075, -0.0056142546236515045, 0.00025468238163739443, -0.012542999349534512, -0.01708836667239666, -0.020547550171613693, -0.0032533621415495872, 0.010253019630908966, -0.01766951009631157, -0.0066416324116289616, -4.432079003890976e-05, -0.012148652225732803, 0.02886342629790306, -0.02819926291704178, 9.92353234323673e-05, -0.0013404336059466004, -0.014376366510987282, 0.006679683458060026, 0.021986570209264755, -0.03257167339324951, -0.006831887178122997, 0.003085591597482562, -0.0007411300321109593, 0.021419264376163483, 0.020893467590212822, 0.0020668620709329844, 0.008398897014558315, -0.0013793493853881955, -0.01306187640875578, 0.025957712903618813, 0.0016768391942605376, -0.009256774559617043, -0.008897019550204277, 0.00813599955290556, 0.02587469294667244, 0.009229101240634918, -0.011588264256715775, -0.00820518285036087, 0.03196285665035248, 0.0075548565946519375, 0.01670093834400177, -0.009699550457298756, -0.007790081202983856, 0.015607835724949837, -0.006271499674767256, 0.01757265254855156, 0.01061969343572855, 0.008025305345654488, 0.02544575370848179, -0.0021014539524912834, -0.01030836720019579, -0.02259538695216179, -0.0017814794555306435, -0.004348193760961294, -0.003732458921149373, 0.008980040438473225, -0.009305203333497047, 0.021031836047768593, -0.028752733021974564, 0.01269520353525877, -0.018305998295545578, -0.01039830595254898, -0.01683930493891239, 0.0007112945895642042, 0.0076171220280230045, 0.011256182566285133, 0.01592607982456684, -0.003199744736775756, 0.022263305261731148, -0.0020218926947563887, 0.008412734605371952, -0.007665550801903009, -0.037054773420095444, -0.007437244523316622, -0.014957509003579617, -0.016202814877033234, 0.019800366833806038, -0.019371427595615387, -0.02573632448911667, 0.01968967169523239, 0.009595775045454502, 0.013905917294323444, -0.0052787140011787415, 0.23932014405727386, 0.019329916685819626, -0.0005374706233851612, 0.026566529646515846, -0.010937938466668129, 0.009526591747999191, 0.017641834914684296, 0.011131652630865574, -0.006181560922414064, 0.00189736217726022, -0.005091918166726828, 0.012404631823301315, -0.012466897256672382, 0.005517397541552782, 0.009685713797807693, -0.015524815768003464, -0.02702314220368862, -0.039074935019016266, -0.01825065165758133, -0.03650130331516266, -0.0068906936794519424, -0.008308958262205124, -0.0018610407132655382, -0.017489630728960037, 0.022899795323610306, 0.040098853409290314, 0.013359366916120052, -0.016147468239068985, 0.017448121681809425, -0.0045592039823532104, -0.020395345985889435, -0.011373795568943024, 0.00909765250980854, 0.014459386467933655, 0.008993877097964287, 0.0032602804712951183, -0.006430622190237045, 0.0065171015448868275, 0.03650130331516266, -0.004943173378705978, 0.0034591834992170334, -0.012785142287611961, -0.0006265445845201612, -0.023204201832413673, 0.007222774904221296, 0.0012902754824608564, -0.01143606100231409, 0.017268244177103043, -0.008385060355067253, 0.017074529081583023, -0.021516121923923492, -0.02337024360895157, 0.04643607884645462, 0.005524315871298313, -0.0023937548976391554, -0.005136887542903423, 0.013504652306437492, -0.006406407803297043, -0.04546750709414482, 0.010412142612040043, 0.020160121843218803, 0.0378573052585125, -0.0032793059945106506, 0.028019385412335396, -0.009602692909538746, 0.02110101841390133, -0.023979060351848602, 0.025459589436650276, -0.0004157506045885384, -0.0015696045011281967, 0.017835550010204315, -0.012100223451852798, 0.0027396732475608587, -0.009104571305215359, -0.011380713433027267, -0.0017313213320448995, -0.004673356655985117, 0.001268655527383089, 0.017724856734275818, 0.021709835156798363, -0.03257167339324951, 0.020934978500008583, -0.01902550831437111, -0.0010342958848923445, -0.012688284739851952, -0.012757468968629837, 0.02853134460747242, -0.00861336663365364, -0.027258366346359253, -0.008246693760156631, 0.003140938701108098, -0.021889712661504745, -0.005396326072514057, 0.009637285023927689, 0.007942285388708115, 0.0006991874543018639, 0.01402352936565876, 0.02635897882282734, -0.008129080757498741, -0.0009659769712015986, -0.025957712903618813, -0.011166243813931942, 0.0075548565946519375, 0.016617916524410248, -0.013359366916120052, -0.011145489290356636, 0.02626212127506733, 0.012826652266085148, 0.004251336678862572, -2.864636371668894e-05, -0.0014986912719905376, -0.02182052843272686, 0.003220499726012349, 0.009229101240634918, -0.002786372322589159, 0.025791671127080917, 0.00645829550921917, 0.002027081558480859, 0.013760631904006004, -0.01469461154192686, -0.000804692564997822, -0.006914907600730658, 0.0018990917596966028, 0.029029468074440956, -0.009879427962005138, -0.0321565680205822, -0.0277979988604784, -0.0031028876546770334, -0.013027285225689411, -0.011567509733140469, 0.014459386467933655, -0.011311530135571957, 0.012058713473379612, 0.009069979190826416, -0.018361346796154976, 0.0008630662923678756, 0.015593999065458775, -0.033955346792936325, 0.002366081578657031, -0.008073734119534492, -0.010294529609382153, -0.00987250916659832, 0.004261713940650225, 0.0011960127158090472, 0.028254611417651176, -0.02789485640823841, -0.0033087090123444796, -0.01786322332918644, -0.0029178212862461805, -0.012577591463923454, -0.025708651170134544, -0.017199059948325157, 0.0026428161654621363, -0.01530342735350132, 0.00933979544788599, -0.007665550801903009, -0.006465213838964701, -0.015386448241770267, -0.01252916269004345, 0.03683338686823845, -0.029001794755458832, 0.027590448036789894, 0.02911248803138733, -0.013746795244514942, -0.022623060271143913, -0.034923914819955826, -0.17821712791919708, 0.019288407638669014, 0.0259715486317873, -0.03561575338244438, 0.019523631781339645, 0.023633141070604324, 0.007769326213747263, -0.008986958302557468, -0.011069387197494507, 0.00185585196595639, 0.007679387461394072, -0.0022363620810210705, -0.025321222841739655, -0.014237998984754086, 0.001778020290657878, 0.015677019953727722, -0.01921922340989113, -0.005635010078549385, 0.023107346147298813, 0.0183890201151371, 0.012466897256672382, -0.02818542718887329, -0.002680867211893201, 0.006658928003162146, -0.020865794271230698, 0.03021942637860775, 0.012591428123414516, 0.014500897377729416, -0.01848587580025196, -0.03218424320220947, -0.022955141961574554, 0.019482120871543884, 0.014736121520400047, 0.022415509447455406, 0.03326350823044777, -0.004289387725293636, -0.007575611583888531, 0.0029766273219138384, -0.012072550132870674, 0.013933590613305569, 0.026926284655928612, 0.033567916601896286, -0.005569285247474909, -0.0028417191933840513, -0.009049223735928535, 0.013857489451766014, 0.018707264214754105, 0.01356691773980856, 0.007956122048199177, -0.019814202561974525, -0.002061673440039158, -0.025653304532170296, 0.023563958704471588, 0.0019284947775304317, -0.010737305507063866, 0.015538652427494526, -0.027216855436563492, 0.036030855029821396, -0.0124738160520792, 0.009907101280987263, 0.001556632574647665, -0.034674856811761856, 0.004573040641844273, 0.0014762065839022398, -0.018181467428803444, -0.010820325464010239, 0.013843651860952377, 0.006437540519982576, -0.014902162365615368, 0.004877448547631502, 0.009021550416946411, 0.019565140828490257, 0.022124936804175377, -0.017849387601017952, -0.0054793464951217175, 0.013587672263383865, -0.016728611662983894, 0.0036944078747183084, -0.004666438326239586, 0.007285040337592363, -0.011837325990200043, 0.021446937695145607, -0.0264558345079422, -0.0023124641738831997, 0.020353835076093674, -0.0017287269001826644, 0.0032602804712951183, -0.025694815441966057, -0.012425387278199196, -0.027258366346359253, 0.020727427676320076, -0.027092324569821358, -0.0202708151191473, -0.03143705800175667, 0.010052387602627277, 0.0044415914453566074, 0.00155403814278543, 0.017489630728960037, -0.0029022549279034138, -0.022581549361348152, -0.004420836456120014, -0.02069975435733795, 0.006548234261572361, 0.01883179508149624, 0.02853134460747242, 0.011449897661805153, 0.010847999714314938, 0.0007506427937187254, 0.022581549361348152, -0.006672765128314495, -0.023536283522844315, 0.009346713311970234, 0.040043506771326065, 0.033567916601896286, -0.014653101563453674, 0.035837139934301376, 0.02438032440841198, -0.0013854029821231961, 0.01517889741808176, -0.015220407396554947, 0.04596563056111336, -0.0028538263868540525, 0.0031893672421574593, -0.007568693254143, 4.516531589615624e-06, -0.027479752898216248, -0.11921729892492294, -0.014999019913375378, 0.00501927500590682, -0.011408386752009392, -0.010315285064280033, -0.007956122048199177, -0.0031167243141680956, 0.020312326028943062, 0.005323683377355337, 0.020838120952248573, 0.007956122048199177, -0.018236815929412842, -0.00919451005756855, 0.003656356828287244, -0.008329713717103004, -0.026926284655928612, 0.0029766273219138384, -0.03146473318338394, -0.010031632147729397, 0.023425590246915817, 0.014625427313148975, -0.01214173436164856, -0.017157550901174545, 0.006050111725926399, -0.0007605879800394177, 0.012501489371061325, -0.032986775040626526, 0.013020366430282593, 0.014182652346789837, -0.0008453379850834608, -0.019288407638669014, -0.02158530429005623, 0.00781775452196598, -0.01747579500079155, -0.007603285368531942, -0.020962651818990707, -0.019274570047855377, -0.022623060271143913, 0.010605856776237488, -0.0529116690158844, 0.007333469111472368, 0.023480936884880066, -0.0026791375130414963, -0.03450881317257881, 0.007603285368531942, -0.01654873415827751, -0.03002571314573288, 0.015621672384440899, 0.000921007595025003, -0.008599529974162579, -0.03389999642968178, -0.010481325909495354, -0.022290978580713272, -0.01163669303059578, 0.037054773420095444, -0.008869346231222153, -0.0007917206385172904, 0.019911060109734535, -0.019385263323783875, 0.0014018340734764934, -0.012259346432983875, 0.006351060699671507, 0.0012574131833389401, -0.005679979454725981, 0.006337224040180445, -0.00965112168341875, 0.0014026989229023457, 0.016687100753188133, 0.017683345824480057, -0.020021753385663033, -0.004230581223964691, 0.01988338679075241, -0.012895835563540459, 0.015137386508286, -0.00439316313713789, -0.007457999512553215, -0.0005686032818630338, 0.009429734200239182, 0.019246896728873253, -0.019136203452944756, -0.018084611743688583, -0.029195507988333702, 0.01284048892557621, -0.02278910018503666, -0.007074030116200447, 0.018430529162287712, 0.006091622170060873, 0.006991009693592787, 0.018527386710047722, -0.012785142287611961, -0.009201427921652794, 0.03553273156285286, 0.009609611704945564, -0.02414510026574135, -0.008841672912240028, 0.0012997882440686226, -0.01310338731855154, -0.040043506771326065, 0.026829427108168602, -0.0025061783380806446, -0.02866971306502819, -0.0056073362939059734, -0.036279916763305664, 0.02432497777044773, -0.008052978664636612, -0.0046318466775119305, -0.0035231783986091614, -0.005787213798612356, -0.007067111786454916, 0.0255426112562418, -0.018112285062670708, 0.008641039952635765, -0.0033087090123444796, 0.02244318276643753, -0.012335448525846004, -0.00215334165841341, -0.015137386508286, -0.005192234180867672, 0.01259834598749876, -0.0076171220280230045, 0.005628091283142567, 0.012383876368403435, -0.006140050478279591, -0.008924693800508976, 0.018029265105724335, 0.013013448566198349, 0.02137775346636772, -0.0038293160032480955, -0.03976677358150482, -0.0052233668975532055, 0.0005724948714487255, -0.0063718161545693874, 0.02765963040292263, -0.024504855275154114, 0.006959876976907253, 0.01115240715444088, 0.01189959142357111, -0.016742447391152382, 0.002267494797706604, 0.024753917008638382, 0.00044839666225016117, 0.015538652427494526, -0.013456223532557487, -0.009422815404832363, 0.032460976392030716, -0.035117629915475845, -0.02949991635978222, 0.009118407964706421, -0.01901167258620262, 0.01854122430086136, 0.040043506771326065, -0.005133428145200014, 0.001442479551769793, 0.024836936965584755, -0.01829216256737709, -0.015220407396554947, 0.001030836720019579, -0.024491019546985626, 0.014929835684597492, -0.018845630809664726, -0.014293346554040909, 0.004279009997844696, 0.004912040662020445, 0.03315281495451927, 0.0038500712253153324, -0.009443570859730244, 0.01172663178294897, -0.014639264903962612, -0.00598438736051321, 0.013297101482748985, 0.0006901071174070239, -0.029223181307315826, -0.017877060920000076, 0.0035802549682557583, 0.004963928367942572, 0.0044415914453566074, 0.009706469252705574, 0.009754897095263004, -0.006607040297240019, -0.011283856816589832, -0.013815978541970253, 0.031935181468725204, 0.004102591425180435, 0.02375767193734646, -0.02399289608001709, -0.00924293790012598, 0.009817162528634071, -0.0031443978659808636, 0.007900775410234928, -0.007582530379295349, 0.0066347140818834305, 0.0013854029821231961, -0.010592020116746426, -0.0014848544960841537, -0.014307183213531971, -0.010564345866441727, 0.018555060029029846, 0.007008305750787258, -0.013414713554084301, 0.024311142042279243, -0.0012219565687701106, 0.01021150965243578, 0.016036774963140488, -0.018236815929412842, 0.0013793493853881955, -0.0043032243847846985, -0.013629183173179626, -0.0031392090022563934, -0.003050999715924263, -0.010446733795106411, 0.0042340406216681, 0.026331305503845215, -0.007700142450630665, 0.004991601686924696, 0.027244528755545616, 0.006001683417707682, -0.008800162933766842, -0.009692631661891937, 0.0006282742251642048, -0.012107142247259617, -0.020284652709960938, 0.010149244219064713, -0.008516510017216206, 0.019578978419303894, 0.021073345094919205, 0.00527179567143321, 0.005994765087962151, 0.01127002015709877, 0.005257959011942148, -0.004534989595413208, 0.0054689692333340645, -0.035698775202035904, 0.030330121517181396, -0.013255591504275799, -0.024795427918434143, 0.00371170393191278, 0.004925877321511507, -0.0009357091039419174, -0.01397510152310133, 0.028309958055615425, -0.031686119735240936, 0.047376975417137146, 0.012605264782905579, -0.025639468804001808, 0.015372611582279205, 0.002630708971992135, 0.004981224425137043, 0.01872110180556774, -0.016258161514997482, -0.02519669197499752, 0.022360162809491158, 0.005873693618923426, -0.01517889741808176, 0.02568097785115242, -0.021543795242905617, -0.006347601767629385, -0.008564937859773636, -0.005399785470217466, -0.012660611420869827, -0.0009305203566327691, -0.0005249310634098947, 0.03522832319140434, -0.0022640356328338385, 0.02583318203687668, 0.00046828697668388486, -0.028946448117494583, 0.0018247192492708564, 0.011186999268829823, -0.00823285710066557, -0.013539244420826435, -0.045688893646001816, 0.0016483009094372392, 0.006620876956731081, -0.003234336618334055, -0.0031807192135602236, 0.019924897700548172, -0.01912236586213112, -0.02133624441921711, 0.018887141719460487, 0.010847999714314938, -0.018472040072083473, 0.017932407557964325, -0.014085794799029827, -0.02640048786997795, -0.027396732941269875, 0.029167834669351578, -0.004261713940650225, -0.013615346513688564, -0.006461754906922579, -0.05025501921772957], 'query_similarity_score': 0.7922640255418922}), _DocumentWithState(page_content=\"Run! You usually find them on the 'heaving beasts'. Hold it, hold it. I gotta side with Chandler on this one. When I first moved to the city, I went out a couple of times with this girl, really hot, great kisser, but she had the biggest Adam's apple. It made me nuts.\", state={'embedded_doc': [0.006015276536345482, -0.006495817098766565, 0.02767368033528328, -0.01609981060028076, -0.0009108117083087564, 0.023052312433719635, -0.023134106770157814, -0.008711074478924274, 0.0016282143769785762, -0.03018203377723694, 0.01432760525494814, 0.012119163759052753, 0.03187244385480881, 0.0164406206458807, 0.0017304570646956563, 0.002515169559046626, 0.03468070924282074, -0.0023413568269461393, 0.018989870324730873, -0.03667103499174118, -0.024374650791287422, -0.020175885409116745, 0.003728449111804366, -0.004519125446677208, -0.0031541860662400723, 0.02320226840674877, 0.04095159471035004, -0.009781214408576488, 0.0024879048578441143, -0.03435353562235832, 0.006465144455432892, 0.021988987922668457, -0.03389003500342369, 0.0054154531098902225, -0.030209297314286232, -0.003408088581636548, -0.01348239928483963, -0.01661784015595913, 0.008465692400932312, -0.014232178218662739, 0.023965679109096527, -0.036534711718559265, -0.002936068456619978, 0.012057817541062832, 0.004532758146524429, 0.01464114896953106, -0.028464356437325478, -0.01832188479602337, -0.020066825672984123, 0.010231082327663898, 0.015690840780735016, 0.008615648373961449, -0.019112560898065567, 0.01055144239217043, -0.019903238862752914, 0.00965852290391922, -0.018485473468899727, -0.006240210495889187, 0.0016605912242084742, -0.014627516269683838, 0.0037897946313023567, -0.005970971193164587, -0.005991419777274132, -0.00012727081775665283, -0.002665125299245119, 0.009774398058652878, -0.022493384778499603, 4.318687570048496e-05, -0.0031388497445732355, 0.007300125900655985, 0.017476677894592285, -0.0036943680606782436, -0.00965852290391922, 0.007954479195177555, -4.140295277466066e-05, -0.00022088675177656114, -0.023856621235609055, -0.014477561227977276, -0.010346957482397556, -0.002942884573712945, 0.03170885890722275, -0.016822325065732002, -0.008765604346990585, 0.03612574189901352, 0.013421053066849709, 0.024606401100754738, -0.0004321882443036884, 0.02633770927786827, -0.016604207456111908, -0.011669295839965343, 0.005224599968641996, -0.0010275387903675437, -0.010660501196980476, 0.0059164417907595634, -0.012950737029314041, 0.013127957470715046, 0.017953811213374138, 0.010837721638381481, -0.01060597226023674, -0.00727967731654644, 0.00010426621156511828, 0.01303934771567583, -0.03029109165072441, -0.009624442085623741, 0.002516873413696885, 0.008274839259684086, 0.002014180412515998, -0.006860482506453991, 0.012364545837044716, -0.00342683307826519, 0.014818369410932064, 0.0065571628510952, 0.009924354031682014, -0.034026358276605606, -0.0033791200257837772, -0.010374221950769424, 0.006226578261703253, -0.006584427319467068, -0.004897423554211855, -0.020639386028051376, 0.020353104919195175, 0.010905884206295013, 0.011083104647696018, 0.01209189835935831, 0.03405362367630005, -0.0020278128795325756, -0.03200877085328102, -0.01744941435754299, 0.015963487327098846, -0.01011520717293024, 0.06363583356142044, -0.012793964706361294, 0.03181791678071022, 0.0030349029693752527, -0.011096736416220665, 0.02283419482409954, -0.015254604630172253, 0.004423699341714382, 0.012037369422614574, -0.010524177923798561, 0.024224694818258286, 0.049021948128938675, -0.01867632567882538, -0.004018136765807867, 0.0097880307585001, 0.026392238214612007, 0.028273504227399826, 0.01814466342329979, -0.0015566445654258132, 0.012337281368672848, 0.025860577821731567, -0.009597177617251873, 0.005776710342615843, -0.0028730188496410847, 0.005292761605232954, 0.009113228879868984, -0.008963272906839848, 0.0010607675649225712, -0.009931170381605625, -0.011996472254395485, -0.0030110464431345463, 0.028437092900276184, 0.018635429441928864, -0.02560156211256981, -0.006400390528142452, 0.019276149570941925, 0.025001738220453262, 0.007020662538707256, -0.004822445567697287, -0.004318048246204853, 0.008233942091464996, 0.00691842008382082, -0.0350351519882679, 0.027782738208770752, 0.01679506152868271, 0.011941942386329174, -0.0007996227941475809, 0.006966133136302233, -0.006744607351720333, -0.023229531943798065, -0.01289620716124773, -0.0006841737776994705, 0.02895512245595455, 0.029145974665880203, -0.022057149559259415, 0.009365427307784557, -0.013652803376317024, -0.011042207479476929, -0.004423699341714382, -0.03847050666809082, -0.005742629524320364, 0.004522533621639013, -0.0010641757398843765, -0.011144449934363365, -0.6473732590675354, 0.010340141132473946, -0.014886531047523022, -0.01661784015595913, 0.019344311207532883, 0.010394670069217682, -0.0037011844106018543, 0.003503515152260661, -0.008349817246198654, 0.006434471346437931, -0.008826949633657932, 0.012003288604319096, 0.006356085184961557, 0.02193445898592472, -0.015104648657143116, -0.0003186562971677631, 0.030972709879279137, -0.010169737040996552, -0.012364545837044716, 2.016896178247407e-05, -0.0020482612308114767, 0.011948758736252785, 0.01590895839035511, -0.00903143547475338, 0.007470530457794666, -0.004379393998533487, 0.0057835266925394535, -0.008411162532866001, -0.0026600132696330547, 0.009651707485318184, -0.028464356437325478, 0.029991179704666138, 0.003040014998987317, 0.0177084282040596, 0.06298147886991501, -0.026351341977715492, -0.026569459587335587, 0.008308920077979565, -8.461645484203473e-05, 0.018526369705796242, -0.005088276229798794, -0.021948091685771942, -0.0029991180635988712, 0.005606305785477161, -0.007034295238554478, 0.005047379527240992, 0.0025782191660255194, -0.010735479183495045, -0.012105531059205532, -0.010047045536339283, 0.004161276388913393, -0.004379393998533487, 0.008751971647143364, -0.00366369541734457, 0.003871588734909892, -0.01717676781117916, 0.009985700249671936, -0.02947315014898777, 0.0010036821477115154, -0.002361805411055684, 0.008070354349911213, 0.026896635070443153, -0.04337815195322037, -0.01697228103876114, -0.002419742988422513, 0.022588811814785004, 0.009045067243278027, 0.014750207774341106, -0.0046963463537395, -0.02344764955341816, 0.007341023068875074, 0.021280106157064438, -0.026378607377409935, 0.010169737040996552, 0.002447007689625025, 0.006819585338234901, -0.004597511608153582, 0.01796744391322136, -0.01186014898121357, 0.000796640757471323, 0.01913982629776001, 0.021321002393960953, -0.02641950361430645, -0.009972067549824715, 0.03274491801857948, -0.03064553439617157, -0.032145094126462936, -0.007954479195177555, -0.0008558562840335071, -0.009419957175850868, -0.012971185147762299, 0.03476250544190407, 0.0007523355889134109, -0.004716794937849045, -0.009106412529945374, 0.01253494992852211, -0.017040442675352097, 0.0066866702400147915, 0.0030178625602275133, -0.018580898642539978, -0.002593555487692356, -0.0022748992778360844, 0.005984603893011808, -0.006945684552192688, 0.015063752420246601, 0.0028116730973124504, -0.018199194222688675, 0.029064180329442024, 0.04583197832107544, -0.028546150773763657, 0.00353759597055614, -0.005599489901214838, -0.02021678164601326, -0.010715031065046787, -0.026487665250897408, -0.025587929412722588, 0.011348935775458813, 0.007927214726805687, 0.02516532689332962, -0.04719521105289459, 0.02328406274318695, 0.0037148166447877884, 0.003292213659733534, -0.01669963449239731, 0.006383350118994713, 0.02039400301873684, 0.02085750363767147, -0.013571009039878845, -0.010715031065046787, -0.0054870229214429855, 0.011205795221030712, -0.001032650819979608, 0.017953811213374138, -0.007920398376882076, 0.006376533769071102, 0.020721178501844406, 0.01609981060028076, -0.012112347409129143, -0.005377964116632938, -0.022166209295392036, -0.016195237636566162, -0.006860482506453991, 0.0027009102050215006, 0.0020380369387567043, -0.0252471212297678, -0.030236562713980675, -0.007613670080900192, -0.014027693308889866, -0.011158082634210587, -0.009283633902668953, 0.0041067469865083694, 9.585249790688977e-05, -0.02066664956510067, 0.009924354031682014, 0.012030553072690964, -0.009174575097858906, -0.005749445408582687, -0.007927214726805687, -0.013625538907945156, 0.015649942681193352, -0.00804990530014038, 0.02830076776444912, -0.01832188479602337, 0.007095640525221825, 0.013557377271354198, 0.0005857652286067605, 0.015377296134829521, -0.006874114740639925, -0.01708134077489376, -0.026746680960059166, 4.3533007556106895e-05, -0.024660930037498474, -0.007490979041904211, 0.01942610554397106, -0.00813169963657856, -0.013584641739726067, -0.008254391141235828, -0.034462593495845795, -0.01469567883759737, -0.008063537999987602, 0.02920050360262394, 0.005245048552751541, -0.00777044240385294, -0.011444361880421638, 0.05654700845479965, 0.002130055334419012, -0.01145799458026886, 0.009324531070888042, -0.010319693014025688, 0.02148459106683731, -0.02939135767519474, 0.00503374682739377, -0.008636096492409706, -0.0027315830811858177, -0.005967563483864069, 0.013496031053364277, 0.024838149547576904, 0.005970971193164587, -0.0017670940142124891, 0.005555184558033943, 0.013373340480029583, -0.0054631661623716354, 0.018280988559126854, -0.02023041434586048, 0.029145974665880203, -0.030127504840493202, 0.004485044628381729, -0.014095854945480824, 0.010530994273722172, -0.007266045082360506, 0.0005746889510191977, 0.0060220928862690926, 0.004304416012018919, -0.002419742988422513, -0.009413140825927258, 0.043623536825180054, 0.010169737040996552, 0.017054075375199318, 0.012105531059205532, 0.004219213966280222, 0.009999332018196583, -0.014259442687034607, 0.023829355835914612, 0.0309181809425354, -0.0075795892626047134, -0.0153636634349823, 0.022084414958953857, 0.012521318159997463, -0.004928096197545528, -0.009263184852898121, 0.010899067856371403, 0.00817941315472126, 0.010169737040996552, 0.00965852290391922, 0.008779236115515232, -0.016413355246186256, 0.014341237023472786, 0.010435567237436771, 0.0031524819787591696, -0.01172382477670908, 0.021402796730399132, -0.006267474964261055, 0.02183903194963932, 0.004031768999993801, 0.025301650166511536, 0.009576729498803616, 0.0163451936095953, 0.012419074773788452, -0.009610810317099094, 0.005527920089662075, 0.011389832012355328, 0.007852236740291119, 0.002549250377342105, -0.004399842582643032, 0.010374221950769424, -0.024033840745687485, 0.02830076776444912, 0.024783620610833168, 0.009883456863462925, 0.03478977084159851, 0.005221191793680191, -0.0164406206458807, 0.01055825874209404, 0.0037114087026566267, 0.007572772912681103, 0.02966400422155857, 0.0067480155266821384, -0.015472722239792347, -0.017394885420799255, 0.016672369092702866, 0.006601467728614807, -0.024047473445534706, -0.012766700237989426, -0.008281655609607697, 0.020189518108963966, -0.004805405158549547, 0.007470530457794666, 0.011621582321822643, 0.0008106990717351437, 0.014259442687034607, 0.014463928528130054, -0.03926118090748787, 0.0074841626919806, 0.02228889986872673, -0.002704318379983306, -0.016386089846491814, 0.01554088480770588, 0.02202988602221012, -0.01626339927315712, 0.026215018704533577, 0.0028304175939410925, 0.004890607204288244, -0.0242655910551548, -0.000524419650901109, -0.003762529930099845, 0.020094091072678566, 0.04455053433775902, -0.023379487916827202, 0.019194355234503746, -0.00019458057067822665, -0.003121809335425496, 0.010319693014025688, -0.022057149559259415, 0.003581901313737035, 0.02614685706794262, 0.002104494720697403, -0.027169283479452133, -0.030863652005791664, 0.016658738255500793, -0.015963487327098846, -0.006512857507914305, -0.0033791200257837772, -0.038497768342494965, -0.006553754676133394, -0.019344311207532883, 0.007838604040443897, -0.0093449791893363, -0.009842559695243835, 0.038334183394908905, -0.001720232772640884, -0.009965251199901104, -0.028055386617779732, -0.03389003500342369, -0.017912914976477623, 0.12072813510894775, 0.007286493666470051, -0.010660501196980476, 0.008867846801877022, 0.01851273700594902, 0.025656091049313545, 0.02560156211256981, -0.0035069233272224665, 0.023025047034025192, 0.0022629708983004093, 0.0017892465693876147, -0.02686937153339386, 0.012187325395643711, -0.008874663151800632, 0.008567934855818748, -0.020189518108963966, -0.025901474058628082, -0.014763840474188328, 0.002556066494435072, 0.005827831570059061, -0.014164016582071781, 0.03890674188733101, 0.004457780160009861, 0.04114244505763054, -0.012698538601398468, 0.003912485670298338, 0.018812648952007294, 0.019985031336545944, 0.011553420685231686, -0.020884767174720764, -0.016945017501711845, -0.006332228891551495, 0.007968110963702202, 0.013066612184047699, 0.012971185147762299, 0.006039133295416832, 0.007361471652984619, 0.008302103728055954, -0.002147095976397395, -0.01814466342329979, 0.026746680960059166, 0.01590895839035511, 0.021770870313048363, -0.028273504227399826, 0.023338591679930687, -0.01253494992852211, 0.0163451936095953, 0.03192697465419769, -0.004703162238001823, -0.00902461912482977, 0.0185945313423872, 0.014082222245633602, 0.003317774273455143, -0.0003874570829793811, 0.02391115017235279, 0.0019511308055371046, -0.01176472194492817, -0.008315736427903175, -0.01798107661306858, 0.004471412394195795, 0.004161276388913393, -0.021811768412590027, -0.007804523222148418, -0.010851354338228703, -0.016290664672851562, -0.013066612184047699, -0.016645105555653572, -0.012337281368672848, -0.04735879972577095, -0.008649729192256927, -0.007422817405313253, -0.012507685460150242, -0.00548361474648118, 0.0018591124098747969, 0.014123119413852692, 0.002464048098772764, 0.00263956468552351, 0.018267355859279633, 0.003980647772550583, 0.024374650791287422, -0.0059982361271977425, -0.019030766561627388, -0.0017977667739614844, -0.008261206559836864, -0.016781428828835487, 0.02147095836699009, 0.025724252685904503, -0.009876641444861889, 0.016208870336413383, 0.006751423701643944, 0.034271739423274994, 0.001706600422039628, 0.00898372195661068, -0.005347291007637978, 0.0003684996045194566, -0.008656545542180538, 0.000738703238312155, 0.016686001792550087, -0.006625324487686157, 0.006788912694901228, -0.007934030145406723, -0.020802972838282585, 0.012739435769617558, 0.004461187869310379, 0.01832188479602337, 0.0007122905226424336, 0.01714950241148472, 0.01469567883759737, -0.026460399851202965, -0.006863890681415796, 0.006655997131019831, -0.01904439926147461, -0.006993398070335388, -0.00222207373008132, 0.029336826875805855, 0.026133224368095398, 0.005579041317105293, 0.038061533123254776, -0.012780332937836647, -0.014041325077414513, -0.02193445898592472, -0.006434471346437931, 0.037788886576890945, 0.03127262368798256, -0.013686884194612503, 0.015963487327098846, -0.018117399886250496, -0.03686188906431198, -0.01618160493671894, 0.005367739591747522, -0.0007838603924028575, -0.002608891809359193, -0.006506041157990694, -0.0186899583786726, -0.03885221108794212, 0.009276817552745342, -0.017926545813679695, -0.0046315924264490604, -0.028709739446640015, 0.008104435168206692, -0.03568950295448303, 0.018444575369358063, 0.0006990841939114034, -0.0011613061651587486, -0.010087942704558372, -0.02560156211256981, -0.008724707178771496, 0.005872136913239956, -0.006403798703104258, 0.007238780613988638, -0.02607869543135166, 0.005858504679054022, 0.0059266663156449795, -0.004542982205748558, -0.018499106168746948, -0.027482828125357628, 0.006427655462175608, 0.01669963449239731, -0.002665125299245119, 0.0004260110727045685, 0.030427416786551476, 0.001801174832507968, 0.029227769002318382, 0.023379487916827202, -0.009358611889183521, -0.0009278521756641567, 0.0011783466907218099, -0.0034302412532269955, -0.03252679854631424, 0.039588358253240585, 0.011035391129553318, 0.0064617362804710865, -0.02076207660138607, 0.037707094103097916, 0.008097618818283081, -0.0044305152259767056, -0.00566424336284399, 0.01015610434114933, -0.0053438832983374596, -0.018485473468899727, -0.01249405276030302, -0.008336184546351433, 0.006403798703104258, -0.01343468576669693, -0.005241640377789736, -0.005360923707485199, 0.051612094044685364, -4.789962258655578e-05, 0.002389070112258196, -0.031490739434957504, 0.02678757719695568, -0.030427416786551476, 0.02164817973971367, 0.010421935468912125, 0.0040385848842561245, -0.00626406678929925, -0.019371576607227325, 0.020830238237977028, -0.01888081058859825, 0.001088032266125083, 0.009876641444861889, 0.03969741612672806, -0.011642031371593475, -0.02039400301873684, -0.014436664059758186, -0.0025782191660255194, -0.012882575392723083, -0.0069865817204117775, 0.007034295238554478, -0.015377296134829521, -0.017272192984819412, -0.03119082748889923, -0.008792868815362453, -0.035444121807813644, -0.006952500902116299, -0.0074500818736851215, 0.001567720784805715, 0.0063185966573655605, -0.011137633584439754, -0.012200957164168358, -0.007995376363396645, 0.0032240517903119326, 0.004600919783115387, -0.016072547063231468, 0.040569886565208435, 0.004174908623099327, -0.023856621235609055, -0.00858838390558958, 0.006100478582084179, 0.012412259355187416, 0.013714148662984371, -0.0025731069035828114, -0.0013964643003419042, 0.0326903872191906, 0.00903143547475338, 0.008758787997066975, 0.002472568303346634, -0.029800327494740486, -0.04127877205610275, 0.00689456332474947, 0.007702280301600695, -0.005234824027866125, -0.015077384188771248, -0.01941247284412384, 0.0019204579293727875, 0.01609981060028076, 0.0020295167341828346, 0.019194355234503746, -0.0029650372453033924, -0.005234824027866125, -0.015649942681193352, -0.012678089551627636, 0.01913982629776001, 0.026923900470137596, 0.0074364496394991875, 0.0328812412917614, -0.0014245810452848673, -0.02723744511604309, -0.010210633277893066, 0.01904439926147461, 0.01734035462141037, -0.002169248415157199, -0.011655663140118122, 0.012882575392723083, -0.0019647630397230387, 0.017994707450270653, -0.013127957470715046, -0.024660930037498474, -0.02245248854160309, 0.029854856431484222, -0.026351341977715492, 0.0029326602816581726, -0.020543958991765976, -0.013864104636013508, 0.003304142039269209, 0.008022640831768513, -0.013782310299575329, -0.013639170676469803, 0.009195023216307163, 0.004151051864027977, 0.03389003500342369, 0.02696479856967926, -0.023393120616674423, -0.02057122252881527, -0.013782310299575329, -0.006874114740639925, -0.022343428805470467, -0.010496913455426693, -0.005170070566236973, -0.047576919198036194, -0.026024164631962776, -0.00026284882915206254, -0.012344096787273884, 0.005469982512295246, 0.0065333060920238495, -0.01222140621393919, 0.01672689989209175, 0.025560665875673294, -0.014504825696349144, -0.0033194783609360456, -0.01096041314303875, 0.013509663753211498, -0.03198150545358658, 0.035280533134937286, 0.01016292069107294, -0.0014118007384240627, 0.003051943378522992, -0.003142257686704397, 0.013257465325295925, -0.027919063344597816, 0.019453370943665504, 0.013905001804232597, -0.005970971193164587, 0.011110369116067886, 0.026487665250897408, 0.0154590904712677, 0.023611238226294518, -0.019180722534656525, -0.03825238719582558, 0.002187992911785841, -0.015936221927404404, -0.00646855216473341, 0.02497447468340397, -0.005872136913239956, 0.0029002835508435965, -0.01652241311967373, 0.006543530151247978, 0.006117518991231918, -0.005892585497349501, 0.001609469880349934, -0.0414968878030777, 0.023583974689245224, -0.0262286514043808, -0.02452460676431656, -0.017026811838150024, -0.032581329345703125, -0.018717223778367043, 0.03612574189901352, 0.008908743970096111, 0.0018096951534971595, 0.0018165112705901265, 0.02605143003165722, 0.009965251199901104, 0.0017142685828730464, -0.01779022254049778, 0.01348239928483963, -0.01563631184399128, 0.011567053385078907, -0.03350832685828209, -0.007402368821203709, 0.01609981060028076, 0.03209056332707405, 0.019262516871094704, -0.029064180329442024, -0.021143782883882523, 0.002533914055675268, -0.02380209229886532, -0.015104648657143116, -0.032663121819496155, 0.022766033187508583, 0.02641950361430645, -0.010299243964254856, 0.00844524335116148, -0.01016292069107294, 0.013898185454308987, 0.009529015980660915, -0.03926118090748787, -0.01735398732125759, 0.017231296747922897, 0.005858504679054022, 0.0027196547016501427, 0.011260325089097023, -0.03519874066114426, -0.003394456347450614, -0.0004856526502408087, 0.010210633277893066, 0.03260859102010727, 0.021184679120779037, 0.0007139946101233363, -0.004859934560954571, -0.016686001792550087, -0.018117399886250496, 0.010033412836492062, 0.004989441949874163, -0.009944803081452847, -0.023679399862885475, 0.0006505189230665565, 0.0154590904712677, 0.008070354349911213, 0.004730427172034979, 0.02865521050989628, 0.00817259680479765, 0.010987677611410618, 0.016931384801864624, -0.01141709741204977, -0.027878165245056152, 0.014872899278998375, -0.006359493359923363, -0.00025092053692787886, -0.02498810552060604, -0.03279944509267807, 0.0004865046648774296, -0.002259562723338604, -0.017463047057390213, -0.00037872386747039855, 0.0011033687042072415, -0.014832002110779285, 0.010735479183495045, 0.005381371825933456, -0.02643313631415367, -0.00858156755566597, -0.00363983865827322, 0.020080458372831345, -0.012759883888065815, 0.009379060007631779, -0.01136256754398346, -0.0028679065871983767, -0.01100812666118145, 0.02230253256857395, 0.00626406678929925, -0.003554636612534523, -0.004174908623099327, 0.012010104954242706, -0.006359493359923363, 0.007416001055389643, -0.009079148061573505, 0.005469982512295246, -0.010006148368120193, 0.005282537546008825, 0.0025185775011777878, -0.028164444491267204, -0.0420694462954998, -0.020543958991765976, -0.013059795834124088, -0.014791104942560196, -0.002586739370599389, 0.22204379737377167, 0.005418860819190741, 0.0012746251886710525, 0.024769987910985947, -0.03219962120056152, -0.005139397922903299, 0.002692390000447631, 0.015663575381040573, -0.01814466342329979, 0.006448103580623865, 0.005217783618718386, 0.0018386638257652521, -0.029527680948376656, 0.0017355692107230425, 0.004086298402398825, -0.004144235979765654, -0.04528668150305748, -0.009358611889183521, -0.01616797223687172, -0.029173240065574646, -0.022520650178194046, -0.004372577648609877, 0.01137620024383068, -0.010012964718043804, 0.03511694446206093, -0.028437092900276184, -0.014572987332940102, -2.7025077997677727e-06, -0.012793964706361294, 0.009508567862212658, 0.0005061011761426926, -0.011969207786023617, 0.024824518710374832, -0.008745155297219753, -0.013448317535221577, -0.003902261611074209, -0.013673251494765282, 0.019385209307074547, 0.017463047057390213, 0.011117185465991497, -0.0005171774537302554, -0.02730560675263405, -0.003169522387906909, 0.009215472266077995, -0.032308679074048996, -0.003980647772550583, 0.0004992850008420646, -0.012500869110226631, -0.0016699634725227952, -0.01432760525494814, -0.017912914976477623, -0.0027196547016501427, 0.040678948163986206, 0.031572531908750534, 0.0016912639839574695, -0.002063597785308957, 0.014927428215742111, 0.0015336399665102363, -0.01716313511133194, -0.005609713960438967, 0.0003565712831914425, 0.013973163440823555, -0.005146213807165623, 0.01787201687693596, -0.0034149049315601587, 0.03997006267309189, -0.0031610021833330393, 0.00853385403752327, 0.006158416159451008, 0.0003252594615332782, 0.011396648362278938, -0.02489268034696579, -0.006911603733897209, -0.01825372315943241, -0.02678757719695568, -0.0006594651495106518, 0.004004504065960646, 0.00930408202111721, 0.020980194211006165, 0.030945444479584694, -0.022697871550917625, -0.01841731183230877, 0.028109915554523468, -0.0013538632774725556, -0.03290850296616554, -0.02219347283244133, 0.016386089846491814, 0.0028798349667340517, -0.0016938201151788235, -0.004072666168212891, -0.00689456332474947, -0.007613670080900192, -0.0014348053373396397, -0.029527680948376656, 0.02175723761320114, 0.01788564957678318, -0.01995776779949665, -0.0063083721324801445, 0.007668199483305216, 0.022043516859412193, 0.0027861124835908413, -0.04894015192985535, 0.024824518710374832, -0.017040442675352097, -0.008268022909760475, -0.010483280755579472, 0.005579041317105293, 0.0163451936095953, 0.01824009045958519, -0.023842988535761833, -0.016863223165273666, -0.02920050360262394, -0.012875759042799473, 0.00041791689000092447, 0.026364974677562714, 0.020993826910853386, 0.01706770807504654, -0.00564038660377264, 0.0014918908709660172, 0.0011544900480657816, -0.0020431492011994123, -0.011069471947848797, 0.024769987910985947, 0.018894443288445473, 0.010169737040996552, -0.04051535949110985, -0.02966400422155857, -0.016917752102017403, 0.017013179138302803, -0.018935341387987137, 0.03263585641980171, -0.013591458089649677, 0.013182487338781357, -0.0032547246664762497, -0.00613115169107914, -0.007559140678495169, 0.01105584017932415, -0.04904921352863312, -0.007586405612528324, -0.018989870324730873, 0.015772635117173195, -0.002014180412515998, 0.03808879852294922, -0.01010157447308302, 0.0391521230340004, -0.021252840757369995, 0.01226230338215828, 0.01177153829485178, -0.02381572313606739, 0.0032172356732189655, -0.012316832318902016, -0.0005316618480719626, -0.0131143257021904, -0.01653604581952095, 0.018131032586097717, -0.02407473884522915, -0.03577129915356636, -0.030263828113675117, 0.0004338923026807606, 0.03037288598716259, -0.002283419482409954, 0.029255032539367676, 0.026992062106728554, -0.004069257993251085, -0.024129267781972885, -0.02920050360262394, -0.17547567188739777, 0.030972709879279137, 0.01931704580783844, -0.028055386617779732, 0.01573173701763153, 0.02066664956510067, 0.01014928799122572, -0.0010752519592642784, -0.009556280449032784, 0.012616744264960289, 0.027482828125357628, 0.007116089109331369, -0.013468766584992409, 0.01554088480770588, -0.007600037846714258, -0.019821444526314735, 0.010053861886262894, -0.0032445003744214773, 0.04215124249458313, -0.0063356370665133, 0.01672689989209175, -0.03080912120640278, 0.006669629365205765, -0.013100693002343178, -0.028273504227399826, 0.0397246815264225, -0.01055825874209404, -0.0022680829279124737, -0.0007301829755306244, -0.022261634469032288, -0.03010023944079876, -0.015240972861647606, 0.022316165268421173, 0.007266045082360506, 0.007477346807718277, 0.006540121976286173, -0.008349817246198654, -0.011498890817165375, -0.011212611570954323, 0.021443694829940796, 0.019548796117305756, 0.0126235606148839, -0.01051054522395134, 0.0048701586201786995, 0.0031184011604636908, 0.01689048670232296, 0.014545722864568233, -0.0027247669640928507, 0.02903691492974758, 0.002460639923810959, 0.010265163145959377, -0.00970623642206192, 0.02130736969411373, 0.009222287684679031, 0.0044271070510149, 0.01424581091850996, -0.01091269962489605, 0.026351341977715492, -0.013550560921430588, -0.03108176961541176, 0.008165780454874039, -0.0020755259320139885, 0.005054195411503315, 0.005708548706024885, -0.003633022541180253, -0.012357729487121105, -0.01136256754398346, 0.012957553379237652, -0.029609475284814835, 0.028818797320127487, -0.016917752102017403, -0.00019362203602213413, 0.023611238226294518, -0.0070547438226640224, 0.021048355847597122, 0.018499106168746948, -0.007756809704005718, 0.025042636319994926, 0.024115635082125664, -0.010142471641302109, -0.008029457181692123, 0.004001096356660128, -0.035907622426748276, 0.011887413449585438, -0.006407206878066063, 0.0002588017378002405, -0.003748897463083267, -0.007586405612528324, 0.0034762504510581493, -0.017135869711637497, 0.02066664956510067, -0.023474914953112602, -0.0379524752497673, -0.021498223766684532, -0.002896875375881791, 0.025138061493635178, 0.014395766891539097, -0.0016529230633750558, 0.002762255957350135, -0.017367620021104813, 0.0016222501872107387, -0.010047045536339283, -0.02275240048766136, 0.034544385969638824, -0.005810791160911322, 0.009181390516459942, 0.0038511401508003473, 0.02840982750058174, 0.0028679065871983767, -0.009890273213386536, -0.026215018704533577, -0.0017739101313054562, 0.029418621212244034, 0.022943252697587013, -0.02794632688164711, 0.0442233607172966, 0.011096736416220665, -0.034462593495845795, 0.015881692990660667, -0.005691508296877146, 0.03817059472203255, 0.017585737630724907, -0.003142257686704397, 0.008520221337676048, 0.009099597111344337, -0.015377296134829521, -0.11658389866352081, -0.030427416786551476, 0.0022101455833762884, 0.008751971647143364, -0.03309935703873634, 0.012207773514091969, -0.004883791320025921, 0.013230199925601482, -0.015213708393275738, 0.04078800603747368, -0.004911055788397789, -0.009058699943125248, 0.015649942681193352, -0.0077363611198961735, -0.0026600132696330547, -0.009085964411497116, 0.0022868274245411158, -0.0025901473127305508, -0.017858384177088737, 0.029991179704666138, -0.005432493519037962, -0.02275240048766136, -0.015513619408011436, -0.012718986719846725, -0.0023260205052793026, -0.0044066584669053555, -0.02955494448542595, 0.02228889986872673, 0.020734811201691628, 0.0022629708983004093, 0.010442383587360382, -0.017026811838150024, 0.02032584138214588, -0.01014928799122572, -0.006478776689618826, -0.021811768412590027, -0.015854429453611374, -0.001122965244576335, 0.01344150211662054, -0.021280106157064438, -0.012507685460150242, 0.007381920237094164, 0.020366737619042397, -0.02317500300705433, -0.014981958083808422, 0.0007323130848817527, -0.034462593495845795, 0.020107723772525787, 0.0018471840303391218, 0.0022357061970978975, -0.015840796753764153, 0.012466788291931152, -0.020162252709269524, -0.011110369116067886, 0.030127504840493202, -0.015336398966610432, 0.007702280301600695, 0.00930408202111721, -0.02471545897424221, 0.01168292760848999, -0.005020114593207836, -0.0030928405467420816, -0.017490310594439507, 0.00013738857524003834, 0.011198979802429676, 0.0024435995146632195, -0.007361471652984619, 0.009842559695243835, -0.012971185147762299, -0.04708615317940712, 0.007266045082360506, 0.013584641739726067, -0.01549998763948679, 0.023883884772658348, -0.018717223778367043, 0.010687766596674919, -0.005562000907957554, 0.0021010867785662413, 0.01024471502751112, -0.016576943919062614, -0.01020381785929203, -0.018540002405643463, 0.004018136765807867, -0.01986234076321125, 0.012596296146512032, -0.005838056094944477, 0.010626420378684998, -0.007627302315086126, -0.009372243657708168, -0.043623536825180054, -0.009181390516459942, 0.020080458372831345, 0.018376413732767105, -0.016495149582624435, -0.03432627022266388, 0.023870253935456276, -0.01299163419753313, -0.005834647919982672, 0.008874663151800632, 0.0023260205052793026, -0.014232178218662739, -0.0037182248197495937, -0.03560771048069, 0.017476677894592285, -0.0008767308318056166, 0.0010317988926544785, -0.0004856526502408087, -0.011492075398564339, 0.009576729498803616, 0.005660835187882185, 0.005016706418246031, -0.008861030451953411, 0.008847398683428764, -0.0029190280474722385, 0.006543530151247978, 0.012057817541062832, -0.021416429430246353, -0.02650129795074463, -0.007518243510276079, -0.015077384188771248, 0.008799685165286064, 0.014068590477108955, 0.024824518710374832, -0.0011451177997514606, -0.005541552323848009, 0.002160728210583329, 0.011246692389249802, 0.0030809121672064066, -0.024047473445534706, 0.01894897222518921, 0.0011255212593823671, -0.0028116730973124504, 0.014082222245633602, -0.039779212325811386, 0.003310958156362176, 0.013850472867488861, 0.010810457170009613, -0.019630590453743935, -0.0047270189970731735, 0.03432627022266388, 0.0022953476291149855, 0.005217783618718386, 0.0032496126368641853, -0.021729974076151848, 0.01888081058859825, -0.006625324487686157, -0.021061988547444344, -0.007988560013473034, -0.017190398648381233, 0.012459971942007542, 0.028546150773763657, 0.01716313511133194, 0.008111251518130302, 0.018103767186403275, -0.005364331416785717, -0.018540002405643463, -0.012016920372843742, -0.00853385403752327, 0.017831120640039444, -0.011198979802429676, -0.03255406394600868, 0.000614734017290175, 0.02282056212425232, 0.03566224128007889, 0.028982385993003845, -0.032117828726768494, 0.047685977071523666, -0.0008971793577075005, -0.013530111871659756, -0.004624776542186737, 0.031136298552155495, -0.03399909287691116, -0.020952928811311722, -0.002608891809359193, -0.0006019536522217095, 0.006754831876605749, 0.015118281356990337, -0.004433923400938511, -0.01011520717293024, -0.011260325089097023, -0.002825305564329028, 0.02453823946416378, -0.009603993967175484, 0.002169248415157199, -0.02884606271982193, -0.016576943919062614, 0.01822645775973797, -0.009147309698164463, -0.014123119413852692, -0.013380155898630619, 0.0061652325093746185, -0.004045401234179735, -0.001261844881810248, 0.013237016275525093, 0.006253842730075121, -0.02463366463780403, 0.011273957788944244, 0.029854856431484222, -0.019548796117305756, -0.009569913148880005, 0.02174360677599907, 0.02012135647237301, -0.004161276388913393, -0.00817259680479765, -0.020094091072678566, 0.001980099594220519, -0.015527252107858658, 0.004911055788397789, 0.005684691946953535, -0.018294619396328926, -0.004188540857285261, 0.005514287389814854, 0.031490739434957504, 0.003207011381164193, 0.032853975892066956, 0.010742295533418655, -0.01132848672568798, -0.005493838805705309, -0.020557591691613197, -0.017463047057390213, -0.004185133147984743, 0.026978429406881332, 0.02164817973971367, 0.02346128225326538, -0.0075795892626047134, -0.009972067549824715, 0.02318863570690155, 0.006489000748842955, -0.01132848672568798, -0.013284729793667793, -0.018458208069205284, -0.008336184546351433, -0.002567994873970747, -0.014736575074493885, -0.029009651392698288, -0.007947662845253944, -0.0033961604349315166, -0.003128625452518463, -0.00966533925384283, 0.007252412848174572, -0.027837269008159637, 0.043187301605939865, 0.0022731951903551817, -0.03184518218040466, -0.0025918514002114534, 0.02040763571858406, 0.018785385414958, 0.013659619726240635, 0.0036091660149395466, 0.0008677846053615212, 0.007456898223608732, 0.00221355352550745, -0.002533914055675268, 0.011689743958413601, -0.01419128105044365, -0.033126622438430786, 0.027564620599150658, 0.025410709902644157, -0.01672689989209175, -0.009808478876948357, -0.02246612124145031, 0.012412259355187416, 0.025724252685904503, 0.029691269621253014, 0.0016103219240903854, -0.022125311195850372, -0.0015949854860082269, 0.0186899583786726, 0.00649240892380476, 0.007640935014933348, -0.015881692990660667, -0.004587287548929453, -0.019098928198218346, -0.02516532689332962, -0.014736575074493885, 0.018908075988292694, -0.01128077320754528, -0.019644223153591156, -0.0022476345766335726, 0.026528561487793922, 0.010537810623645782, -0.011158082634210587, -0.008833765983581543, -0.013005266897380352, -0.002586739370599389, -0.005964155308902264, -0.010142471641302109, 0.001551532419398427, -0.005814199335873127, -0.025138061493635178], 'query_similarity_score': 0.777745419876738})], 'answer': \"Chandler's best friend is Joey, and Ross is Monica's brother.\"}\n"
          ]
        }
      ]
    },
    {
      "cell_type": "code",
      "source": [
        "answers=[]\n",
        "contexts=[]\n",
        "for questions in eval_questions:\n",
        "  response = chain.invoke({\"input\": questions})\n",
        "  answers.append(response[\"answer\"])\n",
        "  contexts.append([context.page_content for context in response[\"context\"]])"
      ],
      "metadata": {
        "colab": {
          "base_uri": "https://localhost:8080/"
        },
        "id": "UGXcGu8xhh9y",
        "outputId": "ffbd429a-b8fc-404c-fdd6-c65c07c1d597"
      },
      "execution_count": 19,
      "outputs": [
        {
          "output_type": "stream",
          "name": "stderr",
          "text": [
            "INFO:langchain.retrievers.re_phraser:Re-phrased question: The converted query for the vectorstore would be: \"Chandler work location\"\n",
            "INFO:langchain.retrievers.re_phraser:Re-phrased question: Query for vectorstore: Chandler's best friend\n",
            "INFO:langchain.retrievers.re_phraser:Re-phrased question: Query for vectorstore: Monica work location\n",
            "INFO:langchain.retrievers.re_phraser:Re-phrased question: Query for vectorstore: Real name of Pheebs\n"
          ]
        }
      ]
    },
    {
      "cell_type": "code",
      "source": [
        "# Check lengths of all lists\n",
        "from datasets import Dataset\n",
        "len_eval_questions = len(eval_questions)\n",
        "len_answers = len(answers)\n",
        "len_contexts = len(contexts)\n",
        "len_ground_truth = len(eval_answers)\n",
        "\n",
        "print(f\"Length of eval_questions: {len_eval_questions}\")\n",
        "print(f\"Length of answers: {len_answers}\")\n",
        "print(f\"Length of contexts: {len_contexts}\")\n",
        "print(f\"Length of ground_truth: {len_ground_truth}\")\n",
        "\n",
        "# Ensure all lists have the same length\n",
        "min_length = min(len_eval_questions, len_answers, len_contexts, len_ground_truth)\n",
        "\n",
        "# Trim lists to the same length if necessary\n",
        "eval_questions = eval_questions[:min_length]\n",
        "answers = answers[:min_length]\n",
        "contexts = contexts[:min_length]\n",
        "eval_answers = eval_answers[:min_length]\n",
        "\n",
        "# Create Dataset\n",
        "response_datasets = Dataset.from_dict({\n",
        "    \"question\" : eval_questions,\n",
        "    \"answer\": answers,\n",
        "    \"contexts\": contexts,\n",
        "    \"ground_truth\" : eval_answers\n",
        "})\n",
        "\n",
        "# Check the first record\n",
        "print(response_datasets[0])"
      ],
      "metadata": {
        "colab": {
          "base_uri": "https://localhost:8080/"
        },
        "id": "_fQEX9aMiIi4",
        "outputId": "c8e52f0e-5c68-451f-8837-36009943544c"
      },
      "execution_count": 26,
      "outputs": [
        {
          "output_type": "stream",
          "name": "stdout",
          "text": [
            "Length of eval_questions: 4\n",
            "Length of answers: 4\n",
            "Length of contexts: 4\n",
            "Length of ground_truth: 4\n",
            "{'question': 'Where does chandler work ?', 'answer': 'Chandler works in advertising as a statistical analysis and data reconfiguration.', 'contexts': [\"what else? Alright, look, I'll start, OK? Come on. Come on. Alright, ready, look! Oh... Ross.... you get me so hot. I want your lips on me now. Alright, now you say something. Come on! You like this woman, right? You want to see her again, right? Well if you can't talk dirty to me, how're you going to talk dirty to her? Now tell me you want to caress my butt! Alright, alright. I'm around. Go ahead. There you go! Keep going. Keep going! Say it... say it! You're not going to believe this! Hey Chandler, while you were sleeping that guy from your old job called again. And again, and again, and again... Hello? And again. What a tool! So, er... how did it go with Celia? All right, Ross! Whoa! And the... huh-huh? You cuddled. Yeah, where the hell is he? Ok, you know what blows my mind? Women can see breasts any time they want. You just look down and there they are. How you get any work done is beyond me. No plans, huh? Why do you have to break up with her? Be a man, just stop calling. My god,\", \"Uh, listen, I was wondering if maybe after work you and I could go maybe grab a cup of coffee. Hey, it's not the first time I lost a girl to a cowboy spraying cologne. Bijan for men? Bijan for men?! What is the big deal? Yeah, it's kinda sweet, sorta like, uh... Exactly. Gimme a box a juice. Well, they switched me over to Hombre. Or maybe it's because this guy's doing so good they wanna put more people on it. You should see this guy, Chandler, he goes through two bottles a day. I know, but, I was the best, you know? I liked being the best. I don't know.\", \"Yeah. We did? Uh, hi. We uh, we used to work together. Yeah, at Macy's. You were the Obsession girl, right? I was the Aramis guy. Aramis? Aramis? I gotta tell you. You're the best in the business. I'm serious. You're amazing. You know when to spritz, when to lay back. Ooh, you smell great tonight. What're you wearing? Listen, uh, you wanna go get a drink or something? What's wrong? Oh. What? Wait, wait, wait! So I guess you all saw it. Set another place for Thanksgiving. My entire family thinks I have VD. Chandler, will you just come in already? Hey, Monica, I got a question. I don't see any tater tots. But my mom always makes them. It's like a tradition. You get a little piece of turkey on your fork, a little cranberry sauce, and a tot! It's bad enough I can't be with my family because of my disease. The balloon? Wait, wait, we have a copy of your key. That tone will not make me go any faster. That one will.\", \"Run! You usually find them on the 'heaving beasts'. Hold it, hold it. I gotta side with Chandler on this one. When I first moved to the city, I went out a couple of times with this girl, really hot, great kisser, but she had the biggest Adam's apple. It made me nuts.\", 'Why not? Why, are you moving out? You\\'d tell me if you were moving out right\\nAw, I know all about Kip! Well, let me ask you something, was Kip a better roommate than me? So what\\'s it gonna be? Or an uncle... Hey, Chandler, that table place closes at 7, come on. Whoa, store will be open tomorrow! Feminist issue. That\\'s where I went! Will you pick one, just pick one! Here, how about that one? So what, like people are gonna come in and think, \"Uh-oh, I\\'m outside again?\" Of course! I don\\'t know, birds just don\\'t say, \"Hello, sit here, eat something.\"\\nAll right, how about the ladybugs? Fine, you want to get the birds, get the birds! Who cares, we\\'ll eat at the sink! Come on, let\\'s play! No-no, she kicked our butts. You could be on the Olympic standing-there team. Yes, now is when you swoop! You gotta make sure that when Paolo walks out of there, the first guy Rachel sees is you, She\\'s gotta know that you\\'re everything he\\'s not! You\\'re like, like the anti-Paolo! Wha-'], 'ground_truth': 'Chandler works at a consultancy firm'}\n"
          ]
        }
      ]
    },
    {
      "cell_type": "code",
      "source": [
        "!pip install nest_asyncio\n",
        "import nest_asyncio\n",
        "nest_asyncio.apply()\n"
      ],
      "metadata": {
        "colab": {
          "base_uri": "https://localhost:8080/"
        },
        "id": "BVlZojcyxFP4",
        "outputId": "ea4c0af6-6b29-4fd6-c6bc-f7c2e863c83a"
      },
      "execution_count": 31,
      "outputs": [
        {
          "output_type": "stream",
          "name": "stdout",
          "text": [
            "Requirement already satisfied: nest_asyncio in /usr/local/lib/python3.10/dist-packages (1.6.0)\n"
          ]
        }
      ]
    },
    {
      "cell_type": "code",
      "source": [
        "from ragas import evaluate\n",
        "from ragas.metrics import (\n",
        "    faithfulness,\n",
        "    answer_relevancy,\n",
        "    answer_correctness,\n",
        "    context_recall,\n",
        "    context_precision,\n",
        ")\n",
        "\n",
        "metrics = [\n",
        "    faithfulness,\n",
        "    answer_relevancy,\n",
        "    context_recall,\n",
        "    context_precision,\n",
        "    answer_correctness,\n",
        "]"
      ],
      "metadata": {
        "id": "4M37TCuBiQKI"
      },
      "execution_count": 32,
      "outputs": []
    },
    {
      "cell_type": "code",
      "source": [
        "import os\n",
        "os.environ['OPENAI_API_KEY'] = api_key\n",
        "results = evaluate(response_datasets, metrics)"
      ],
      "metadata": {
        "colab": {
          "base_uri": "https://localhost:8080/",
          "height": 49,
          "referenced_widgets": [
            "a3fca74b3f0048cfa20d8b33d7bc98ce",
            "cd033c5f50e441e8a3a283009373526a",
            "6baa7fe65f9c43f1b07404447a4a5b1d",
            "75ac5c7881f044c4900eaed43e653dc4",
            "c443c4e76b9a49a597069e907b0635cc",
            "77c4759e1ce443fa82d2d8dcc46729e0",
            "488631d27eba4c3c8438b836889f513e",
            "7a46b9fc646e48b6a40aa0f5e4597abc",
            "dd9677c00c02479db94dc104bb8c76e1",
            "07030cfe137c442480ff5721d708a69a",
            "a53f90e67ce14421b8bbfa82330666e8"
          ]
        },
        "id": "NwkeRcgziUDZ",
        "outputId": "6a98094e-4a99-485f-9173-01466ce60277"
      },
      "execution_count": 33,
      "outputs": [
        {
          "output_type": "display_data",
          "data": {
            "text/plain": [
              "Evaluating:   0%|          | 0/20 [00:00<?, ?it/s]"
            ],
            "application/vnd.jupyter.widget-view+json": {
              "version_major": 2,
              "version_minor": 0,
              "model_id": "a3fca74b3f0048cfa20d8b33d7bc98ce"
            }
          },
          "metadata": {}
        }
      ]
    },
    {
      "cell_type": "code",
      "source": [
        "results"
      ],
      "metadata": {
        "colab": {
          "base_uri": "https://localhost:8080/"
        },
        "id": "VtbsM8p1iXpQ",
        "outputId": "78596d2b-8fd2-4ed8-8c92-4b4d1d0d07d0"
      },
      "execution_count": 34,
      "outputs": [
        {
          "output_type": "execute_result",
          "data": {
            "text/plain": [
              "{'faithfulness': 0.0000, 'answer_relevancy': 0.9332, 'context_recall': 0.0000, 'context_precision': 0.2500, 'answer_correctness': 0.3063}"
            ]
          },
          "metadata": {},
          "execution_count": 34
        }
      ]
    },
    {
      "cell_type": "code",
      "source": [
        "results.to_pandas()"
      ],
      "metadata": {
        "colab": {
          "base_uri": "https://localhost:8080/",
          "height": 487
        },
        "id": "fIsl-72Hiag7",
        "outputId": "62f4a986-aff7-4281-9564-0000a79f2f53"
      },
      "execution_count": 35,
      "outputs": [
        {
          "output_type": "execute_result",
          "data": {
            "text/plain": [
              "                                       question  ... answer_correctness\n",
              "0                    Where does chandler work ?  ...           0.230132\n",
              "1  Who is Chandler's best friend ?Who is Ross ?  ...           0.605064\n",
              "2                      Where does Monica work ?  ...           0.189568\n",
              "3             What is the real name of Pheebs ?  ...           0.200536\n",
              "\n",
              "[4 rows x 9 columns]"
            ],
            "text/html": [
              "\n",
              "  <div id=\"df-f3534a72-28a9-4ee7-8b39-c17312a8b0f6\" class=\"colab-df-container\">\n",
              "    <div>\n",
              "<style scoped>\n",
              "    .dataframe tbody tr th:only-of-type {\n",
              "        vertical-align: middle;\n",
              "    }\n",
              "\n",
              "    .dataframe tbody tr th {\n",
              "        vertical-align: top;\n",
              "    }\n",
              "\n",
              "    .dataframe thead th {\n",
              "        text-align: right;\n",
              "    }\n",
              "</style>\n",
              "<table border=\"1\" class=\"dataframe\">\n",
              "  <thead>\n",
              "    <tr style=\"text-align: right;\">\n",
              "      <th></th>\n",
              "      <th>question</th>\n",
              "      <th>answer</th>\n",
              "      <th>contexts</th>\n",
              "      <th>ground_truth</th>\n",
              "      <th>faithfulness</th>\n",
              "      <th>answer_relevancy</th>\n",
              "      <th>context_recall</th>\n",
              "      <th>context_precision</th>\n",
              "      <th>answer_correctness</th>\n",
              "    </tr>\n",
              "  </thead>\n",
              "  <tbody>\n",
              "    <tr>\n",
              "      <th>0</th>\n",
              "      <td>Where does chandler work ?</td>\n",
              "      <td>Chandler works in advertising as a statistical...</td>\n",
              "      <td>[what else? Alright, look, I'll start, OK? Com...</td>\n",
              "      <td>Chandler works at a consultancy firm</td>\n",
              "      <td>0.0</td>\n",
              "      <td>0.939744</td>\n",
              "      <td>0.0</td>\n",
              "      <td>0.0</td>\n",
              "      <td>0.230132</td>\n",
              "    </tr>\n",
              "    <tr>\n",
              "      <th>1</th>\n",
              "      <td>Who is Chandler's best friend ?Who is Ross ?</td>\n",
              "      <td>Chandler's best friend is Joey, and Ross is Mo...</td>\n",
              "      <td>[So, tell me. Was it like you and Chandler, an...</td>\n",
              "      <td>Ross is Chandler's best friend</td>\n",
              "      <td>0.0</td>\n",
              "      <td>0.930543</td>\n",
              "      <td>0.0</td>\n",
              "      <td>1.0</td>\n",
              "      <td>0.605064</td>\n",
              "    </tr>\n",
              "    <tr>\n",
              "      <th>2</th>\n",
              "      <td>Where does Monica work ?</td>\n",
              "      <td>Monica works as a chef at a restaurant called ...</td>\n",
              "      <td>[Yeah. We did? Uh, hi. We uh, we used to work ...</td>\n",
              "      <td>Ross is a character in the TV serial F.R.I.E.N...</td>\n",
              "      <td>0.0</td>\n",
              "      <td>0.986448</td>\n",
              "      <td>0.0</td>\n",
              "      <td>0.0</td>\n",
              "      <td>0.189568</td>\n",
              "    </tr>\n",
              "    <tr>\n",
              "      <th>3</th>\n",
              "      <td>What is the real name of Pheebs ?</td>\n",
              "      <td>Her real name is Phoebe Buffay.</td>\n",
              "      <td>[Yeah. Hey Pheebs, guess who we saw today. Nop...</td>\n",
              "      <td>She is a chef in Central perk</td>\n",
              "      <td>0.0</td>\n",
              "      <td>0.876258</td>\n",
              "      <td>0.0</td>\n",
              "      <td>0.0</td>\n",
              "      <td>0.200536</td>\n",
              "    </tr>\n",
              "  </tbody>\n",
              "</table>\n",
              "</div>\n",
              "    <div class=\"colab-df-buttons\">\n",
              "\n",
              "  <div class=\"colab-df-container\">\n",
              "    <button class=\"colab-df-convert\" onclick=\"convertToInteractive('df-f3534a72-28a9-4ee7-8b39-c17312a8b0f6')\"\n",
              "            title=\"Convert this dataframe to an interactive table.\"\n",
              "            style=\"display:none;\">\n",
              "\n",
              "  <svg xmlns=\"http://www.w3.org/2000/svg\" height=\"24px\" viewBox=\"0 -960 960 960\">\n",
              "    <path d=\"M120-120v-720h720v720H120Zm60-500h600v-160H180v160Zm220 220h160v-160H400v160Zm0 220h160v-160H400v160ZM180-400h160v-160H180v160Zm440 0h160v-160H620v160ZM180-180h160v-160H180v160Zm440 0h160v-160H620v160Z\"/>\n",
              "  </svg>\n",
              "    </button>\n",
              "\n",
              "  <style>\n",
              "    .colab-df-container {\n",
              "      display:flex;\n",
              "      gap: 12px;\n",
              "    }\n",
              "\n",
              "    .colab-df-convert {\n",
              "      background-color: #E8F0FE;\n",
              "      border: none;\n",
              "      border-radius: 50%;\n",
              "      cursor: pointer;\n",
              "      display: none;\n",
              "      fill: #1967D2;\n",
              "      height: 32px;\n",
              "      padding: 0 0 0 0;\n",
              "      width: 32px;\n",
              "    }\n",
              "\n",
              "    .colab-df-convert:hover {\n",
              "      background-color: #E2EBFA;\n",
              "      box-shadow: 0px 1px 2px rgba(60, 64, 67, 0.3), 0px 1px 3px 1px rgba(60, 64, 67, 0.15);\n",
              "      fill: #174EA6;\n",
              "    }\n",
              "\n",
              "    .colab-df-buttons div {\n",
              "      margin-bottom: 4px;\n",
              "    }\n",
              "\n",
              "    [theme=dark] .colab-df-convert {\n",
              "      background-color: #3B4455;\n",
              "      fill: #D2E3FC;\n",
              "    }\n",
              "\n",
              "    [theme=dark] .colab-df-convert:hover {\n",
              "      background-color: #434B5C;\n",
              "      box-shadow: 0px 1px 3px 1px rgba(0, 0, 0, 0.15);\n",
              "      filter: drop-shadow(0px 1px 2px rgba(0, 0, 0, 0.3));\n",
              "      fill: #FFFFFF;\n",
              "    }\n",
              "  </style>\n",
              "\n",
              "    <script>\n",
              "      const buttonEl =\n",
              "        document.querySelector('#df-f3534a72-28a9-4ee7-8b39-c17312a8b0f6 button.colab-df-convert');\n",
              "      buttonEl.style.display =\n",
              "        google.colab.kernel.accessAllowed ? 'block' : 'none';\n",
              "\n",
              "      async function convertToInteractive(key) {\n",
              "        const element = document.querySelector('#df-f3534a72-28a9-4ee7-8b39-c17312a8b0f6');\n",
              "        const dataTable =\n",
              "          await google.colab.kernel.invokeFunction('convertToInteractive',\n",
              "                                                    [key], {});\n",
              "        if (!dataTable) return;\n",
              "\n",
              "        const docLinkHtml = 'Like what you see? Visit the ' +\n",
              "          '<a target=\"_blank\" href=https://colab.research.google.com/notebooks/data_table.ipynb>data table notebook</a>'\n",
              "          + ' to learn more about interactive tables.';\n",
              "        element.innerHTML = '';\n",
              "        dataTable['output_type'] = 'display_data';\n",
              "        await google.colab.output.renderOutput(dataTable, element);\n",
              "        const docLink = document.createElement('div');\n",
              "        docLink.innerHTML = docLinkHtml;\n",
              "        element.appendChild(docLink);\n",
              "      }\n",
              "    </script>\n",
              "  </div>\n",
              "\n",
              "\n",
              "<div id=\"df-4176820b-e5ad-4c94-af4c-e1d676e79396\">\n",
              "  <button class=\"colab-df-quickchart\" onclick=\"quickchart('df-4176820b-e5ad-4c94-af4c-e1d676e79396')\"\n",
              "            title=\"Suggest charts\"\n",
              "            style=\"display:none;\">\n",
              "\n",
              "<svg xmlns=\"http://www.w3.org/2000/svg\" height=\"24px\"viewBox=\"0 0 24 24\"\n",
              "     width=\"24px\">\n",
              "    <g>\n",
              "        <path d=\"M19 3H5c-1.1 0-2 .9-2 2v14c0 1.1.9 2 2 2h14c1.1 0 2-.9 2-2V5c0-1.1-.9-2-2-2zM9 17H7v-7h2v7zm4 0h-2V7h2v10zm4 0h-2v-4h2v4z\"/>\n",
              "    </g>\n",
              "</svg>\n",
              "  </button>\n",
              "\n",
              "<style>\n",
              "  .colab-df-quickchart {\n",
              "      --bg-color: #E8F0FE;\n",
              "      --fill-color: #1967D2;\n",
              "      --hover-bg-color: #E2EBFA;\n",
              "      --hover-fill-color: #174EA6;\n",
              "      --disabled-fill-color: #AAA;\n",
              "      --disabled-bg-color: #DDD;\n",
              "  }\n",
              "\n",
              "  [theme=dark] .colab-df-quickchart {\n",
              "      --bg-color: #3B4455;\n",
              "      --fill-color: #D2E3FC;\n",
              "      --hover-bg-color: #434B5C;\n",
              "      --hover-fill-color: #FFFFFF;\n",
              "      --disabled-bg-color: #3B4455;\n",
              "      --disabled-fill-color: #666;\n",
              "  }\n",
              "\n",
              "  .colab-df-quickchart {\n",
              "    background-color: var(--bg-color);\n",
              "    border: none;\n",
              "    border-radius: 50%;\n",
              "    cursor: pointer;\n",
              "    display: none;\n",
              "    fill: var(--fill-color);\n",
              "    height: 32px;\n",
              "    padding: 0;\n",
              "    width: 32px;\n",
              "  }\n",
              "\n",
              "  .colab-df-quickchart:hover {\n",
              "    background-color: var(--hover-bg-color);\n",
              "    box-shadow: 0 1px 2px rgba(60, 64, 67, 0.3), 0 1px 3px 1px rgba(60, 64, 67, 0.15);\n",
              "    fill: var(--button-hover-fill-color);\n",
              "  }\n",
              "\n",
              "  .colab-df-quickchart-complete:disabled,\n",
              "  .colab-df-quickchart-complete:disabled:hover {\n",
              "    background-color: var(--disabled-bg-color);\n",
              "    fill: var(--disabled-fill-color);\n",
              "    box-shadow: none;\n",
              "  }\n",
              "\n",
              "  .colab-df-spinner {\n",
              "    border: 2px solid var(--fill-color);\n",
              "    border-color: transparent;\n",
              "    border-bottom-color: var(--fill-color);\n",
              "    animation:\n",
              "      spin 1s steps(1) infinite;\n",
              "  }\n",
              "\n",
              "  @keyframes spin {\n",
              "    0% {\n",
              "      border-color: transparent;\n",
              "      border-bottom-color: var(--fill-color);\n",
              "      border-left-color: var(--fill-color);\n",
              "    }\n",
              "    20% {\n",
              "      border-color: transparent;\n",
              "      border-left-color: var(--fill-color);\n",
              "      border-top-color: var(--fill-color);\n",
              "    }\n",
              "    30% {\n",
              "      border-color: transparent;\n",
              "      border-left-color: var(--fill-color);\n",
              "      border-top-color: var(--fill-color);\n",
              "      border-right-color: var(--fill-color);\n",
              "    }\n",
              "    40% {\n",
              "      border-color: transparent;\n",
              "      border-right-color: var(--fill-color);\n",
              "      border-top-color: var(--fill-color);\n",
              "    }\n",
              "    60% {\n",
              "      border-color: transparent;\n",
              "      border-right-color: var(--fill-color);\n",
              "    }\n",
              "    80% {\n",
              "      border-color: transparent;\n",
              "      border-right-color: var(--fill-color);\n",
              "      border-bottom-color: var(--fill-color);\n",
              "    }\n",
              "    90% {\n",
              "      border-color: transparent;\n",
              "      border-bottom-color: var(--fill-color);\n",
              "    }\n",
              "  }\n",
              "</style>\n",
              "\n",
              "  <script>\n",
              "    async function quickchart(key) {\n",
              "      const quickchartButtonEl =\n",
              "        document.querySelector('#' + key + ' button');\n",
              "      quickchartButtonEl.disabled = true;  // To prevent multiple clicks.\n",
              "      quickchartButtonEl.classList.add('colab-df-spinner');\n",
              "      try {\n",
              "        const charts = await google.colab.kernel.invokeFunction(\n",
              "            'suggestCharts', [key], {});\n",
              "      } catch (error) {\n",
              "        console.error('Error during call to suggestCharts:', error);\n",
              "      }\n",
              "      quickchartButtonEl.classList.remove('colab-df-spinner');\n",
              "      quickchartButtonEl.classList.add('colab-df-quickchart-complete');\n",
              "    }\n",
              "    (() => {\n",
              "      let quickchartButtonEl =\n",
              "        document.querySelector('#df-4176820b-e5ad-4c94-af4c-e1d676e79396 button');\n",
              "      quickchartButtonEl.style.display =\n",
              "        google.colab.kernel.accessAllowed ? 'block' : 'none';\n",
              "    })();\n",
              "  </script>\n",
              "</div>\n",
              "\n",
              "    </div>\n",
              "  </div>\n"
            ],
            "application/vnd.google.colaboratory.intrinsic+json": {
              "type": "dataframe",
              "summary": "{\n  \"name\": \"results\",\n  \"rows\": 4,\n  \"fields\": [\n    {\n      \"column\": \"question\",\n      \"properties\": {\n        \"dtype\": \"string\",\n        \"num_unique_values\": 4,\n        \"samples\": [\n          \"Who is Chandler's best friend ?Who is Ross ?\",\n          \"What is the real name of Pheebs ?\",\n          \"Where does chandler work ?\"\n        ],\n        \"semantic_type\": \"\",\n        \"description\": \"\"\n      }\n    },\n    {\n      \"column\": \"answer\",\n      \"properties\": {\n        \"dtype\": \"string\",\n        \"num_unique_values\": 4,\n        \"samples\": [\n          \"Chandler's best friend is Joey, and Ross is Monica's brother.\",\n          \"Her real name is Phoebe Buffay.\",\n          \"Chandler works in advertising as a statistical analysis and data reconfiguration.\"\n        ],\n        \"semantic_type\": \"\",\n        \"description\": \"\"\n      }\n    },\n    {\n      \"column\": \"contexts\",\n      \"properties\": {\n        \"dtype\": \"object\",\n        \"semantic_type\": \"\",\n        \"description\": \"\"\n      }\n    },\n    {\n      \"column\": \"ground_truth\",\n      \"properties\": {\n        \"dtype\": \"string\",\n        \"num_unique_values\": 4,\n        \"samples\": [\n          \"Ross is Chandler's best friend\",\n          \"She is a chef in Central perk\",\n          \"Chandler works at a consultancy firm\"\n        ],\n        \"semantic_type\": \"\",\n        \"description\": \"\"\n      }\n    },\n    {\n      \"column\": \"faithfulness\",\n      \"properties\": {\n        \"dtype\": \"number\",\n        \"std\": 0.0,\n        \"min\": 0.0,\n        \"max\": 0.0,\n        \"num_unique_values\": 1,\n        \"samples\": [\n          0.0\n        ],\n        \"semantic_type\": \"\",\n        \"description\": \"\"\n      }\n    },\n    {\n      \"column\": \"answer_relevancy\",\n      \"properties\": {\n        \"dtype\": \"number\",\n        \"std\": 0.045194103049750425,\n        \"min\": 0.8762583844486668,\n        \"max\": 0.9864475172568552,\n        \"num_unique_values\": 4,\n        \"samples\": [\n          0.9305429209680849\n        ],\n        \"semantic_type\": \"\",\n        \"description\": \"\"\n      }\n    },\n    {\n      \"column\": \"context_recall\",\n      \"properties\": {\n        \"dtype\": \"number\",\n        \"std\": 0.0,\n        \"min\": 0.0,\n        \"max\": 0.0,\n        \"num_unique_values\": 1,\n        \"samples\": [\n          0.0\n        ],\n        \"semantic_type\": \"\",\n        \"description\": \"\"\n      }\n    },\n    {\n      \"column\": \"context_precision\",\n      \"properties\": {\n        \"dtype\": \"number\",\n        \"std\": 0.49999999995,\n        \"min\": 0.0,\n        \"max\": 0.9999999999,\n        \"num_unique_values\": 2,\n        \"samples\": [\n          0.9999999999\n        ],\n        \"semantic_type\": \"\",\n        \"description\": \"\"\n      }\n    },\n    {\n      \"column\": \"answer_correctness\",\n      \"properties\": {\n        \"dtype\": \"number\",\n        \"std\": 0.19989514155677085,\n        \"min\": 0.18956751197655408,\n        \"max\": 0.6050644644733307,\n        \"num_unique_values\": 4,\n        \"samples\": [\n          0.6050644644733307\n        ],\n        \"semantic_type\": \"\",\n        \"description\": \"\"\n      }\n    }\n  ]\n}"
            }
          },
          "metadata": {},
          "execution_count": 35
        }
      ]
    },
    {
      "cell_type": "code",
      "source": [],
      "metadata": {
        "id": "y2oEWcZyxQeI"
      },
      "execution_count": null,
      "outputs": []
    }
  ]
}